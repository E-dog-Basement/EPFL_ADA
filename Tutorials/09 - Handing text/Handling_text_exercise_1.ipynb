{
 "cells": [
  {
   "cell_type": "markdown",
   "metadata": {
    "pycharm": {
     "name": "#%% md\n"
    }
   },
   "source": [
    "# Handling text exercise"
   ]
  },
  {
   "cell_type": "markdown",
   "metadata": {
    "pycharm": {
     "name": "#%% md\n"
    }
   },
   "source": [
    "## Welcome! This exercise consists of:\n",
    "\n",
    "## Part 1: Hands on tutorial\n",
    "1. Implementing the natural language processing pipeline\n",
    "2. Solving four typical language processing tasks:\n",
    "   * Sentiment analysis\n",
    "   * Document classification\n",
    "   * Topic detection\n",
    "   * Semantic analysis\n",
    "\n",
    "\n",
    "### We will be working with four books in plain text:\n",
    "1. Moby-Dick, by Herman Melville\n",
    "2. Frankenstein; or, The Modern Prometheus, by Mary Shelley\n",
    "3. Pride and Prejudice, by Jane Austen\n",
    "4. Dracula, Bram Stoker\n",
    "\n",
    "#### To run this notebook, you need to install the following libraries:\n",
    "\n",
    "conda install nltk gensim spacy <br>\n",
    "pip install pyLDAvis  <br>\n",
    "pip install vaderSentiment  <br>\n",
    "pip install empath <br>\n",
    "python -m spacy download en  <br>\n",
    "python -m nltk.downloader punkt <br>\n",
    "python -m nltk.downloader all-corpora <br>\n",
    "\n",
    "## Part 2: Handling text comprehension questions\n",
    "- You can test your understanding of important NLP concepts. Solutions will be released next week.\n",
    "\n",
    "## Part 3: Coding exercise\n",
    "- When you are done, in \"Handling_text_exercise_2.ipynb\", you will find additional exercises you can work on independently."
   ]
  },
  {
   "cell_type": "code",
   "execution_count": 1,
   "outputs": [
    {
     "name": "stdout",
     "output_type": "stream",
     "text": [
      "Collecting pyLDAvis\r\n",
      "  Using cached pyLDAvis-3.3.1.tar.gz (1.7 MB)\r\n",
      "  Installing build dependencies ... \u001B[?25ldone\r\n",
      "\u001B[?25h  Getting requirements to build wheel ... \u001B[?25ldone\r\n",
      "\u001B[?25h  Installing backend dependencies ... \u001B[?25ldone\r\n",
      "\u001B[?25h  Preparing metadata (pyproject.toml) ... \u001B[?25ldone\r\n",
      "\u001B[?25hRequirement already satisfied: sklearn in /Users/sunyukang/miniforge3/envs/torch-gpu/lib/python3.9/site-packages (from pyLDAvis) (0.0.post1)\r\n",
      "Requirement already satisfied: joblib in /Users/sunyukang/miniforge3/envs/torch-gpu/lib/python3.9/site-packages (from pyLDAvis) (1.2.0)\r\n",
      "Collecting gensim\r\n",
      "  Downloading gensim-4.2.0.tar.gz (23.2 MB)\r\n",
      "\u001B[2K     \u001B[90m━━━━━━━━━━━━━━━━━━━━━━━━━━━━━━━━━━━━━━━━\u001B[0m \u001B[32m23.2/23.2 MB\u001B[0m \u001B[31m19.8 MB/s\u001B[0m eta \u001B[36m0:00:00\u001B[0m00:01\u001B[0m00:01\u001B[0m\r\n",
      "\u001B[?25h  Preparing metadata (setup.py) ... \u001B[?25ldone\r\n",
      "\u001B[?25hCollecting future\r\n",
      "  Downloading future-0.18.2.tar.gz (829 kB)\r\n",
      "\u001B[2K     \u001B[90m━━━━━━━━━━━━━━━━━━━━━━━━━━━━━━━━━━━━━━\u001B[0m \u001B[32m829.2/829.2 kB\u001B[0m \u001B[31m13.0 MB/s\u001B[0m eta \u001B[36m0:00:00\u001B[0ma \u001B[36m0:00:01\u001B[0m\r\n",
      "\u001B[?25h  Preparing metadata (setup.py) ... \u001B[?25ldone\r\n",
      "\u001B[?25hRequirement already satisfied: scipy in /Users/sunyukang/miniforge3/envs/torch-gpu/lib/python3.9/site-packages (from pyLDAvis) (1.9.3)\r\n",
      "Collecting funcy\r\n",
      "  Using cached funcy-1.17-py2.py3-none-any.whl (33 kB)\r\n",
      "Collecting numexpr\r\n",
      "  Downloading numexpr-2.8.4-cp39-cp39-macosx_11_0_arm64.whl (89 kB)\r\n",
      "\u001B[2K     \u001B[90m━━━━━━━━━━━━━━━━━━━━━━━━━━━━━━━━━━━━━━━━\u001B[0m \u001B[32m89.2/89.2 kB\u001B[0m \u001B[31m3.5 MB/s\u001B[0m eta \u001B[36m0:00:00\u001B[0m\r\n",
      "\u001B[?25hRequirement already satisfied: numpy>=1.20.0 in /Users/sunyukang/miniforge3/envs/torch-gpu/lib/python3.9/site-packages (from pyLDAvis) (1.23.5)\r\n",
      "Requirement already satisfied: pandas>=1.2.0 in /Users/sunyukang/miniforge3/envs/torch-gpu/lib/python3.9/site-packages (from pyLDAvis) (1.5.2)\r\n",
      "Requirement already satisfied: setuptools in /Users/sunyukang/miniforge3/envs/torch-gpu/lib/python3.9/site-packages (from pyLDAvis) (65.5.1)\r\n",
      "Requirement already satisfied: scikit-learn in /Users/sunyukang/miniforge3/envs/torch-gpu/lib/python3.9/site-packages (from pyLDAvis) (1.1.3)\r\n",
      "Requirement already satisfied: jinja2 in /Users/sunyukang/miniforge3/envs/torch-gpu/lib/python3.9/site-packages (from pyLDAvis) (3.1.2)\r\n",
      "Requirement already satisfied: pytz>=2020.1 in /Users/sunyukang/miniforge3/envs/torch-gpu/lib/python3.9/site-packages (from pandas>=1.2.0->pyLDAvis) (2022.6)\r\n",
      "Requirement already satisfied: python-dateutil>=2.8.1 in /Users/sunyukang/miniforge3/envs/torch-gpu/lib/python3.9/site-packages (from pandas>=1.2.0->pyLDAvis) (2.8.2)\r\n",
      "Collecting smart_open>=1.8.1\r\n",
      "  Downloading smart_open-6.2.0-py3-none-any.whl (58 kB)\r\n",
      "\u001B[2K     \u001B[90m━━━━━━━━━━━━━━━━━━━━━━━━━━━━━━━━━━━━━━━━\u001B[0m \u001B[32m58.6/58.6 kB\u001B[0m \u001B[31m2.1 MB/s\u001B[0m eta \u001B[36m0:00:00\u001B[0m\r\n",
      "\u001B[?25hRequirement already satisfied: MarkupSafe>=2.0 in /Users/sunyukang/miniforge3/envs/torch-gpu/lib/python3.9/site-packages (from jinja2->pyLDAvis) (2.1.1)\r\n",
      "Requirement already satisfied: threadpoolctl>=2.0.0 in /Users/sunyukang/miniforge3/envs/torch-gpu/lib/python3.9/site-packages (from scikit-learn->pyLDAvis) (3.1.0)\r\n",
      "Requirement already satisfied: six>=1.5 in /Users/sunyukang/miniforge3/envs/torch-gpu/lib/python3.9/site-packages (from python-dateutil>=2.8.1->pandas>=1.2.0->pyLDAvis) (1.16.0)\r\n",
      "Building wheels for collected packages: pyLDAvis, future, gensim\r\n",
      "  Building wheel for pyLDAvis (pyproject.toml) ... \u001B[?25ldone\r\n",
      "\u001B[?25h  Created wheel for pyLDAvis: filename=pyLDAvis-3.3.1-py2.py3-none-any.whl size=136882 sha256=40756c046dbd4e9f856d3ca553b5e2140ad33d61384b7299af8dc80c2f8e4716\r\n",
      "  Stored in directory: /Users/sunyukang/Library/Caches/pip/wheels/1f/ef/46/1dc1c1e5d8ff2f3b44cccaf004cf64488cf82b5c359fbc8efb\r\n",
      "  Building wheel for future (setup.py) ... \u001B[?25ldone\r\n",
      "\u001B[?25h  Created wheel for future: filename=future-0.18.2-py3-none-any.whl size=491059 sha256=f072328f31a74a436b53e88b10c2cc3885a65b20dd899811ac6725a144882b95\r\n",
      "  Stored in directory: /Users/sunyukang/Library/Caches/pip/wheels/96/66/19/2de75120f5d0bc185e9d16cf0fd223d8471ed025de08e45867\r\n",
      "  Building wheel for gensim (setup.py) ... \u001B[?25ldone\r\n",
      "\u001B[?25h  Created wheel for gensim: filename=gensim-4.2.0-cp39-cp39-macosx_11_0_arm64.whl size=23933213 sha256=026e967399050a2b0470e874e8dc20bda37b3ca755b064d75f1959e0e8d10735\r\n",
      "  Stored in directory: /Users/sunyukang/Library/Caches/pip/wheels/3c/19/4e/183586c8f2c1c6902d40fb57489c877433bc825a1bd0dccf3e\r\n",
      "Successfully built pyLDAvis future gensim\r\n",
      "Installing collected packages: funcy, smart_open, numexpr, future, gensim, pyLDAvis\r\n",
      "Successfully installed funcy-1.17 future-0.18.2 gensim-4.2.0 numexpr-2.8.4 pyLDAvis-3.3.1 smart_open-6.2.0\r\n",
      "Requirement already satisfied: vaderSentiment in /Users/sunyukang/miniforge3/envs/torch-gpu/lib/python3.9/site-packages (3.3.2)\r\n",
      "Requirement already satisfied: requests in /Users/sunyukang/miniforge3/envs/torch-gpu/lib/python3.9/site-packages (from vaderSentiment) (2.28.1)\r\n",
      "Requirement already satisfied: certifi>=2017.4.17 in /Users/sunyukang/miniforge3/envs/torch-gpu/lib/python3.9/site-packages (from requests->vaderSentiment) (2022.9.24)\r\n",
      "Requirement already satisfied: urllib3<1.27,>=1.21.1 in /Users/sunyukang/miniforge3/envs/torch-gpu/lib/python3.9/site-packages (from requests->vaderSentiment) (1.26.13)\r\n",
      "Requirement already satisfied: idna<4,>=2.5 in /Users/sunyukang/miniforge3/envs/torch-gpu/lib/python3.9/site-packages (from requests->vaderSentiment) (3.4)\r\n",
      "Requirement already satisfied: charset-normalizer<3,>=2 in /Users/sunyukang/miniforge3/envs/torch-gpu/lib/python3.9/site-packages (from requests->vaderSentiment) (2.1.1)\r\n",
      "Requirement already satisfied: empath in /Users/sunyukang/miniforge3/envs/torch-gpu/lib/python3.9/site-packages (0.89)\r\n",
      "Requirement already satisfied: requests in /Users/sunyukang/miniforge3/envs/torch-gpu/lib/python3.9/site-packages (from empath) (2.28.1)\r\n",
      "Requirement already satisfied: urllib3<1.27,>=1.21.1 in /Users/sunyukang/miniforge3/envs/torch-gpu/lib/python3.9/site-packages (from requests->empath) (1.26.13)\r\n",
      "Requirement already satisfied: charset-normalizer<3,>=2 in /Users/sunyukang/miniforge3/envs/torch-gpu/lib/python3.9/site-packages (from requests->empath) (2.1.1)\r\n",
      "Requirement already satisfied: idna<4,>=2.5 in /Users/sunyukang/miniforge3/envs/torch-gpu/lib/python3.9/site-packages (from requests->empath) (3.4)\r\n",
      "Requirement already satisfied: certifi>=2017.4.17 in /Users/sunyukang/miniforge3/envs/torch-gpu/lib/python3.9/site-packages (from requests->empath) (2022.9.24)\r\n",
      "/Users/sunyukang/miniforge3/envs/torch-gpu/bin/python: No module named spacy\r\n",
      "/Users/sunyukang/miniforge3/envs/torch-gpu/lib/python3.9/runpy.py:127: RuntimeWarning: 'nltk.downloader' found in sys.modules after import of package 'nltk', but prior to execution of 'nltk.downloader'; this may result in unpredictable behaviour\r\n",
      "  warn(RuntimeWarning(msg))\r\n",
      "[nltk_data] Downloading package punkt to /Users/sunyukang/nltk_data...\r\n",
      "[nltk_data]   Package punkt is already up-to-date!\r\n",
      "/Users/sunyukang/miniforge3/envs/torch-gpu/lib/python3.9/runpy.py:127: RuntimeWarning: 'nltk.downloader' found in sys.modules after import of package 'nltk', but prior to execution of 'nltk.downloader'; this may result in unpredictable behaviour\r\n",
      "  warn(RuntimeWarning(msg))\r\n",
      "[nltk_data] Downloading collection 'all-corpora'\r\n",
      "[nltk_data]    | \r\n",
      "[nltk_data]    | Downloading package abc to\r\n",
      "[nltk_data]    |     /Users/sunyukang/nltk_data...\r\n",
      "[nltk_data]    |   Unzipping corpora/abc.zip.\r\n",
      "[nltk_data]    | Downloading package alpino to\r\n",
      "[nltk_data]    |     /Users/sunyukang/nltk_data...\r\n",
      "[nltk_data]    |   Unzipping corpora/alpino.zip.\r\n",
      "[nltk_data]    | Downloading package biocreative_ppi to\r\n",
      "[nltk_data]    |     /Users/sunyukang/nltk_data...\r\n",
      "[nltk_data]    |   Unzipping corpora/biocreative_ppi.zip.\r\n",
      "[nltk_data]    | Downloading package brown to\r\n",
      "[nltk_data]    |     /Users/sunyukang/nltk_data...\r\n",
      "[nltk_data]    |   Unzipping corpora/brown.zip.\r\n",
      "[nltk_data]    | Downloading package brown_tei to\r\n",
      "[nltk_data]    |     /Users/sunyukang/nltk_data...\r\n",
      "[nltk_data]    |   Unzipping corpora/brown_tei.zip.\r\n",
      "[nltk_data]    | Downloading package cess_cat to\r\n",
      "[nltk_data]    |     /Users/sunyukang/nltk_data...\r\n",
      "[nltk_data]    |   Unzipping corpora/cess_cat.zip.\r\n",
      "[nltk_data]    | Downloading package cess_esp to\r\n",
      "[nltk_data]    |     /Users/sunyukang/nltk_data...\r\n",
      "[nltk_data]    |   Unzipping corpora/cess_esp.zip.\r\n",
      "[nltk_data]    | Downloading package chat80 to\r\n",
      "[nltk_data]    |     /Users/sunyukang/nltk_data...\r\n",
      "[nltk_data]    |   Unzipping corpora/chat80.zip.\r\n",
      "[nltk_data]    | Downloading package city_database to\r\n",
      "[nltk_data]    |     /Users/sunyukang/nltk_data...\r\n",
      "[nltk_data]    |   Unzipping corpora/city_database.zip.\r\n",
      "[nltk_data]    | Downloading package cmudict to\r\n",
      "[nltk_data]    |     /Users/sunyukang/nltk_data...\r\n",
      "[nltk_data]    |   Unzipping corpora/cmudict.zip.\r\n",
      "[nltk_data]    | Downloading package comparative_sentences to\r\n",
      "[nltk_data]    |     /Users/sunyukang/nltk_data...\r\n",
      "[nltk_data]    |   Unzipping corpora/comparative_sentences.zip.\r\n",
      "[nltk_data]    | Downloading package comtrans to\r\n",
      "[nltk_data]    |     /Users/sunyukang/nltk_data...\r\n",
      "[nltk_data]    | Downloading package conll2000 to\r\n",
      "[nltk_data]    |     /Users/sunyukang/nltk_data...\r\n",
      "[nltk_data]    |   Unzipping corpora/conll2000.zip.\r\n",
      "[nltk_data]    | Downloading package conll2002 to\r\n",
      "[nltk_data]    |     /Users/sunyukang/nltk_data...\r\n",
      "[nltk_data]    |   Unzipping corpora/conll2002.zip.\r\n",
      "[nltk_data]    | Downloading package conll2007 to\r\n",
      "[nltk_data]    |     /Users/sunyukang/nltk_data...\r\n",
      "[nltk_data]    | Downloading package crubadan to\r\n",
      "[nltk_data]    |     /Users/sunyukang/nltk_data...\r\n",
      "[nltk_data]    |   Unzipping corpora/crubadan.zip.\r\n",
      "[nltk_data]    | Downloading package dependency_treebank to\r\n",
      "[nltk_data]    |     /Users/sunyukang/nltk_data...\r\n",
      "[nltk_data]    |   Unzipping corpora/dependency_treebank.zip.\r\n",
      "[nltk_data]    | Downloading package dolch to\r\n",
      "[nltk_data]    |     /Users/sunyukang/nltk_data...\r\n",
      "[nltk_data]    |   Unzipping corpora/dolch.zip.\r\n",
      "[nltk_data]    | Downloading package europarl_raw to\r\n",
      "[nltk_data]    |     /Users/sunyukang/nltk_data...\r\n",
      "[nltk_data]    |   Unzipping corpora/europarl_raw.zip.\r\n",
      "[nltk_data]    | Downloading package extended_omw to\r\n",
      "[nltk_data]    |     /Users/sunyukang/nltk_data...\r\n",
      "[nltk_data]    | Downloading package floresta to\r\n",
      "[nltk_data]    |     /Users/sunyukang/nltk_data...\r\n",
      "[nltk_data]    |   Unzipping corpora/floresta.zip.\r\n",
      "[nltk_data]    | Downloading package framenet_v15 to\r\n",
      "[nltk_data]    |     /Users/sunyukang/nltk_data...\r\n",
      "[nltk_data]    |   Unzipping corpora/framenet_v15.zip.\r\n",
      "[nltk_data]    | Downloading package framenet_v17 to\r\n",
      "[nltk_data]    |     /Users/sunyukang/nltk_data...\r\n",
      "[nltk_data]    |   Unzipping corpora/framenet_v17.zip.\r\n",
      "[nltk_data]    | Downloading package gazetteers to\r\n",
      "[nltk_data]    |     /Users/sunyukang/nltk_data...\r\n",
      "[nltk_data]    |   Unzipping corpora/gazetteers.zip.\r\n",
      "[nltk_data]    | Downloading package genesis to\r\n",
      "[nltk_data]    |     /Users/sunyukang/nltk_data...\r\n",
      "[nltk_data]    |   Unzipping corpora/genesis.zip.\r\n",
      "[nltk_data]    | Downloading package gutenberg to\r\n",
      "[nltk_data]    |     /Users/sunyukang/nltk_data...\r\n",
      "[nltk_data]    |   Unzipping corpora/gutenberg.zip.\r\n",
      "[nltk_data]    | Downloading package ieer to\r\n",
      "[nltk_data]    |     /Users/sunyukang/nltk_data...\r\n",
      "[nltk_data]    |   Unzipping corpora/ieer.zip.\r\n",
      "[nltk_data]    | Downloading package inaugural to\r\n",
      "[nltk_data]    |     /Users/sunyukang/nltk_data...\r\n",
      "[nltk_data]    |   Unzipping corpora/inaugural.zip.\r\n",
      "[nltk_data]    | Downloading package indian to\r\n",
      "[nltk_data]    |     /Users/sunyukang/nltk_data...\r\n",
      "[nltk_data]    |   Unzipping corpora/indian.zip.\r\n",
      "[nltk_data]    | Downloading package jeita to\r\n",
      "[nltk_data]    |     /Users/sunyukang/nltk_data...\r\n",
      "[nltk_data]    | Downloading package kimmo to\r\n",
      "[nltk_data]    |     /Users/sunyukang/nltk_data...\r\n",
      "[nltk_data]    |   Unzipping corpora/kimmo.zip.\r\n",
      "[nltk_data]    | Downloading package knbc to\r\n",
      "[nltk_data]    |     /Users/sunyukang/nltk_data...\r\n",
      "[nltk_data]    | Downloading package lin_thesaurus to\r\n",
      "[nltk_data]    |     /Users/sunyukang/nltk_data...\r\n",
      "[nltk_data]    |   Unzipping corpora/lin_thesaurus.zip.\r\n",
      "[nltk_data]    | Downloading package mac_morpho to\r\n",
      "[nltk_data]    |     /Users/sunyukang/nltk_data...\r\n",
      "[nltk_data]    |   Unzipping corpora/mac_morpho.zip.\r\n",
      "[nltk_data]    | Downloading package machado to\r\n",
      "[nltk_data]    |     /Users/sunyukang/nltk_data...\r\n",
      "[nltk_data]    | Downloading package masc_tagged to\r\n",
      "[nltk_data]    |     /Users/sunyukang/nltk_data...\r\n",
      "[nltk_data]    | Downloading package movie_reviews to\r\n",
      "[nltk_data]    |     /Users/sunyukang/nltk_data...\r\n",
      "[nltk_data]    |   Unzipping corpora/movie_reviews.zip.\r\n",
      "[nltk_data]    | Downloading package mte_teip5 to\r\n",
      "[nltk_data]    |     /Users/sunyukang/nltk_data...\r\n",
      "[nltk_data]    |   Unzipping corpora/mte_teip5.zip.\r\n",
      "[nltk_data]    | Downloading package names to\r\n",
      "[nltk_data]    |     /Users/sunyukang/nltk_data...\r\n",
      "[nltk_data]    |   Unzipping corpora/names.zip.\r\n",
      "[nltk_data]    | Downloading package nombank.1.0 to\r\n",
      "[nltk_data]    |     /Users/sunyukang/nltk_data...\r\n",
      "[nltk_data]    | Downloading package nonbreaking_prefixes to\r\n",
      "[nltk_data]    |     /Users/sunyukang/nltk_data...\r\n",
      "[nltk_data]    |   Unzipping corpora/nonbreaking_prefixes.zip.\r\n",
      "[nltk_data]    | Downloading package nps_chat to\r\n",
      "[nltk_data]    |     /Users/sunyukang/nltk_data...\r\n",
      "[nltk_data]    |   Unzipping corpora/nps_chat.zip.\r\n",
      "[nltk_data]    | Downloading package omw to\r\n",
      "[nltk_data]    |     /Users/sunyukang/nltk_data...\r\n",
      "[nltk_data]    | Downloading package omw-1.4 to\r\n",
      "[nltk_data]    |     /Users/sunyukang/nltk_data...\r\n",
      "[nltk_data]    | Downloading package opinion_lexicon to\r\n",
      "[nltk_data]    |     /Users/sunyukang/nltk_data...\r\n",
      "[nltk_data]    |   Unzipping corpora/opinion_lexicon.zip.\r\n",
      "[nltk_data]    | Downloading package panlex_swadesh to\r\n",
      "[nltk_data]    |     /Users/sunyukang/nltk_data...\r\n",
      "[nltk_data]    | Downloading package paradigms to\r\n",
      "[nltk_data]    |     /Users/sunyukang/nltk_data...\r\n",
      "[nltk_data]    |   Unzipping corpora/paradigms.zip.\r\n",
      "[nltk_data]    | Downloading package pe08 to\r\n",
      "[nltk_data]    |     /Users/sunyukang/nltk_data...\r\n",
      "[nltk_data]    |   Unzipping corpora/pe08.zip.\r\n",
      "[nltk_data]    | Downloading package pil to\r\n",
      "[nltk_data]    |     /Users/sunyukang/nltk_data...\r\n",
      "[nltk_data]    |   Unzipping corpora/pil.zip.\r\n",
      "[nltk_data]    | Downloading package pl196x to\r\n",
      "[nltk_data]    |     /Users/sunyukang/nltk_data...\r\n",
      "[nltk_data]    |   Unzipping corpora/pl196x.zip.\r\n",
      "[nltk_data]    | Downloading package ppattach to\r\n",
      "[nltk_data]    |     /Users/sunyukang/nltk_data...\r\n",
      "[nltk_data]    |   Unzipping corpora/ppattach.zip.\r\n",
      "[nltk_data]    | Downloading package problem_reports to\r\n",
      "[nltk_data]    |     /Users/sunyukang/nltk_data...\r\n",
      "[nltk_data]    |   Unzipping corpora/problem_reports.zip.\r\n",
      "[nltk_data]    | Downloading package product_reviews_1 to\r\n",
      "[nltk_data]    |     /Users/sunyukang/nltk_data...\r\n",
      "[nltk_data]    |   Unzipping corpora/product_reviews_1.zip.\r\n",
      "[nltk_data]    | Downloading package product_reviews_2 to\r\n",
      "[nltk_data]    |     /Users/sunyukang/nltk_data...\r\n",
      "[nltk_data]    |   Unzipping corpora/product_reviews_2.zip.\r\n",
      "[nltk_data]    | Downloading package propbank to\r\n",
      "[nltk_data]    |     /Users/sunyukang/nltk_data...\r\n",
      "[nltk_data]    | Downloading package pros_cons to\r\n",
      "[nltk_data]    |     /Users/sunyukang/nltk_data...\r\n",
      "[nltk_data]    |   Unzipping corpora/pros_cons.zip.\r\n",
      "[nltk_data]    | Downloading package ptb to\r\n",
      "[nltk_data]    |     /Users/sunyukang/nltk_data...\r\n",
      "[nltk_data]    |   Unzipping corpora/ptb.zip.\r\n",
      "[nltk_data]    | Downloading package qc to\r\n",
      "[nltk_data]    |     /Users/sunyukang/nltk_data...\r\n",
      "[nltk_data]    |   Unzipping corpora/qc.zip.\r\n",
      "[nltk_data]    | Downloading package reuters to\r\n",
      "[nltk_data]    |     /Users/sunyukang/nltk_data...\r\n",
      "[nltk_data]    | Downloading package rte to\r\n",
      "[nltk_data]    |     /Users/sunyukang/nltk_data...\r\n",
      "[nltk_data]    |   Unzipping corpora/rte.zip.\r\n",
      "[nltk_data]    | Downloading package semcor to\r\n",
      "[nltk_data]    |     /Users/sunyukang/nltk_data...\r\n",
      "[nltk_data]    | Downloading package senseval to\r\n",
      "[nltk_data]    |     /Users/sunyukang/nltk_data...\r\n",
      "[nltk_data]    |   Unzipping corpora/senseval.zip.\r\n",
      "[nltk_data]    | Downloading package sentence_polarity to\r\n",
      "[nltk_data]    |     /Users/sunyukang/nltk_data...\r\n",
      "[nltk_data]    |   Unzipping corpora/sentence_polarity.zip.\r\n",
      "[nltk_data]    | Downloading package sentiwordnet to\r\n",
      "[nltk_data]    |     /Users/sunyukang/nltk_data...\r\n",
      "[nltk_data]    |   Unzipping corpora/sentiwordnet.zip.\r\n",
      "[nltk_data]    | Downloading package shakespeare to\r\n",
      "[nltk_data]    |     /Users/sunyukang/nltk_data...\r\n",
      "[nltk_data]    |   Unzipping corpora/shakespeare.zip.\r\n",
      "[nltk_data]    | Downloading package sinica_treebank to\r\n",
      "[nltk_data]    |     /Users/sunyukang/nltk_data...\r\n",
      "[nltk_data]    |   Unzipping corpora/sinica_treebank.zip.\r\n",
      "[nltk_data]    | Downloading package smultron to\r\n",
      "[nltk_data]    |     /Users/sunyukang/nltk_data...\r\n",
      "[nltk_data]    |   Unzipping corpora/smultron.zip.\r\n",
      "[nltk_data]    | Downloading package state_union to\r\n",
      "[nltk_data]    |     /Users/sunyukang/nltk_data...\r\n",
      "[nltk_data]    |   Unzipping corpora/state_union.zip.\r\n",
      "[nltk_data]    | Downloading package stopwords to\r\n",
      "[nltk_data]    |     /Users/sunyukang/nltk_data...\r\n",
      "[nltk_data]    |   Package stopwords is already up-to-date!\r\n",
      "[nltk_data]    | Downloading package subjectivity to\r\n",
      "[nltk_data]    |     /Users/sunyukang/nltk_data...\r\n",
      "[nltk_data]    |   Unzipping corpora/subjectivity.zip.\r\n",
      "[nltk_data]    | Downloading package swadesh to\r\n",
      "[nltk_data]    |     /Users/sunyukang/nltk_data...\r\n",
      "[nltk_data]    |   Unzipping corpora/swadesh.zip.\r\n",
      "[nltk_data]    | Downloading package switchboard to\r\n",
      "[nltk_data]    |     /Users/sunyukang/nltk_data...\r\n",
      "[nltk_data]    |   Unzipping corpora/switchboard.zip.\r\n",
      "[nltk_data]    | Downloading package timit to\r\n",
      "[nltk_data]    |     /Users/sunyukang/nltk_data...\r\n",
      "[nltk_data]    |   Unzipping corpora/timit.zip.\r\n",
      "[nltk_data]    | Downloading package toolbox to\r\n",
      "[nltk_data]    |     /Users/sunyukang/nltk_data...\r\n",
      "[nltk_data]    |   Unzipping corpora/toolbox.zip.\r\n",
      "[nltk_data]    | Downloading package treebank to\r\n",
      "[nltk_data]    |     /Users/sunyukang/nltk_data...\r\n",
      "[nltk_data]    |   Unzipping corpora/treebank.zip.\r\n",
      "[nltk_data]    | Downloading package twitter_samples to\r\n",
      "[nltk_data]    |     /Users/sunyukang/nltk_data...\r\n",
      "[nltk_data]    |   Unzipping corpora/twitter_samples.zip.\r\n",
      "[nltk_data]    | Downloading package udhr to\r\n",
      "[nltk_data]    |     /Users/sunyukang/nltk_data...\r\n",
      "[nltk_data]    |   Unzipping corpora/udhr.zip.\r\n",
      "[nltk_data]    | Downloading package udhr2 to\r\n",
      "[nltk_data]    |     /Users/sunyukang/nltk_data...\r\n",
      "[nltk_data]    |   Unzipping corpora/udhr2.zip.\r\n",
      "[nltk_data]    | Downloading package unicode_samples to\r\n",
      "[nltk_data]    |     /Users/sunyukang/nltk_data...\r\n",
      "[nltk_data]    |   Unzipping corpora/unicode_samples.zip.\r\n",
      "[nltk_data]    | Downloading package universal_treebanks_v20 to\r\n",
      "[nltk_data]    |     /Users/sunyukang/nltk_data...\r\n",
      "[nltk_data]    | Downloading package verbnet to\r\n",
      "[nltk_data]    |     /Users/sunyukang/nltk_data...\r\n",
      "[nltk_data]    |   Unzipping corpora/verbnet.zip.\r\n",
      "[nltk_data]    | Downloading package verbnet3 to\r\n",
      "[nltk_data]    |     /Users/sunyukang/nltk_data...\r\n",
      "[nltk_data]    |   Unzipping corpora/verbnet3.zip.\r\n",
      "[nltk_data]    | Downloading package webtext to\r\n",
      "[nltk_data]    |     /Users/sunyukang/nltk_data...\r\n",
      "[nltk_data]    |   Unzipping corpora/webtext.zip.\r\n",
      "[nltk_data]    | Downloading package wordnet to\r\n",
      "[nltk_data]    |     /Users/sunyukang/nltk_data...\r\n",
      "[nltk_data]    | Downloading package wordnet2021 to\r\n",
      "[nltk_data]    |     /Users/sunyukang/nltk_data...\r\n",
      "[nltk_data]    | Downloading package wordnet31 to\r\n",
      "[nltk_data]    |     /Users/sunyukang/nltk_data...\r\n",
      "[nltk_data]    | Downloading package wordnet_ic to\r\n",
      "[nltk_data]    |     /Users/sunyukang/nltk_data...\r\n",
      "[nltk_data]    |   Unzipping corpora/wordnet_ic.zip.\r\n",
      "[nltk_data]    | Downloading package words to\r\n",
      "[nltk_data]    |     /Users/sunyukang/nltk_data...\r\n",
      "[nltk_data]    |   Unzipping corpora/words.zip.\r\n",
      "[nltk_data]    | Downloading package ycoe to\r\n",
      "[nltk_data]    |     /Users/sunyukang/nltk_data...\r\n",
      "[nltk_data]    |   Unzipping corpora/ycoe.zip.\r\n",
      "[nltk_data]    | \r\n",
      "[nltk_data]  Done downloading collection all-corpora\r\n"
     ]
    }
   ],
   "source": [
    "!pip install pyLDAvis\n",
    "!pip install vaderSentiment\n",
    "!pip install empath\n",
    "!python -m spacy download en\n",
    "!python -m nltk.downloader punkt\n",
    "!python -m nltk.downloader all-corpora"
   ],
   "metadata": {
    "collapsed": false,
    "pycharm": {
     "name": "#%%\n"
    }
   }
  },
  {
   "cell_type": "markdown",
   "metadata": {
    "pycharm": {
     "name": "#%% md\n"
    }
   },
   "source": [
    "## Part 1"
   ]
  },
  {
   "cell_type": "code",
   "execution_count": 1,
   "metadata": {
    "pycharm": {
     "name": "#%%\n"
    }
   },
   "outputs": [
    {
     "name": "stderr",
     "output_type": "stream",
     "text": [
      "/Users/sunyukang/miniforge3/envs/torch-gpu/lib/python3.9/site-packages/past/builtins/misc.py:45: DeprecationWarning: the imp module is deprecated in favour of importlib; see the module's documentation for alternative uses\n",
      "  from imp import reload\n"
     ]
    }
   ],
   "source": [
    "%load_ext autoreload\n",
    "%autoreload 2\n",
    "\n",
    "import warnings; warnings.simplefilter('ignore')\n",
    "import os, codecs, string, random\n",
    "import numpy as np\n",
    "from numpy.random import seed as random_seed\n",
    "from numpy.random import shuffle as random_shuffle\n",
    "import matplotlib.pyplot as plt\n",
    "%matplotlib inline  \n",
    "\n",
    "seed = 42\n",
    "random.seed(seed)\n",
    "np.random.seed(seed)\n",
    "\n",
    "#NLP libraries\n",
    "import spacy, nltk, gensim, sklearn\n",
    "#import pyLDAvis.gensim\n",
    "import pyLDAvis.gensim_models\n",
    "\n",
    "#Vader\n",
    "import vaderSentiment\n",
    "from vaderSentiment.vaderSentiment import SentimentIntensityAnalyzer\n",
    "\n",
    "#Scikit imports\n",
    "from sklearn.feature_extraction.text import CountVectorizer\n",
    "from sklearn.model_selection import train_test_split\n",
    "from sklearn.model_selection import cross_val_score\n",
    "from sklearn.linear_model import LogisticRegression\n",
    "from sklearn import preprocessing\n",
    "from sklearn.preprocessing import StandardScaler\n",
    "from sklearn.utils import shuffle\n",
    "\n",
    "#The data\n",
    "corpus_root = 'books/'"
   ]
  },
  {
   "cell_type": "markdown",
   "metadata": {
    "pycharm": {
     "name": "#%% md\n"
    }
   },
   "source": [
    "#### In this tutorial we will be working with text in English. The same principles apply, but the methods cannot be applied directly to the text in unknown or other languages. We will be working mainly with the Spacy library."
   ]
  },
  {
   "cell_type": "markdown",
   "metadata": {
    "pycharm": {
     "name": "#%% md\n"
    }
   },
   "source": [
    "Initialize the Spacy analyzer in English"
   ]
  },
  {
   "cell_type": "code",
   "execution_count": 8,
   "metadata": {
    "pycharm": {
     "name": "#%%\n"
    }
   },
   "outputs": [],
   "source": [
    "nlp = spacy.load('en_core_web_sm')"
   ]
  },
  {
   "cell_type": "markdown",
   "metadata": {
    "pycharm": {
     "name": "#%% md\n"
    }
   },
   "source": [
    "Load the books"
   ]
  },
  {
   "cell_type": "code",
   "execution_count": 9,
   "metadata": {
    "pycharm": {
     "name": "#%%\n"
    }
   },
   "outputs": [
    {
     "name": "stdout",
     "output_type": "stream",
     "text": [
      "Moby_Dick.txt\n",
      "Frankenstein.txt\n",
      "DRACULA.txt\n",
      "PRIDE_AND_PREJUDICE.txt\n"
     ]
    }
   ],
   "source": [
    "books = list()\n",
    "\n",
    "for book_file in os.listdir(corpus_root):\n",
    "    if \".txt\" in book_file:\n",
    "        print(book_file)\n",
    "        with codecs.open(os.path.join(corpus_root,book_file),encoding=\"utf8\") as f:\n",
    "            books.append(f.read())"
   ]
  },
  {
   "cell_type": "markdown",
   "metadata": {
    "pycharm": {
     "name": "#%% md\n"
    }
   },
   "source": [
    "Print the beginning of Pride and Prejudice"
   ]
  },
  {
   "cell_type": "code",
   "execution_count": 76,
   "metadata": {
    "pycharm": {
     "name": "#%%\n"
    }
   },
   "outputs": [
    {
     "name": "stdout",
     "output_type": "stream",
     "text": [
      "PRIDE AND PREJUDICE\n",
      "\n",
      "By Jane Austen\n",
      "\n",
      "\n",
      "\n",
      "Chapter 1\n",
      "\n",
      "\n",
      "It is a truth universally acknowledged, that a single man in possession\n",
      "of a good fortune, must be in want of a wife.\n",
      "\n",
      "However little known the feelings or views of such a man may be on his\n",
      "first entering a neighbourhood, this truth is so well fixed in the minds\n",
      "of the surrounding families, that he is considered the rightful property\n",
      "of some one or other of their daughters.\n",
      "\n",
      "“My dear Mr. Bennet,” said his lady to him one day, “have you heard that\n",
      "Netherfield Park is let at last?”\n",
      "\n",
      "Mr. Bennet replied that he had not.\n",
      "\n",
      "“But it is,” returned she;\n"
     ]
    }
   ],
   "source": [
    "print(books[3][0:600])"
   ]
  },
  {
   "cell_type": "markdown",
   "metadata": {
    "pycharm": {
     "name": "#%% md\n"
    }
   },
   "source": [
    "#### Let's remove the new lines"
   ]
  },
  {
   "cell_type": "code",
   "execution_count": 77,
   "metadata": {
    "pycharm": {
     "name": "#%%\n"
    }
   },
   "outputs": [],
   "source": [
    "books = [\" \".join(b.split()) for b in books]"
   ]
  },
  {
   "cell_type": "code",
   "execution_count": 78,
   "metadata": {
    "pycharm": {
     "name": "#%%\n"
    }
   },
   "outputs": [
    {
     "name": "stdout",
     "output_type": "stream",
     "text": [
      "PRIDE AND PREJUDICE By Jane Austen Chapter 1 It is a truth universally acknowledged, that a single man in possession of a good fortune, must be in want of a wife. However little known the feelings or views of such a man may be on his first entering a neighbourhood, this truth is so well fixed in the minds of the surrounding families, that he is considered the rightful property of some one or other of their daughters. “My dear Mr. Bennet,” said his lady to him one day, “have you heard that Netherfield Park is let at last?” Mr. Bennet replied that he had not. “But it is,” returned she; “for Mrs.\n"
     ]
    }
   ],
   "source": [
    "print(books[3][0:600])"
   ]
  },
  {
   "cell_type": "markdown",
   "metadata": {
    "pycharm": {
     "name": "#%% md\n"
    }
   },
   "source": [
    "### Load Frankenstein"
   ]
  },
  {
   "cell_type": "code",
   "execution_count": 11,
   "metadata": {
    "pycharm": {
     "name": "#%%\n"
    }
   },
   "outputs": [],
   "source": [
    "#index all books\n",
    "book = books[1]\n",
    "\n",
    "#put in raw text, get a Spacy object\n",
    "doc = nlp(book)"
   ]
  },
  {
   "cell_type": "markdown",
   "metadata": {
    "pycharm": {
     "name": "#%% md\n"
    }
   },
   "source": [
    "## Let's create our own NLP pipeline with Spacy!"
   ]
  },
  {
   "cell_type": "markdown",
   "metadata": {
    "pycharm": {
     "name": "#%% md\n"
    }
   },
   "source": [
    "### Step 1: Sentence splitting\n",
    "\n",
    "#### May sound trivial, but it's not! (e.g., U.K. or Yahoo!) Spacy uses a statistical model to generate accurate predictions. This works well out of the box for general-purpose text or web text. For social media use dedicated libraries."
   ]
  },
  {
   "cell_type": "code",
   "execution_count": 12,
   "metadata": {
    "pycharm": {
     "name": "#%%\n"
    }
   },
   "outputs": [
    {
     "name": "stdout",
     "output_type": "stream",
     "text": [
      "Sentence 1: Frankenstein,\n",
      "\n",
      "or the Modern Prometheus\n",
      "\n",
      "\n",
      "by\n",
      "\n",
      "Mary Wollstonecraft (Godwin) Shelley\n",
      "\n",
      "\n",
      "\n",
      "\n",
      "Letter 1\n",
      "\n",
      "\n",
      "St. Petersburgh, Dec. 11th, 17--\n",
      "\n",
      "TO Mrs. Saville, England\n",
      "\n",
      "You will rejoice to hear that no disaster has accompanied the\n",
      "commencement of an enterprise which you have regarded with such evil\n",
      "forebodings.   \n",
      "\n",
      "Sentence 2: I arrived here yesterday, and my first task is to assure\n",
      "my dear sister of my welfare and increasing confidence in the success\n",
      "of my undertaking.\n",
      "\n",
      " \n",
      "\n",
      "Sentence 3: I am already far north of London, and as I walk in the streets of\n",
      "Petersburgh, I feel a cold northern breeze play upon my cheeks, which\n",
      "braces my nerves and fills me with delight.   \n",
      "\n"
     ]
    }
   ],
   "source": [
    "sentences = [sent for sent in doc.sents]\n",
    "print('Sentence 1:',sentences[0],'\\n')\n",
    "print('Sentence 2:',sentences[1],'\\n')\n",
    "print('Sentence 3:',sentences[2],'\\n')"
   ]
  },
  {
   "cell_type": "markdown",
   "metadata": {
    "pycharm": {
     "name": "#%% md\n"
    }
   },
   "source": [
    "### Step 2: Tokenization\n",
    "\n",
    "#### The task of splitting a text into meaningful segments called tokens. We segment the sentence into words, punctuation, etc. This is done by first splitting on whitespace characters and them applying rules specific to each language. For example, \"don't\" does not contain whitespace, but should be split into two tokens, \"do\" and \"n't\", while \"U.K.\" should always remain one token and \"but,\" shouldn't."
   ]
  },
  {
   "cell_type": "markdown",
   "metadata": {
    "pycharm": {
     "name": "#%% md\n"
    }
   },
   "source": [
    "### We will analyze the methods on an example sentence first"
   ]
  },
  {
   "cell_type": "code",
   "execution_count": 4,
   "metadata": {
    "pycharm": {
     "name": "#%%\n"
    }
   },
   "outputs": [
    {
     "name": "stdout",
     "output_type": "stream",
     "text": [
      "I am tasty already far north of London, and as I walk in the streets of Petersburgh, I feel a cold northern breeze play upon my cheeks, which braces my nerves and fills me with delight. \n",
      "\n",
      "['I', 'am', 'tasty', 'already', 'far', 'north', 'of', 'London', ',', 'and', 'as', 'I', 'walk', 'in', 'the', 'streets', 'of', 'Petersburgh', ',', 'I', 'feel', 'a', 'cold', 'northern', 'breeze', 'play', 'upon', 'my', 'cheeks', ',', 'which', 'braces', 'my', 'nerves', 'and', 'fills', 'me', 'with', 'delight', '.']\n"
     ]
    }
   ],
   "source": [
    "example = 'I am tasty already far north of London, and as I walk in the streets of Petersburgh, I feel a cold northern breeze play upon my cheeks, which braces my nerves and fills me with delight.'\n",
    "\n",
    "doc = nlp(example)\n",
    "\n",
    "#strings are encoded to hashes\n",
    "tokens = [token.text for token in doc]\n",
    "\n",
    "print(example,'\\n')\n",
    "print(tokens)"
   ]
  },
  {
   "cell_type": "markdown",
   "metadata": {
    "pycharm": {
     "name": "#%% md\n"
    }
   },
   "source": [
    "### Step 3: Part of speech tagging\n",
    "\n",
    "#### The model makes a prediction of which tag or label most likely applies in this context. For example, a word following \"the\" in English is most likely a noun."
   ]
  },
  {
   "cell_type": "code",
   "execution_count": 5,
   "metadata": {
    "pycharm": {
     "name": "#%%\n"
    }
   },
   "outputs": [
    {
     "name": "stdout",
     "output_type": "stream",
     "text": [
      "I am tasty already far north of London, and as I walk in the streets of Petersburgh, I feel a cold northern breeze play upon my cheeks, which braces my nerves and fills me with delight. \n",
      "\n",
      "[('I', 'PRON'), ('am', 'AUX'), ('tasty', 'ADJ'), ('already', 'ADV'), ('far', 'ADV'), ('north', 'ADV'), ('of', 'ADP'), ('London', 'PROPN'), (',', 'PUNCT'), ('and', 'CCONJ'), ('as', 'SCONJ'), ('I', 'PRON'), ('walk', 'VERB'), ('in', 'ADP'), ('the', 'DET'), ('streets', 'NOUN'), ('of', 'ADP'), ('Petersburgh', 'PROPN'), (',', 'PUNCT'), ('I', 'PRON'), ('feel', 'VERB'), ('a', 'DET'), ('cold', 'ADJ'), ('northern', 'ADJ'), ('breeze', 'NOUN'), ('play', 'VERB'), ('upon', 'SCONJ'), ('my', 'PRON'), ('cheeks', 'NOUN'), (',', 'PUNCT'), ('which', 'PRON'), ('braces', 'VERB'), ('my', 'PRON'), ('nerves', 'NOUN'), ('and', 'CCONJ'), ('fills', 'VERB'), ('me', 'PRON'), ('with', 'ADP'), ('delight', 'NOUN'), ('.', 'PUNCT')]\n"
     ]
    }
   ],
   "source": [
    "pos_tagged = [(token.text, token.pos_) for token in doc]\n",
    "\n",
    "print(example,'\\n')\n",
    "print(pos_tagged)"
   ]
  },
  {
   "cell_type": "code",
   "execution_count": 15,
   "metadata": {
    "pycharm": {
     "name": "#%%\n"
    }
   },
   "outputs": [
    {
     "name": "stdout",
     "output_type": "stream",
     "text": [
      "coordinating conjunction\n",
      "adposition\n",
      "determiner\n"
     ]
    }
   ],
   "source": [
    "print(spacy.explain('CCONJ'))\n",
    "print(spacy.explain('ADP'))\n",
    "print(spacy.explain('DET'))"
   ]
  },
  {
   "cell_type": "markdown",
   "metadata": {
    "pycharm": {
     "name": "#%% md\n"
    }
   },
   "source": [
    "### When unsure, see here for more details: http://universaldependencies.org/u/pos/all.html"
   ]
  },
  {
   "cell_type": "markdown",
   "metadata": {
    "pycharm": {
     "name": "#%% md\n"
    }
   },
   "source": [
    "#### More detailed annotation:"
   ]
  },
  {
   "cell_type": "code",
   "execution_count": 16,
   "metadata": {
    "pycharm": {
     "name": "#%%\n"
    }
   },
   "outputs": [
    {
     "name": "stdout",
     "output_type": "stream",
     "text": [
      "[('I', 'PRP'), ('am', 'VBP'), ('already', 'RB'), ('far', 'RB'), ('north', 'RB'), ('of', 'IN'), ('London', 'NNP'), (',', ','), ('and', 'CC'), ('as', 'IN'), ('I', 'PRP'), ('walk', 'VBP'), ('in', 'IN'), ('the', 'DT'), ('streets', 'NNS'), ('of', 'IN'), ('Petersburgh', 'NNP'), (',', ','), ('I', 'PRP'), ('feel', 'VBP'), ('a', 'DT'), ('cold', 'JJ'), ('northern', 'JJ'), ('breeze', 'NN'), ('play', 'VB'), ('upon', 'IN'), ('my', 'PRP$'), ('cheeks', 'NNS'), (',', ','), ('which', 'WDT'), ('braces', 'VBZ'), ('my', 'PRP$'), ('nerves', 'NNS'), ('and', 'CC'), ('fills', 'VBZ'), ('me', 'PRP'), ('with', 'IN'), ('delight', 'NN'), ('.', '.')]\n"
     ]
    }
   ],
   "source": [
    "pos_tagged = [(token.text, token.tag_) for token in doc]\n",
    "\n",
    "print(pos_tagged)"
   ]
  },
  {
   "cell_type": "code",
   "execution_count": 18,
   "metadata": {
    "pycharm": {
     "name": "#%%\n"
    }
   },
   "outputs": [
    {
     "name": "stdout",
     "output_type": "stream",
     "text": [
      "pronoun, personal\n",
      "verb, non-3rd person singular present\n",
      "adverb\n"
     ]
    }
   ],
   "source": [
    "print(spacy.explain('PRP'))\n",
    "print(spacy.explain('VBP'))\n",
    "print(spacy.explain('RB'))\n"
   ]
  },
  {
   "cell_type": "markdown",
   "metadata": {
    "pycharm": {
     "name": "#%% md\n"
    }
   },
   "source": [
    "### Step 4: Named entity recognition\n",
    "\n",
    "#### For example, a person, a country, a product or a book title. Spacy can recognise various types of named entities in a document. This doesn't always work perfectly and might need some tuning later, depending on your use case.\n",
    "\n",
    "Built in entity types: <br>\n",
    "\n",
    "PERSON  People, including fictional.  <br>\n",
    "NORP\tNationalities or religious or political groups. <br>\n",
    "FAC\tBuildings, airports, highways, bridges, etc. <br>\n",
    "ORG\tCompanies, agencies, institutions, etc. <br>\n",
    "GPE\tCountries, cities, states. <br>\n",
    "LOC\tNon-GPE locations, mountain ranges, bodies of water. <br>\n",
    "PRODUCT\tObjects, vehicles, foods, etc. (Not services.) <br>\n",
    "EVENT\tNamed hurricanes, battles, wars, sports events, etc. <br>\n",
    "WORK_OF_ART\tTitles of books, songs, etc. <br>\n",
    "LAW\tNamed documents made into laws. <br>\n",
    "LANGUAGE\tAny named language. <br>\n",
    "DATE\tAbsolute or relative dates or periods. <br>\n",
    "TIME\tTimes smaller than a day. <br>\n",
    "PERCENT\tPercentage, including \"%\". <br>\n",
    "MONEY\tMonetary values, including unit. <br>\n",
    "QUANTITY\tMeasurements, as of weight or distance. <br>\n",
    "ORDINAL\t\"first\", \"second\", etc. <br>\n",
    "CARDINAL\tNumerals that do not fall under another type. <br>"
   ]
  },
  {
   "cell_type": "code",
   "execution_count": 19,
   "metadata": {
    "pycharm": {
     "name": "#%%\n"
    }
   },
   "outputs": [
    {
     "name": "stdout",
     "output_type": "stream",
     "text": [
      "I am already far north of London, and as I walk in the streets of Petersburgh, I feel a cold northern breeze play upon my cheeks, which braces my nerves and fills me with delight. \n",
      "\n",
      "London GPE\n",
      "Petersburgh PERSON\n"
     ]
    }
   ],
   "source": [
    "print(example,'\\n')\n",
    "for ent in doc.ents:\n",
    "    print(ent.text, ent.label_)"
   ]
  },
  {
   "cell_type": "markdown",
   "metadata": {
    "pycharm": {
     "name": "#%% md\n"
    }
   },
   "source": [
    "### Step 5: Removing stop words"
   ]
  },
  {
   "cell_type": "markdown",
   "metadata": {
    "pycharm": {
     "name": "#%% md\n"
    }
   },
   "source": [
    "Let's check out all the stopwords:"
   ]
  },
  {
   "cell_type": "code",
   "execution_count": 21,
   "metadata": {
    "pycharm": {
     "name": "#%%\n"
    }
   },
   "outputs": [
    {
     "name": "stdout",
     "output_type": "stream",
     "text": [
      "Number of stop words: 326\n",
      "First ten stop words: ['some', 'been', 'you', 'why', 'against', 'he', 'further', 'somehow', 'less', 'meanwhile']\n"
     ]
    }
   ],
   "source": [
    "spacy_stopwords = spacy.lang.en.stop_words.STOP_WORDS\n",
    "print('Number of stop words: %d' % len(spacy_stopwords))\n",
    "print('First ten stop words:',list(spacy_stopwords)[:10])"
   ]
  },
  {
   "cell_type": "markdown",
   "metadata": {
    "pycharm": {
     "name": "#%% md\n"
    }
   },
   "source": [
    "Detecting stopwords in the example:"
   ]
  },
  {
   "cell_type": "code",
   "execution_count": 22,
   "metadata": {
    "pycharm": {
     "name": "#%%\n"
    }
   },
   "outputs": [
    {
     "name": "stdout",
     "output_type": "stream",
     "text": [
      "I am already far north of London, and as I walk in the streets of Petersburgh, I feel a cold northern breeze play upon my cheeks, which braces my nerves and fills me with delight. \n",
      "\n",
      "['I', 'am', 'already', 'of', 'and', 'as', 'I', 'in', 'the', 'of', 'I', 'a', 'upon', 'my', 'which', 'my', 'and', 'me', 'with']\n"
     ]
    }
   ],
   "source": [
    "print(example,'\\n')\n",
    "\n",
    "stop_words = [token.text for token in doc if token.is_stop]\n",
    "\n",
    "print(stop_words)"
   ]
  },
  {
   "cell_type": "markdown",
   "metadata": {
    "pycharm": {
     "name": "#%% md\n"
    }
   },
   "source": [
    "#### Sometimes it's useful to define a custom list of stopwords. Other solutions: https://www.ranks.nl/stopwords \n"
   ]
  },
  {
   "cell_type": "markdown",
   "metadata": {
    "pycharm": {
     "name": "#%% md\n"
    }
   },
   "source": [
    "### Step 6: Lemmatization\n",
    "\n",
    "#### A rule-based deterministic lemmatizer maps the surface form of a token to a lemma."
   ]
  },
  {
   "cell_type": "code",
   "execution_count": 23,
   "metadata": {
    "pycharm": {
     "name": "#%%\n"
    }
   },
   "outputs": [
    {
     "name": "stdout",
     "output_type": "stream",
     "text": [
      "I am already far north of London, and as I walk in the streets of Petersburgh, I feel a cold northern breeze play upon my cheeks, which braces my nerves and fills me with delight. \n",
      "\n",
      "am ---> be\n",
      "streets ---> street\n",
      "cheeks ---> cheek\n",
      "braces ---> brace\n",
      "nerves ---> nerve\n",
      "fills ---> fill\n",
      "me ---> I\n"
     ]
    }
   ],
   "source": [
    "print(example,'\\n')\n",
    "for token in doc:\n",
    "    if token.text != token.lemma_:\n",
    "        print(token.text,'--->',token.lemma_)"
   ]
  },
  {
   "cell_type": "markdown",
   "metadata": {
    "pycharm": {
     "name": "#%% md\n"
    }
   },
   "source": [
    "### Step 7: Chunking (shallow parsing)\n",
    "\n",
    "#### Noun chunks are \"base noun phrases\" – flat phrases that have a noun as their head -- a noun plus the words describing the noun – for example, \"the lavish green grass\" or \"the world’s largest tech fund\". "
   ]
  },
  {
   "cell_type": "code",
   "execution_count": 24,
   "metadata": {
    "pycharm": {
     "name": "#%%\n"
    }
   },
   "outputs": [
    {
     "name": "stdout",
     "output_type": "stream",
     "text": [
      "I am already far north of London, and as I walk in the streets of Petersburgh, I feel a cold northern breeze play upon my cheeks, which braces my nerves and fills me with delight. \n",
      "\n",
      "I\n",
      "London\n",
      "I\n",
      "the streets\n",
      "Petersburgh\n",
      "I\n",
      "a cold northern breeze\n",
      "my cheeks\n",
      "which\n",
      "my nerves\n",
      "me\n",
      "delight\n"
     ]
    }
   ],
   "source": [
    "print(example,'\\n')\n",
    "\n",
    "for chunk in doc.noun_chunks:\n",
    "    print(chunk.text)"
   ]
  },
  {
   "cell_type": "markdown",
   "metadata": {
    "pycharm": {
     "name": "#%% md\n"
    }
   },
   "source": [
    "### Step 8: Dependancy parsing\n",
    "\n",
    "#### The terms head and child describe the words connected by an arc in the dependency tree. The type of syntactic relation that connects the child to the head can be obtain through .dep_."
   ]
  },
  {
   "cell_type": "code",
   "execution_count": 25,
   "metadata": {
    "pycharm": {
     "name": "#%%\n"
    }
   },
   "outputs": [
    {
     "name": "stdout",
     "output_type": "stream",
     "text": [
      "I am already far north of London, and as I walk in the streets of Petersburgh, I feel a cold northern breeze play upon my cheeks, which braces my nerves and fills me with delight. \n",
      "\n",
      "Token: I Head: am Children: []\n",
      "Token: am Head: am Children: [I, already, north, ,, and, feel]\n",
      "Token: already Head: am Children: []\n",
      "Token: far Head: north Children: []\n",
      "Token: north Head: am Children: [far, of]\n",
      "Token: of Head: north Children: [London]\n",
      "Token: London Head: of Children: []\n",
      "Token: , Head: am Children: []\n",
      "Token: and Head: am Children: []\n",
      "Token: as Head: walk Children: []\n",
      "Token: I Head: walk Children: []\n",
      "Token: walk Head: feel Children: [as, I, in]\n",
      "Token: in Head: walk Children: [streets]\n",
      "Token: the Head: streets Children: []\n",
      "Token: streets Head: in Children: [the, of]\n",
      "Token: of Head: streets Children: [Petersburgh]\n",
      "Token: Petersburgh Head: of Children: []\n",
      "Token: , Head: feel Children: []\n",
      "Token: I Head: feel Children: []\n",
      "Token: feel Head: am Children: [walk, ,, I, play, .]\n",
      "Token: a Head: breeze Children: []\n",
      "Token: cold Head: breeze Children: []\n",
      "Token: northern Head: breeze Children: []\n",
      "Token: breeze Head: play Children: [a, cold, northern]\n",
      "Token: play Head: feel Children: [breeze, upon]\n",
      "Token: upon Head: play Children: [cheeks]\n",
      "Token: my Head: cheeks Children: []\n",
      "Token: cheeks Head: upon Children: [my, ,, braces]\n",
      "Token: , Head: cheeks Children: []\n",
      "Token: which Head: braces Children: []\n",
      "Token: braces Head: cheeks Children: [which, nerves, and, fills]\n",
      "Token: my Head: nerves Children: []\n",
      "Token: nerves Head: braces Children: [my]\n",
      "Token: and Head: braces Children: []\n",
      "Token: fills Head: braces Children: [me, with]\n",
      "Token: me Head: fills Children: []\n",
      "Token: with Head: fills Children: [delight]\n",
      "Token: delight Head: with Children: []\n",
      "Token: . Head: feel Children: []\n"
     ]
    }
   ],
   "source": [
    "print(example,'\\n')\n",
    "\n",
    "for token in doc:\n",
    "    print('Token:',token.text,'Head:',token.head.text, 'Children:',[child for child in token.children])"
   ]
  },
  {
   "cell_type": "markdown",
   "metadata": {
    "pycharm": {
     "name": "#%% md\n"
    }
   },
   "source": [
    "### Counting word occurences"
   ]
  },
  {
   "cell_type": "code",
   "execution_count": 27,
   "metadata": {
    "pycharm": {
     "name": "#%%\n"
    }
   },
   "outputs": [
    {
     "name": "stdout",
     "output_type": "stream",
     "text": [
      "I am already far north of London, and as I walk in the streets of Petersburgh, I feel a cold northern breeze play upon my cheeks, which braces my nerves and fills me with delight. \n",
      "\n",
      "[('I', 3), (',', 3), ('of', 2), ('and', 2), ('my', 2), ('am', 1), ('already', 1), ('far', 1), ('north', 1), ('London', 1), ('as', 1), ('walk', 1), ('in', 1), ('the', 1), ('streets', 1), ('Petersburgh', 1), ('feel', 1), ('a', 1), ('cold', 1), ('northern', 1), ('breeze', 1), ('play', 1), ('upon', 1), ('cheeks', 1), ('which', 1), ('braces', 1), ('nerves', 1), ('fills', 1), ('me', 1), ('with', 1), ('delight', 1), ('.', 1)]\n"
     ]
    }
   ],
   "source": [
    "from collections import Counter\n",
    "\n",
    "print(example,'\\n')\n",
    "words = [token.text for token in doc]\n",
    "\n",
    "# five most common tokens\n",
    "word_freq = Counter(words)\n",
    "common_words = word_freq.most_common()\n",
    "\n",
    "print(common_words)"
   ]
  },
  {
   "cell_type": "markdown",
   "metadata": {
    "pycharm": {
     "name": "#%% md\n"
    }
   },
   "source": [
    "### Without stop words and punctuation"
   ]
  },
  {
   "cell_type": "code",
   "execution_count": 28,
   "metadata": {
    "pycharm": {
     "name": "#%%\n"
    }
   },
   "outputs": [
    {
     "name": "stdout",
     "output_type": "stream",
     "text": [
      "[('far', 1), ('north', 1), ('London', 1), ('walk', 1), ('streets', 1), ('Petersburgh', 1), ('feel', 1), ('cold', 1), ('northern', 1), ('breeze', 1), ('play', 1), ('cheeks', 1), ('braces', 1), ('nerves', 1), ('fills', 1), ('delight', 1)]\n"
     ]
    }
   ],
   "source": [
    "words = [token.text for token in doc if token.is_stop != True and token.is_punct != True]\n",
    "\n",
    "# five most common tokens\n",
    "word_freq = Counter(words)\n",
    "common_words = word_freq.most_common()\n",
    "\n",
    "print(common_words)"
   ]
  },
  {
   "cell_type": "markdown",
   "metadata": {
    "pycharm": {
     "name": "#%% md\n"
    }
   },
   "source": [
    "## Putting all the components together"
   ]
  },
  {
   "cell_type": "markdown",
   "metadata": {
    "pycharm": {
     "name": "#%% md\n"
    }
   },
   "source": [
    "### Under the hood: the pipeline [\"tokenizer\",\"tagger\", \"parser\", \"ner\"]."
   ]
  },
  {
   "cell_type": "markdown",
   "metadata": {
    "pycharm": {
     "name": "#%% md\n"
    }
   },
   "source": [
    "#### The NLP pipeline with Spacy\n",
    "<img src=\"spacy.png\">"
   ]
  },
  {
   "cell_type": "code",
   "execution_count": 29,
   "metadata": {
    "pycharm": {
     "name": "#%%\n"
    }
   },
   "outputs": [],
   "source": [
    "nlp = spacy.load('en_core_web_sm')"
   ]
  },
  {
   "cell_type": "markdown",
   "metadata": {
    "pycharm": {
     "name": "#%% md\n"
    }
   },
   "source": [
    "### If you don't need a particular component of the pipeline – for example, the tagger or the parser, you can disable loading it. This can sometimes make a big difference and improve loading speed. "
   ]
  },
  {
   "cell_type": "code",
   "execution_count": 30,
   "metadata": {
    "pycharm": {
     "name": "#%%\n"
    }
   },
   "outputs": [
    {
     "data": {
      "text/plain": "('tagger', <spacy.pipeline.tagger.Tagger at 0x14804e940>)"
     },
     "execution_count": 30,
     "metadata": {},
     "output_type": "execute_result"
    }
   ],
   "source": [
    "nlp.remove_pipe('parser')\n",
    "nlp.remove_pipe('tagger')"
   ]
  },
  {
   "cell_type": "markdown",
   "metadata": {
    "pycharm": {
     "name": "#%% md\n"
    }
   },
   "source": [
    "# Task 1: Sentiment analysis"
   ]
  },
  {
   "cell_type": "markdown",
   "metadata": {
    "pycharm": {
     "name": "#%% md\n"
    }
   },
   "source": [
    "### Initialize the analyzer. Typically used for data from social media (short sentences)."
   ]
  },
  {
   "cell_type": "code",
   "execution_count": 31,
   "metadata": {
    "pycharm": {
     "name": "#%%\n"
    }
   },
   "outputs": [],
   "source": [
    "analyzer = SentimentIntensityAnalyzer()\n",
    "vs = analyzer.polarity_scores(example)"
   ]
  },
  {
   "cell_type": "markdown",
   "metadata": {
    "pycharm": {
     "name": "#%% md\n"
    }
   },
   "source": [
    "### The sentiment score consits of four values. Neutral, positive and negative sum to one. The final score is obtained by thresholding the compound value (e.g. +/-0.05)."
   ]
  },
  {
   "cell_type": "code",
   "execution_count": 32,
   "metadata": {
    "pycharm": {
     "name": "#%%\n"
    }
   },
   "outputs": [
    {
     "name": "stdout",
     "output_type": "stream",
     "text": [
      "I am already far north of London, and as I walk in the streets of Petersburgh, I feel a cold northern breeze play upon my cheeks, which braces my nerves and fills me with delight. \n",
      "\n",
      "Negative sentiment: 0.035\n",
      "Neutral sentiment: 0.806\n",
      "Positive sentiment: 0.159\n",
      "Compound sentiment: 0.7096\n"
     ]
    }
   ],
   "source": [
    "print(example, '\\n')\n",
    "print('Negative sentiment:',vs['neg'])\n",
    "print('Neutral sentiment:',vs['neu'])\n",
    "print('Positive sentiment:',vs['pos'])\n",
    "print('Compound sentiment:',vs['compound'])"
   ]
  },
  {
   "cell_type": "markdown",
   "metadata": {
    "pycharm": {
     "name": "#%% md\n"
    }
   },
   "source": [
    "### We can now observe the distributions of sentiment across all sentences in the book Pride and Prejudice:"
   ]
  },
  {
   "cell_type": "code",
   "execution_count": 2,
   "metadata": {
    "pycharm": {
     "name": "#%%\n"
    }
   },
   "outputs": [
    {
     "ename": "NameError",
     "evalue": "name 'books' is not defined",
     "output_type": "error",
     "traceback": [
      "\u001B[0;31m---------------------------------------------------------------------------\u001B[0m",
      "\u001B[0;31mNameError\u001B[0m                                 Traceback (most recent call last)",
      "Cell \u001B[0;32mIn [2], line 2\u001B[0m\n\u001B[1;32m      1\u001B[0m nlp \u001B[38;5;241m=\u001B[39m spacy\u001B[38;5;241m.\u001B[39mload(\u001B[38;5;124m'\u001B[39m\u001B[38;5;124men_core_web_sm\u001B[39m\u001B[38;5;124m'\u001B[39m)\n\u001B[0;32m----> 2\u001B[0m doc \u001B[38;5;241m=\u001B[39m nlp(\u001B[43mbooks\u001B[49m[\u001B[38;5;241m3\u001B[39m])\n",
      "\u001B[0;31mNameError\u001B[0m: name 'books' is not defined"
     ]
    }
   ],
   "source": [
    "nlp = spacy.load('en_core_web_sm')\n",
    "doc = nlp(books[3])"
   ]
  },
  {
   "cell_type": "code",
   "execution_count": 35,
   "metadata": {
    "pycharm": {
     "name": "#%%\n"
    }
   },
   "outputs": [
    {
     "data": {
      "text/plain": "<Figure size 640x480 with 1 Axes>",
      "image/png": "[encoded data removed]"
     },
     "metadata": {},
     "output_type": "display_data"
    }
   ],
   "source": [
    "positive_sent = []\n",
    "#iterate through the sentences, get polarity scores, choose a value\n",
    "[positive_sent.append(analyzer.polarity_scores(sent.text)['pos']) for sent in doc.sents]\n",
    "plt.hist(positive_sent,bins=15)\n",
    "plt.xlim([0,1])\n",
    "plt.ylim([0,8000])\n",
    "plt.xlabel('Positive sentiment')\n",
    "plt.ylabel('Number of sentences')\n",
    "plt.show()"
   ]
  },
  {
   "cell_type": "code",
   "execution_count": 100,
   "metadata": {
    "pycharm": {
     "name": "#%%\n"
    }
   },
   "outputs": [
    {
     "data": {
      "text/plain": [
       "Text(0, 0.5, 'Number of sentences')"
      ]
     },
     "execution_count": 100,
     "metadata": {},
     "output_type": "execute_result"
    },
    {
     "data": {
      "image/png": "[encoded data removed]",
      "text/plain": [
       "<Figure size 640x480 with 1 Axes>"
      ]
     },
     "metadata": {},
     "output_type": "display_data"
    }
   ],
   "source": [
    "negative_sent = []\n",
    "[negative_sent.append(analyzer.polarity_scores(sent.text)['neg']) for sent in doc.sents]\n",
    "plt.hist(negative_sent,bins=15)\n",
    "plt.xlim([0,1])\n",
    "plt.ylim([0,8000])\n",
    "plt.xlabel('Negative sentiment')\n",
    "plt.ylabel('Number of sentences')"
   ]
  },
  {
   "cell_type": "code",
   "execution_count": 37,
   "metadata": {
    "pycharm": {
     "name": "#%%\n"
    }
   },
   "outputs": [
    {
     "data": {
      "text/plain": "Text(0, 0.5, 'Number of sentences')"
     },
     "execution_count": 37,
     "metadata": {},
     "output_type": "execute_result"
    },
    {
     "data": {
      "text/plain": "<Figure size 640x480 with 1 Axes>",
      "image/png": "[encoded data removed]"
     },
     "metadata": {},
     "output_type": "display_data"
    }
   ],
   "source": [
    "total_sent = []\n",
    "[total_sent.append(analyzer.polarity_scores(sent.text)['compound']) for sent in doc.sents]\n",
    "plt.hist(total_sent,bins = 15)\n",
    "plt.xlim([-1,1])\n",
    "plt.ylim([0,8000])\n",
    "plt.xlabel('Compound sentiment')\n",
    "plt.ylabel('Number of sentences')"
   ]
  },
  {
   "cell_type": "code",
   "execution_count": 102,
   "metadata": {
    "pycharm": {
     "name": "#%%\n"
    }
   },
   "outputs": [
    {
     "name": "stdout",
     "output_type": "stream",
     "text": [
      "Number of positive sentences: 2734\n",
      "Number of negative sentences: 1341\n",
      "Number of neutral sentences: 1841\n"
     ]
    }
   ],
   "source": [
    "sents = [analyzer.polarity_scores(sent.text)['compound'] for sent in doc.sents]\n",
    "print('Number of positive sentences:',sum(np.array(sents)>=0.05))\n",
    "print('Number of negative sentences:',sum(np.array(sents)<=-0.05))\n",
    "print('Number of neutral sentences:',sum(np.abs(np.array(sents))<0.05))"
   ]
  },
  {
   "cell_type": "markdown",
   "metadata": {
    "pycharm": {
     "name": "#%% md\n"
    }
   },
   "source": [
    "#### Most of the sentences are quite neutral in sentiment. This is not the case when working with data from other sources (e.g., in social media opinions are strong and polarized (bimodal distribution))."
   ]
  },
  {
   "cell_type": "markdown",
   "metadata": {
    "pycharm": {
     "name": "#%% md\n"
    }
   },
   "source": [
    "# Task 2: Document classification: Can we detect paragraphs from Frankenstein?"
   ]
  },
  {
   "cell_type": "code",
   "execution_count": 39,
   "metadata": {
    "pycharm": {
     "name": "#%%\n"
    }
   },
   "outputs": [
    {
     "name": "stdout",
     "output_type": "stream",
     "text": [
      "['DRACULA.txt', 'Frankenstein.txt', 'Moby_Dick.txt', 'PRIDE_AND_PREJUDICE.txt']\n"
     ]
    }
   ],
   "source": [
    "# Let's load our corpus via NLTK this time\n",
    "from nltk.corpus import PlaintextCorpusReader\n",
    "?PlaintextCorpusReader\n",
    "our_books = PlaintextCorpusReader(corpus_root, '.*.txt')\n",
    "print(our_books.fileids())"
   ]
  },
  {
   "cell_type": "markdown",
   "metadata": {
    "pycharm": {
     "name": "#%% md\n"
    }
   },
   "source": [
    "### We will segment the books into equally long chunks"
   ]
  },
  {
   "cell_type": "code",
   "execution_count": 41,
   "outputs": [
    {
     "data": {
      "text/plain": "{'DRACULA.txt': 0,\n 'Frankenstein.txt': 1,\n 'Moby_Dick.txt': 2,\n 'PRIDE_AND_PREJUDICE.txt': 3}"
     },
     "execution_count": 41,
     "metadata": {},
     "output_type": "execute_result"
    }
   ],
   "source": [
    "book_id"
   ],
   "metadata": {
    "collapsed": false,
    "pycharm": {
     "name": "#%%\n"
    }
   }
  },
  {
   "cell_type": "code",
   "execution_count": 40,
   "metadata": {
    "pycharm": {
     "name": "#%%\n"
    }
   },
   "outputs": [
    {
     "name": "stdout",
     "output_type": "stream",
     "text": [
      "DRACULA.txt :\n",
      "Number of sentences: 9303\n",
      "Number of chunks: 187 \n",
      "\n",
      "Frankenstein.txt :\n",
      "Number of sentences: 3378\n",
      "Number of chunks: 68 \n",
      "\n",
      "Moby_Dick.txt :\n",
      "Number of sentences: 9609\n",
      "Number of chunks: 193 \n",
      "\n",
      "PRIDE_AND_PREJUDICE.txt :\n",
      "Number of sentences: 6055\n",
      "Number of chunks: 122 \n",
      "\n"
     ]
    }
   ],
   "source": [
    "def get_chunks(l, n):\n",
    "    \"\"\"Yield successive n-sized chunks from l.\"\"\"\n",
    "    for i in range(0, len(l), n):\n",
    "        yield l[i:i + n]\n",
    "\n",
    "\n",
    "# Get the data\n",
    "book_id = {f:n for n,f in enumerate(our_books.fileids())} # dictionary of books\n",
    "\n",
    "chunks = list()\n",
    "chunk_class = list() # this list contains the original book of the chunk, for evaluation\n",
    "\n",
    "limit = 500 # how many chunks total\n",
    "size = 50 # how many sentences per chunk/page\n",
    "\n",
    "for f in our_books.fileids():\n",
    "    sentences = our_books.sents(f)\n",
    "    print(f,\":\")\n",
    "    print('Number of sentences:',len(sentences))\n",
    "    \n",
    "    # create chunks\n",
    "    chunks_of_sents = [x for x in get_chunks(sentences,size)] # this is a list of lists of sentences, which are a list of tokens\n",
    "    chs = list()\n",
    "    \n",
    "    # regroup so to have a list of chunks which are strings\n",
    "    for c in chunks_of_sents:\n",
    "        grouped_chunk = list()\n",
    "        for s in c:\n",
    "            grouped_chunk.extend(s)\n",
    "        chs.append(\" \".join(grouped_chunk))\n",
    "    print(\"Number of chunks:\",len(chs),'\\n')\n",
    "    \n",
    "    # filter to the limit, to have the same number of chunks per book\n",
    "    chunks.extend(chs[:limit])\n",
    "    chunk_class.extend([book_id[f] for _ in range(len(chs[:limit]))])"
   ]
  },
  {
   "cell_type": "markdown",
   "metadata": {
    "pycharm": {
     "name": "#%% md\n"
    }
   },
   "source": [
    "### Representing the chunks with bag-of-words"
   ]
  },
  {
   "cell_type": "code",
   "execution_count": 43,
   "metadata": {
    "pycharm": {
     "name": "#%%\n"
    }
   },
   "outputs": [
    {
     "name": "stdout",
     "output_type": "stream",
     "text": [
      "Number of samples: 570\n",
      "Number of features: 23116\n"
     ]
    }
   ],
   "source": [
    "vectorizer = CountVectorizer()\n",
    "\n",
    "#initialize and specify minumum number of occurences to avoid untractable number of features\n",
    "#vectorizer = CountVectorizer(min_df = 2) if we want high frequency\n",
    "\n",
    "#create bag of words features\n",
    "X = vectorizer.fit_transform(chunks)\n",
    "\n",
    "print('Number of samples:',X.toarray().shape[0])\n",
    "print('Number of features:',X.toarray().shape[1])\n",
    "\n",
    "#mask and convert to int Frankenstein\n",
    "Y = np.array(chunk_class) == 1\n",
    "Y = Y.astype(int)  \n",
    "\n",
    "#shuffle the data\n",
    "X, Y = shuffle(X, Y, random_state=0)\n",
    "\n",
    "#split into training and test set\n",
    "X_train, X_test, Y_train, Y_test = train_test_split(X, Y, test_size=0.2, random_state=42)"
   ]
  },
  {
   "cell_type": "markdown",
   "metadata": {
    "pycharm": {
     "name": "#%% md\n"
    }
   },
   "source": [
    "### Let's fit the regularized logistic regression. We will crossvalidate the regularization parameter on the training set."
   ]
  },
  {
   "cell_type": "code",
   "execution_count": 45,
   "metadata": {
    "pycharm": {
     "name": "#%%\n"
    }
   },
   "outputs": [],
   "source": [
    "accs = []\n",
    "\n",
    "#the grid of regularization parameter \n",
    "grid = [0.01,0.1,1,10,100,1000,10000]\n",
    "\n",
    "for c in grid:\n",
    "    \n",
    "    #initialize the classifier\n",
    "    clf = LogisticRegression(random_state=0, solver='lbfgs',C = c)\n",
    "    \n",
    "    #crossvalidate\n",
    "    scores = cross_val_score(clf, X_train,Y_train, cv=10)\n",
    "    accs.append(np.mean(scores))"
   ]
  },
  {
   "cell_type": "code",
   "execution_count": 46,
   "metadata": {
    "pycharm": {
     "name": "#%%\n"
    }
   },
   "outputs": [
    {
     "data": {
      "text/plain": "<Figure size 640x480 with 1 Axes>",
      "image/png": "[encoded data removed]"
     },
     "metadata": {},
     "output_type": "display_data"
    }
   ],
   "source": [
    "plt.plot(accs)\n",
    "plt.xticks(range(len(grid)), grid)\n",
    "plt.xlabel('Regularization parameter \\n (Low - strong regularization, High - weak regularization)')\n",
    "plt.ylabel('Crossvalidation accuracy')\n",
    "plt.ylim([0.986,1])\n",
    "plt.show()"
   ]
  },
  {
   "cell_type": "markdown",
   "metadata": {
    "pycharm": {
     "name": "#%% md\n"
    }
   },
   "source": [
    "### Let's train again, on the entire training set, with the chosen regularization parameter. We will test on the test set"
   ]
  },
  {
   "cell_type": "code",
   "execution_count": 47,
   "metadata": {
    "pycharm": {
     "name": "#%%\n"
    }
   },
   "outputs": [
    {
     "name": "stdout",
     "output_type": "stream",
     "text": [
      "Accuracy: 0.9824561403508771\n"
     ]
    }
   ],
   "source": [
    "clf = LogisticRegression(random_state=0, solver='lbfgs',C = 10).fit(X_train,Y_train)\n",
    "\n",
    "#predict on the test set\n",
    "print('Accuracy:',clf.score(X_test,Y_test))"
   ]
  },
  {
   "cell_type": "markdown",
   "metadata": {
    "pycharm": {
     "name": "#%% md\n"
    }
   },
   "source": [
    "### What features characterize Frankenstein? BOW are interpretable!"
   ]
  },
  {
   "cell_type": "code",
   "execution_count": 48,
   "metadata": {
    "pycharm": {
     "name": "#%%\n"
    }
   },
   "outputs": [
    {
     "name": "stdout",
     "output_type": "stream",
     "text": [
      "['frankenstein' 'towards' 'death' 'creature' 'poor' 'father' 'of' 'this'\n",
      " 'by' 'misery' 'but' 'who' 'my' 'me' 'which' 'will' 'justine' 'and' 'yet'\n",
      " 'had']\n"
     ]
    }
   ],
   "source": [
    "coefs=clf.coef_[0]\n",
    "top_three = np.argpartition(coefs, -20)[-20:]\n",
    "\n",
    "print(np.array(vectorizer.get_feature_names())[top_three])"
   ]
  },
  {
   "cell_type": "markdown",
   "metadata": {
    "pycharm": {
     "name": "#%% md\n"
    }
   },
   "source": [
    "### We can perfectly predict paragraphs from Frankenstein! We saw issues of high dimensionality when using bag of words (more features than samples) and how regularization helps."
   ]
  },
  {
   "cell_type": "markdown",
   "metadata": {
    "pycharm": {
     "name": "#%% md\n"
    }
   },
   "source": [
    "### Alternative text representation: word emdeddings, pretrained on intergraded in Spacy (300-dimensional word vectors trained on Common Crawl with GloVe.) Depending on the application, might be suitable or not"
   ]
  },
  {
   "cell_type": "code",
   "execution_count": 49,
   "metadata": {
    "pycharm": {
     "name": "#%%\n"
    }
   },
   "outputs": [
    {
     "name": "stdout",
     "output_type": "stream",
     "text": [
      "I am already far north of London, and as I walk in the streets of Petersburgh, I feel a cold northern breeze play upon my cheeks, which braces my nerves and fills me with delight. \n",
      "\n",
      "Embedding representation: [0.049037702, 0.13703467, 0.30768865, -0.20483729, -0.16568789, -0.06900882, -0.13494377, -0.1302375, 0.15460849, -0.10217007] ...\n"
     ]
    }
   ],
   "source": [
    "print(example,'\\n')\n",
    "print('Embedding representation:',list((nlp(example).vector)[0:10]),'...')"
   ]
  },
  {
   "cell_type": "markdown",
   "metadata": {
    "pycharm": {
     "name": "#%% md\n"
    }
   },
   "source": [
    "# Task 3: Topic detection"
   ]
  },
  {
   "cell_type": "code",
   "execution_count": 50,
   "metadata": {
    "pycharm": {
     "name": "#%%\n"
    }
   },
   "outputs": [
    {
     "name": "stdout",
     "output_type": "stream",
     "text": [
      "DRACULA.txt\n",
      "Number of sentences: 9303\n",
      "Number of chunks: 187 \n",
      "\n",
      "Frankenstein.txt\n",
      "Number of sentences: 3378\n",
      "Number of chunks: 68 \n",
      "\n",
      "Moby_Dick.txt\n",
      "Number of sentences: 9609\n",
      "Number of chunks: 193 \n",
      "\n",
      "PRIDE_AND_PREJUDICE.txt\n",
      "Number of sentences: 6055\n",
      "Number of chunks: 122 \n",
      "\n"
     ]
    }
   ],
   "source": [
    "# Get the chunks again (into smaller chunks)\n",
    "book_id = {f:n for n,f in enumerate(our_books.fileids())} # dictionary of books\n",
    "chunks = list()\n",
    "chunk_class = list() # this list contains the original book of the chunk, for evaluation\n",
    "\n",
    "limit = 60 # how many chunks total\n",
    "size = 50 # how many sentences per chunk/page\n",
    "\n",
    "for f in our_books.fileids():\n",
    "    sentences = our_books.sents(f)\n",
    "    print(f)\n",
    "    print('Number of sentences:',len(sentences))\n",
    "    \n",
    "    # create chunks\n",
    "    chunks_of_sents = [x for x in get_chunks(sentences,size)] # this is a list of lists of sentences, which are a list of tokens\n",
    "    chs = list()\n",
    "    \n",
    "    # regroup so to have a list of chunks which are strings\n",
    "    for c in chunks_of_sents:\n",
    "        grouped_chunk = list()\n",
    "        for s in c:\n",
    "            grouped_chunk.extend(s)\n",
    "        chs.append(\" \".join(grouped_chunk))\n",
    "    print(\"Number of chunks:\",len(chs),'\\n')\n",
    "    \n",
    "    # filter to the limit, to have the same number of chunks per book\n",
    "    chunks.extend(chs[:limit])\n",
    "    chunk_class.extend([book_id[f] for _ in range(len(chs[:limit]))])"
   ]
  },
  {
   "cell_type": "code",
   "execution_count": 51,
   "metadata": {
    "pycharm": {
     "name": "#%%\n"
    }
   },
   "outputs": [],
   "source": [
    "STOPWORDS = spacy.lang.en.stop_words.STOP_WORDS\n",
    "\n",
    "processed_docs = list()\n",
    "for doc in nlp.pipe(chunks, n_process=5, batch_size=10):\n",
    "\n",
    "    # Process document using Spacy NLP pipeline.\n",
    "    ents = doc.ents  # Named entities\n",
    "\n",
    "    # Keep only words (no numbers, no punctuation).\n",
    "    # Lemmatize tokens, remove punctuation and remove stopwords.\n",
    "    doc = [token.lemma_ for token in doc if token.is_alpha and not token.is_stop]\n",
    "\n",
    "    # Remove common words from a stopword list and keep only words of length 3 or more.\n",
    "    doc = [token for token in doc if token not in STOPWORDS and len(token) > 2]\n",
    "\n",
    "    # Add named entities, but only if they are a compound of more than word.\n",
    "    doc.extend([str(entity) for entity in ents if len(entity) > 1])\n",
    "\n",
    "    processed_docs.append(doc)\n",
    "docs = processed_docs\n",
    "del processed_docs"
   ]
  },
  {
   "cell_type": "code",
   "execution_count": 52,
   "metadata": {
    "pycharm": {
     "name": "#%%\n"
    }
   },
   "outputs": [],
   "source": [
    "# Add bigrams too\n",
    "from gensim.models.phrases import Phrases\n",
    "\n",
    "# Add bigrams to docs (only ones that appear 15 times or more).\n",
    "bigram = Phrases(docs, min_count=15)\n",
    "\n",
    "for idx in range(len(docs)):\n",
    "    for token in bigram[docs[idx]]:\n",
    "        if '_' in token:\n",
    "            # Token is a bigram, add to document.\n",
    "            docs[idx].append(token)"
   ]
  },
  {
   "cell_type": "code",
   "execution_count": 53,
   "metadata": {
    "pycharm": {
     "name": "#%%\n"
    }
   },
   "outputs": [
    {
     "name": "stdout",
     "output_type": "stream",
     "text": [
      "Number of unique tokens: 3081\n",
      "Number of chunks: 240\n"
     ]
    }
   ],
   "source": [
    "# Create a dictionary representation of the documents, and filter out frequent and rare words.\n",
    "from gensim.corpora import Dictionary\n",
    "dictionary = Dictionary(docs)\n",
    "\n",
    "# Remove rare and common tokens.\n",
    "# Filter out words that occur too frequently or too rarely.\n",
    "max_freq = 0.5\n",
    "min_wordcount = 5\n",
    "dictionary.filter_extremes(no_below=min_wordcount, no_above=max_freq)\n",
    "\n",
    "# Bag-of-words representation of the documents.\n",
    "corpus = [dictionary.doc2bow(doc) for doc in docs]\n",
    "#MmCorpus.serialize(\"models/corpus.mm\", corpus)\n",
    "\n",
    "print('Number of unique tokens: %d' % len(dictionary))\n",
    "print('Number of chunks: %d' % len(corpus))"
   ]
  },
  {
   "cell_type": "code",
   "execution_count": 54,
   "metadata": {
    "pycharm": {
     "name": "#%%\n"
    }
   },
   "outputs": [],
   "source": [
    "# models\n",
    "from gensim.models import LdaMulticore\n",
    "params = {'passes': 10, 'random_state': seed}\n",
    "base_models = dict()\n",
    "model = LdaMulticore(corpus=corpus, num_topics=4, id2word=dictionary, workers=6,\n",
    "                passes=params['passes'], random_state=params['random_state'])"
   ]
  },
  {
   "cell_type": "code",
   "execution_count": 55,
   "metadata": {
    "pycharm": {
     "name": "#%%\n"
    }
   },
   "outputs": [
    {
     "data": {
      "text/plain": "[(0,\n  '0.007*\"room\" + 0.007*\"sleep\" + 0.007*\"door\" + 0.007*\"old\" + 0.005*\"bed\"'),\n (1,\n  '0.007*\"Elizabeth\" + 0.006*\"father\" + 0.004*\"life\" + 0.004*\"feeling\" + 0.004*\"Collins\"'),\n (2,\n  '0.013*\"Elizabeth\" + 0.013*\"Darcy\" + 0.011*\"Bingley\" + 0.010*\"Miss\" + 0.008*\"sister\"'),\n (3,\n  '0.023*\"whale\" + 0.013*\"ship\" + 0.010*\"sea\" + 0.009*\"Queequeg\" + 0.008*\"Captain\"')]"
     },
     "execution_count": 55,
     "metadata": {},
     "output_type": "execute_result"
    }
   ],
   "source": [
    "model.show_topics(num_words=5)"
   ]
  },
  {
   "cell_type": "code",
   "execution_count": 56,
   "metadata": {
    "pycharm": {
     "name": "#%%\n"
    }
   },
   "outputs": [
    {
     "data": {
      "text/plain": "[('Elizabeth', 0.006586417),\n ('father', 0.006177984),\n ('life', 0.0044326684),\n ('feeling', 0.004431068),\n ('Collins', 0.0040220437),\n ('return', 0.0038955938),\n ('pass', 0.0037969707),\n ('appear', 0.0037458416),\n ('love', 0.003357002),\n ('mind', 0.003348911),\n ('hope', 0.0031736284),\n ('dear', 0.0030784123),\n ('remain', 0.0029352289),\n ('enter', 0.0029246663),\n ('heart', 0.0028582208),\n ('wish', 0.002743886),\n ('death', 0.0027272915),\n ('young', 0.0026763612),\n ('family', 0.002666603),\n ('word', 0.0026335618)]"
     },
     "execution_count": 56,
     "metadata": {},
     "output_type": "execute_result"
    }
   ],
   "source": [
    "model.show_topic(1,20)"
   ]
  },
  {
   "cell_type": "code",
   "execution_count": 57,
   "metadata": {
    "pycharm": {
     "name": "#%%\n"
    }
   },
   "outputs": [
    {
     "data": {
      "text/plain": "[(0, 0.9972452)]"
     },
     "execution_count": 57,
     "metadata": {},
     "output_type": "execute_result"
    }
   ],
   "source": [
    "sorted(model[corpus[0]],key=lambda x:x[1],reverse=True)"
   ]
  },
  {
   "cell_type": "code",
   "execution_count": 58,
   "metadata": {
    "pycharm": {
     "name": "#%%\n"
    }
   },
   "outputs": [
    {
     "name": "stderr",
     "output_type": "stream",
     "text": [
      "/Users/sunyukang/miniforge3/envs/torch-gpu/lib/python3.9/site-packages/past/builtins/misc.py:45: DeprecationWarning: the imp module is deprecated in favour of importlib; see the module's documentation for alternative uses\n",
      "  from imp import reload\n",
      "/Users/sunyukang/miniforge3/envs/torch-gpu/lib/python3.9/site-packages/past/builtins/misc.py:45: DeprecationWarning: the imp module is deprecated in favour of importlib; see the module's documentation for alternative uses\n",
      "  from imp import reload\n",
      "/Users/sunyukang/miniforge3/envs/torch-gpu/lib/python3.9/site-packages/past/builtins/misc.py:45: DeprecationWarning: the imp module is deprecated in favour of importlib; see the module's documentation for alternative uses\n",
      "  from imp import reload\n",
      "/Users/sunyukang/miniforge3/envs/torch-gpu/lib/python3.9/site-packages/past/builtins/misc.py:45: DeprecationWarning: the imp module is deprecated in favour of importlib; see the module's documentation for alternative uses\n",
      "  from imp import reload\n",
      "/Users/sunyukang/miniforge3/envs/torch-gpu/lib/python3.9/site-packages/past/builtins/misc.py:45: DeprecationWarning: the imp module is deprecated in favour of importlib; see the module's documentation for alternative uses\n",
      "  from imp import reload\n",
      "/Users/sunyukang/miniforge3/envs/torch-gpu/lib/python3.9/site-packages/past/builtins/misc.py:45: DeprecationWarning: the imp module is deprecated in favour of importlib; see the module's documentation for alternative uses\n",
      "  from imp import reload\n",
      "/Users/sunyukang/miniforge3/envs/torch-gpu/lib/python3.9/site-packages/past/builtins/misc.py:45: DeprecationWarning: the imp module is deprecated in favour of importlib; see the module's documentation for alternative uses\n",
      "  from imp import reload\n",
      "/Users/sunyukang/miniforge3/envs/torch-gpu/lib/python3.9/site-packages/past/builtins/misc.py:45: DeprecationWarning: the imp module is deprecated in favour of importlib; see the module's documentation for alternative uses\n",
      "  from imp import reload\n"
     ]
    },
    {
     "data": {
      "text/plain": "<IPython.core.display.HTML object>",
      "text/html": "\n<link rel=\"stylesheet\" type=\"text/css\" href=\"https://cdn.jsdelivr.net/gh/bmabey/pyLDAvis@3.3.1/pyLDAvis/js/ldavis.v1.0.0.css\">\n\n\n<div id=\"ldavis_el8173855481653766394267984\"></div>\n<script type=\"text/javascript\">\n\nvar ldavis_el8173855481653766394267984_data = {\"mdsDat\": {\"x\": [0.08644530927812415, 0.14135536183983674, -0.08477958333434173, -0.14302108778361927], \"y\": [-0.023057293452187166, 0.038949921177514044, -0.09933751364793178, 0.0834448859226049], \"topics\": [1, 2, 3, 4], \"cluster\": [1, 1, 1, 1], \"Freq\": [29.370635117871647, 26.22836495125444, 24.766654349235964, 19.634345581637948]}, \"tinfo\": {\"Term\": [\"whale\", \"ship\", \"Darcy\", \"Elizabeth\", \"Bingley\", \"Miss\", \"Queequeg\", \"sea\", \"Captain\", \"Jane\", \"Ahab\", \"sister\", \"Bennet\", \"Bildad\", \"Count\", \"thou\", \"Peleg\", \"old\", \"Mrs\", \"door\", \"Lucy\", \"Whale\", \"sleep\", \"dear\", \"voyage\", \"Jonah\", \"Wickham\", \"bed\", \"room\", \"Miss_Bingley\", \"Felix\", \"Clerval\", \"cottager\", \"Safie\", \"victim\", \"forever\", \"Justine\", \"Victor\", \"magistrate\", \"hovel\", \"protector\", \"unfortunate\", \"creator\", \"inhabit\", \"Ernest\", \"crime\", \"Frankenstein\", \"hatred\", \"ardently\", \"tranquillity\", \"daemon\", \"Geneva\", \"cottage\", \"remorse\", \"fulfil\", \"threat\", \"abhor\", \"Switzerland\", \"wretch\", \"wretchedness\", \"murderer\", \"reflect\", \"innocence\", \"miserable\", \"misfortune\", \"misery\", \"Henry\", \"sensation\", \"lake\", \"tale\", \"murder\", \"despair\", \"fiend\", \"countenance\", \"father\", \"month\", \"scene\", \"endeavour\", \"pursue\", \"gentle\", \"appear\", \"feeling\", \"Collins\", \"discover\", \"creature\", \"human\", \"return\", \"quit\", \"remain\", \"death\", \"life\", \"tear\", \"Elizabeth\", \"pass\", \"enter\", \"child\", \"mind\", \"family\", \"love\", \"hope\", \"desire\", \"heart\", \"dear\", \"wish\", \"word\", \"manner\", \"young\", \"happy\", \"moment\", \"believe\", \"country\", \"fear\", \"Seward\", \"Miss_Bingley\", \"Darcy\", \"Eliza\", \"Hurst\", \"Bingley\", \"Jane\", \"Mrs_Hurst\", \"Wickham\", \"dance\", \"Netherfield\", \"Amsterdam\", \"Miss\", \"September\", \"Miss Bingley\", \"Miss_Bennet\", \"Lucases\", \"William Lucas\", \"Meryton\", \"presentation\", \"partial\", \"Caroline\", \"Gardiner\", \"Pemberley\", \"dancing\", \"Fitzwilliam\", \"unlucky\", \"Louisa\", \"Forster\", \"Lucas\", \"Colonel\", \"ball\", \"acquaintance\", \"partner\", \"humour\", \"Miss_Lucas\", \"sister\", \"Hertfordshire\", \"Bennet\", \"Sir_William\", \"Mrs\", \"Elizabeth\", \"Charlotte\", \"husband\", \"dear\", \"marry\", \"agreeable\", \"lady\", \"wish\", \"girl\", \"Mrs_Bennet\", \"want\", \"young\", \"attention\", \"hope\", \"love\", \"manner\", \"mother\", \"believe\", \"reply\", \"mean\", \"ask\", \"letter\", \"room\", \"write\", \"Collins\", \"Count\", \"driver\", \"wolf\", \"Dracula\", \"floor\", \"pier\", \"harbour\", \"Hawkins\", \"key\", \"courtyard\", \"crucifix\", \"later\", \"chapel\", \"Cliff\", \"Pass\", \"Bistritz\", \"fog\", \"bench\", \"churchyard\", \"daylight\", \"diary\", \"Pier\", \"outside\", \"steep\", \"Slovaks\", \"Count Dracula\", \"east\", \"asleep\", \"flame\", \"softly\", \"landlord\", \"lock\", \"wall\", \"Lucy\", \"howling\", \"bed\", \"lamp\", \"window\", \"castle\", \"sleep\", \"door\", \"Whitby\", \"moonlight\", \"sweep\", \"pull\", \"whilst\", \"stone\", \"box\", \"August\", \"light\", \"run\", \"red\", \"lie\", \"room\", \"face\", \"white\", \"open\", \"fall\", \"close\", \"old\", \"strange\", \"round\", \"fear\", \"sit\", \"hold\", \"head\", \"try\", \"dark\", \"foot\", \"seat\", \"stand\", \"wind\", \"watch\", \"throw\", \"write\", \"sort\", \"ask\", \"sea\", \"morning\", \"house\", \"Bildad\", \"Peleg\", \"whale\", \"Whale\", \"Pequod\", \"oil\", \"Nantucket\", \"Captain_Peleg\", \"whaling\", \"Captain_Ahab\", \"whale_ship\", \"Jonah\", \"sperm\", \"Leviathan\", \"horn\", \"sperm_whale\", \"pilot\", \"thou\", \"New_Bedford\", \"Captain\", \"New Bedford\", \"Bedford\", \"Sperm\", \"Folio\", \"Pacific\", \"fin\", \"fishery\", \"Horn\", \"Flask\", \"Cape Horn\", \"Ahab\", \"mast\", \"ship\", \"shipmate\", \"whaleman\", \"voyage\", \"Queequeg\", \"Starbuck\", \"sailor\", \"cabin\", \"thee\", \"sea\", \"Stubb\", \"fish\", \"deck\", \"captain\", \"sail\", \"old\", \"head\", \"world\", \"chapter\", \"stand\", \"sort\", \"water\", \"God\", \"mate\", \"round\", \"small\"], \"Freq\": [329.0, 212.0, 256.0, 404.0, 229.0, 215.0, 161.0, 218.0, 125.0, 158.0, 107.0, 192.0, 174.0, 75.0, 87.0, 80.0, 70.0, 279.0, 205.0, 163.0, 104.0, 63.0, 159.0, 237.0, 77.0, 61.0, 85.0, 108.0, 258.0, 76.0, 42.221857608343065, 46.30108704614563, 22.23375775636326, 21.207208682267865, 15.170726347342981, 27.801344970355057, 46.313701221379425, 23.52355842294668, 12.583028212389937, 12.568424494468282, 12.512301406103838, 10.80320805260567, 15.786299347680245, 14.086160809669831, 10.77076839047473, 21.51284390354143, 13.238526950734514, 9.918579690244599, 9.89330637836034, 14.861855152997066, 9.893788464661354, 30.592170043347615, 48.443098893667525, 9.041614127105992, 9.859413588221031, 9.03287475173981, 11.493480699963559, 8.143000890766665, 17.829784495200297, 10.566156476756705, 24.255135625089913, 30.60981490153603, 16.112618069552504, 50.040338233904464, 31.40302171665814, 45.30741975477848, 22.82922426094916, 36.4535226646108, 27.055180286357306, 25.66780834987639, 34.686176800097336, 34.884906261800396, 25.286755347843645, 51.28324164503948, 132.55744675464518, 46.68076622711331, 50.36792212008483, 48.160186672810156, 26.364108324925194, 28.76575486874926, 80.37236401822759, 95.07487216374409, 86.29867339730359, 44.14825448434399, 55.974510865185614, 45.40824323381546, 83.58551167804748, 40.92042192626677, 62.97951457027397, 58.517923253642124, 95.10921269465778, 40.37577181394944, 141.32095641015744, 81.46941259366923, 62.75287905595469, 49.55169256176868, 71.85565257455684, 57.21576569104255, 72.02925859576456, 68.09471499682182, 48.16653622398725, 61.32719749461028, 66.05171818024398, 58.873982703716585, 56.50681906862569, 54.72670665963303, 57.42514101707163, 51.3694976250738, 51.25918728711841, 51.18836806014248, 49.805085114722495, 49.993108763543965, 18.30693066527194, 72.11763289989119, 241.15491289657476, 20.676221479132295, 31.483493813548236, 212.72362388594416, 146.8266292160431, 19.515585895509354, 78.25854881330946, 68.6825691442101, 49.90414031087604, 7.700393391293643, 195.74991735882674, 16.14931553949909, 25.63409970413379, 35.015636330827675, 7.558494805775904, 7.513414557109461, 29.888213230672402, 5.593048606523097, 6.5069766335145625, 18.507836925703902, 13.863989679203339, 12.935200154333861, 6.472845934973252, 28.522904986742525, 9.173099239476086, 6.423184552908389, 7.3221027458704135, 56.4168200790547, 29.098027667325795, 36.03405881167947, 31.315577290131937, 18.156808903479934, 19.575428937171093, 22.01596683140258, 149.7462594201042, 22.799123714852215, 127.81883031084408, 35.28046431943094, 144.27237437444634, 258.6315615099288, 58.39438411503882, 29.98108727579795, 147.28407560085833, 41.5629598398759, 33.739120099585556, 84.76474640320167, 105.5026578763774, 70.73791039715641, 51.161147549931876, 74.65615741758015, 110.20485588055014, 55.806567382699455, 83.11397248536011, 85.09583269318858, 77.22983202661045, 64.40787815907117, 68.8848327361931, 61.921907020745216, 75.44233902014763, 66.5502804645021, 67.4084575200543, 80.12774492585498, 61.0697927871416, 57.714031991694526, 86.52696217982144, 29.309190496145472, 21.766792679895467, 15.247278191865789, 19.55060479637343, 15.050784054644408, 24.715958238049883, 13.250536863208266, 31.78499113883098, 10.548274613170365, 9.599748103123655, 21.8787175737856, 11.336059425848365, 10.451340299840586, 8.67803539638992, 8.675394088532299, 12.095920938471762, 11.23320428605306, 12.09900457061176, 8.618594384909876, 13.833258032270365, 8.613747774558693, 19.72884673802846, 11.172570052163653, 7.739748693480227, 7.738277438664798, 12.8895496974424, 26.771835163802, 23.1317190567593, 8.566568624077961, 23.93123704760387, 34.85584642598552, 38.312604373840365, 89.44738087223358, 15.2584310827, 91.08226197124407, 24.165323483061993, 83.41454947318456, 30.871570432662224, 123.91721510960124, 123.27791750536402, 16.883422021387158, 18.978089733550647, 27.53248970067451, 16.66872308048682, 32.08997794414186, 28.41568280790809, 22.899766309387118, 29.422701438533842, 89.38982816417807, 76.00822956294856, 32.14055667267857, 69.40860804107437, 135.10936748963755, 73.61653582940392, 58.292573351116765, 78.44609352634889, 60.89975062458644, 58.5152225444163, 117.61430471634529, 57.74380057072707, 65.15660369115905, 71.0085750100626, 73.35502528843844, 51.61694787969363, 76.45116888670827, 61.21566705228424, 41.972201706062584, 50.48816579935403, 42.506862235538364, 59.666369382995306, 46.459059186858816, 47.5763955998154, 48.113722712822074, 54.99564401693344, 56.88161365429416, 55.48817421166589, 62.4926909564032, 53.90655316886576, 50.73642767490927, 74.49754001278338, 69.68460099565365, 325.28985100126334, 62.85476897696612, 45.33947908734558, 30.131558019898517, 50.804547643160944, 29.158298040377936, 31.95091757808243, 39.2092229729015, 21.43198118807032, 59.53909391918959, 17.593602942984923, 16.63746366403674, 15.670988177486574, 15.662677465816934, 17.49537557429562, 76.03220801903227, 15.608454956406325, 119.54079574695011, 15.6014433674369, 15.594456825820307, 13.711198130915044, 11.819531874575855, 11.77556542123817, 11.751308729843945, 14.45737880966115, 11.717674309549441, 35.89005130466963, 9.846586958296983, 98.7965180178809, 49.79673901496749, 192.36019651646316, 28.914300087677237, 32.255089291226604, 66.68613897272914, 131.03059758955206, 35.13267946867821, 41.29287551887408, 43.40168562603107, 34.20737014141912, 145.0252549426428, 36.56735510277492, 45.65189972868908, 52.703931823819424, 34.56384072727641, 52.71015358626288, 109.73594602758877, 72.59842968318253, 61.34040602474632, 54.86469014074988, 53.28717446292312, 54.271916148981866, 45.169828357144205, 47.669931549888986, 39.57072974650154, 43.645716975202205, 40.95067858448395], \"Total\": [329.0, 212.0, 256.0, 404.0, 229.0, 215.0, 161.0, 218.0, 125.0, 158.0, 107.0, 192.0, 174.0, 75.0, 87.0, 80.0, 70.0, 279.0, 205.0, 163.0, 104.0, 63.0, 159.0, 237.0, 77.0, 61.0, 85.0, 108.0, 258.0, 76.0, 43.620990684713455, 48.18636415890611, 23.176160375400308, 22.292630536353467, 16.07661616235857, 29.517731392405725, 49.259958297641575, 25.03685068566978, 13.400788950491375, 13.400703027330513, 13.412030347268189, 11.629095421586676, 17.007875304627557, 15.194893893112042, 11.626639682855114, 23.231970026184538, 14.33367798962732, 10.739495793531123, 10.738908273999316, 16.132785366020283, 10.740749725014721, 33.23660781850191, 52.72771715872052, 9.848596039156694, 10.749400449588231, 9.85123920649389, 12.543352580792131, 8.963218744235744, 19.69057709190509, 11.67034008366314, 26.83284916297896, 34.244142549495656, 17.92152518367493, 58.767828844945846, 36.17004966578548, 53.37199248240844, 26.061834189023717, 43.08656901157123, 31.375042112749597, 29.700709109929537, 41.28151111100496, 42.30522880718628, 29.589170158210642, 65.63226118169199, 206.14235128934888, 61.280588844944894, 67.1596208855701, 63.83430740170811, 31.6082670982015, 35.20225743063707, 128.41167554898536, 162.44317073047142, 144.90520951507762, 61.48001264463679, 85.7782687149439, 65.4027145431739, 153.60371741518395, 57.14520847355635, 110.53202807849382, 99.24325001307248, 214.285182481231, 57.45358855198517, 404.2570364843535, 176.37199353871708, 118.77057081275346, 80.49821630278447, 167.6563719674807, 114.66973468584129, 185.03810448941158, 174.60400282521212, 83.21703832449528, 158.81400195726783, 237.09605628551623, 193.91592238721958, 168.91002589821687, 157.90516733041278, 229.20937009911287, 119.04339608149951, 135.32885393356742, 137.17540073640868, 104.83956953821735, 144.57286306751283, 19.158614493322528, 76.4715054823264, 256.4747249056943, 22.23732508066889, 33.92473017386138, 229.44953082028323, 158.51672771269932, 21.173333904829647, 85.39482712829899, 75.05325431290937, 54.801266569784254, 8.456438131106346, 215.0414622951259, 17.89846708856122, 28.457024264394377, 38.92741853904547, 8.434280155509414, 8.42452178348879, 33.59325800298715, 6.318664614352079, 7.36360177618243, 20.97184835326492, 15.72881292408693, 14.700552725515458, 7.360614120681654, 32.470501050343906, 10.488546513683104, 7.36449762787127, 8.398598747955505, 64.77234182945745, 33.46409867268161, 42.001432564691136, 36.564767692334456, 21.058632669977637, 22.950124342637356, 26.008050812397343, 192.34789217063783, 27.034843473455517, 174.7492406056458, 43.45857490480204, 205.9598586464083, 404.2570364843535, 78.4264421905877, 37.17798466046074, 237.09605628551623, 55.153472939129045, 43.134274756693465, 132.76530965122367, 193.91592238721958, 116.02171262429721, 77.19960890748878, 131.1804950391571, 229.20937009911287, 89.85480394742017, 174.60400282521212, 185.03810448941158, 157.90516733041278, 118.68602158037986, 137.17540073640868, 113.59837693530848, 169.6951947136254, 143.63156339673273, 150.26446451587177, 258.66572608458637, 133.00506563904247, 144.90520951507762, 87.53637031751529, 30.13354106032105, 22.612004380271713, 16.021183460995342, 20.726975657676604, 16.0112427593613, 26.32849102553107, 14.154048816982936, 34.06107052626488, 11.315050943857079, 10.373499199861675, 23.659904876492387, 12.263901246793623, 11.323471555193109, 9.433208182625812, 9.434023968452435, 13.204745241162692, 12.26815259745467, 13.215806602968875, 9.428434933127068, 15.144315722092836, 9.431455707584128, 21.62334364459701, 12.25825412478807, 8.492510012964408, 8.492913963740643, 14.149772665230994, 29.38956051341216, 25.45270494951203, 9.42735110334823, 26.429359292749893, 38.6542043489049, 43.11978977126705, 104.25561938416426, 16.96140544054319, 108.42041182416011, 27.37958437372524, 101.9451636881913, 35.781871726611946, 159.9367043272363, 163.17386240300735, 18.992445401369157, 21.714692513207474, 33.07961336305813, 18.85502337952338, 39.868073440555605, 34.97417773683711, 27.422364585603336, 37.04757508807393, 139.53787143684076, 115.20461152062667, 41.75840551988135, 110.61814851960828, 258.66572608458637, 124.27246347195194, 92.7189411388583, 141.140301237598, 100.79577887340463, 100.01791270763395, 279.7979983918196, 100.21203241986241, 123.0502944708314, 144.57286306751283, 152.20561832192257, 91.23781467379631, 183.59736124758, 126.16395169363626, 66.37305412490674, 94.48108015734867, 68.86039940656457, 143.24861695571082, 83.85706677248584, 89.02598155451409, 91.52684046708238, 133.00506563904247, 151.8360699972775, 143.63156339673273, 218.83715381100524, 145.22917057816983, 162.91666564273623, 75.41619346089901, 70.58074159538377, 329.66321499450686, 63.813487160130194, 46.40633218879802, 30.939915869125628, 52.198731056795424, 29.971121012622877, 32.87365535351083, 40.5941412787413, 22.237070944834354, 61.846211237091964, 18.36983086648109, 17.40372706184695, 16.436990208776635, 16.43637987385065, 18.36730021558151, 80.02944165154668, 16.4341565876052, 125.86853943228363, 16.433999409387425, 16.43366160223905, 14.501378153882499, 12.568382992359599, 12.565194224174528, 12.566200277570456, 15.462612974590115, 12.56580935366539, 38.62306918973235, 10.633589662457599, 107.12602528578243, 54.05654448154209, 212.23415955701816, 31.851337141948612, 35.70115425599618, 77.60695387554456, 161.63142994204264, 39.543659810710594, 47.24301433182078, 50.04645607870632, 40.208917578959976, 218.83715381100524, 44.28547003546566, 57.98320981349863, 69.1200354387147, 44.2301274209547, 84.933896953658, 279.7979983918196, 183.59736124758, 158.62988003640405, 126.57897238586813, 143.24861695571082, 151.8360699972775, 94.33150969330896, 117.33357541849219, 65.92669353717173, 123.0502944708314, 93.50529113018476], \"Category\": [\"Default\", \"Default\", \"Default\", \"Default\", \"Default\", \"Default\", \"Default\", \"Default\", \"Default\", \"Default\", \"Default\", \"Default\", \"Default\", \"Default\", \"Default\", \"Default\", \"Default\", \"Default\", \"Default\", \"Default\", \"Default\", \"Default\", \"Default\", \"Default\", \"Default\", \"Default\", \"Default\", \"Default\", \"Default\", \"Default\", \"Topic1\", \"Topic1\", \"Topic1\", \"Topic1\", \"Topic1\", \"Topic1\", \"Topic1\", \"Topic1\", \"Topic1\", \"Topic1\", \"Topic1\", \"Topic1\", \"Topic1\", \"Topic1\", \"Topic1\", \"Topic1\", \"Topic1\", \"Topic1\", \"Topic1\", \"Topic1\", \"Topic1\", \"Topic1\", \"Topic1\", \"Topic1\", \"Topic1\", \"Topic1\", \"Topic1\", \"Topic1\", \"Topic1\", \"Topic1\", \"Topic1\", \"Topic1\", \"Topic1\", \"Topic1\", \"Topic1\", \"Topic1\", \"Topic1\", \"Topic1\", \"Topic1\", \"Topic1\", \"Topic1\", \"Topic1\", \"Topic1\", \"Topic1\", \"Topic1\", \"Topic1\", \"Topic1\", \"Topic1\", \"Topic1\", \"Topic1\", \"Topic1\", \"Topic1\", \"Topic1\", \"Topic1\", \"Topic1\", \"Topic1\", \"Topic1\", \"Topic1\", \"Topic1\", \"Topic1\", \"Topic1\", \"Topic1\", \"Topic1\", \"Topic1\", \"Topic1\", \"Topic1\", \"Topic1\", \"Topic1\", \"Topic1\", \"Topic1\", \"Topic1\", \"Topic1\", \"Topic1\", \"Topic1\", \"Topic1\", \"Topic1\", \"Topic1\", \"Topic1\", \"Topic1\", \"Topic1\", \"Topic1\", \"Topic1\", \"Topic2\", \"Topic2\", \"Topic2\", \"Topic2\", \"Topic2\", \"Topic2\", \"Topic2\", \"Topic2\", \"Topic2\", \"Topic2\", \"Topic2\", \"Topic2\", \"Topic2\", \"Topic2\", \"Topic2\", \"Topic2\", \"Topic2\", \"Topic2\", \"Topic2\", \"Topic2\", \"Topic2\", \"Topic2\", \"Topic2\", \"Topic2\", \"Topic2\", \"Topic2\", \"Topic2\", \"Topic2\", \"Topic2\", \"Topic2\", \"Topic2\", \"Topic2\", \"Topic2\", \"Topic2\", \"Topic2\", \"Topic2\", \"Topic2\", \"Topic2\", \"Topic2\", \"Topic2\", \"Topic2\", \"Topic2\", \"Topic2\", \"Topic2\", \"Topic2\", \"Topic2\", \"Topic2\", \"Topic2\", \"Topic2\", \"Topic2\", \"Topic2\", \"Topic2\", \"Topic2\", \"Topic2\", \"Topic2\", \"Topic2\", \"Topic2\", \"Topic2\", \"Topic2\", \"Topic2\", \"Topic2\", \"Topic2\", \"Topic2\", \"Topic2\", \"Topic2\", \"Topic2\", \"Topic3\", \"Topic3\", \"Topic3\", \"Topic3\", \"Topic3\", \"Topic3\", \"Topic3\", \"Topic3\", \"Topic3\", \"Topic3\", \"Topic3\", \"Topic3\", \"Topic3\", \"Topic3\", \"Topic3\", \"Topic3\", \"Topic3\", \"Topic3\", \"Topic3\", \"Topic3\", \"Topic3\", \"Topic3\", \"Topic3\", \"Topic3\", \"Topic3\", \"Topic3\", \"Topic3\", \"Topic3\", \"Topic3\", \"Topic3\", \"Topic3\", \"Topic3\", \"Topic3\", \"Topic3\", \"Topic3\", \"Topic3\", \"Topic3\", \"Topic3\", \"Topic3\", \"Topic3\", \"Topic3\", \"Topic3\", \"Topic3\", \"Topic3\", \"Topic3\", \"Topic3\", \"Topic3\", \"Topic3\", \"Topic3\", \"Topic3\", \"Topic3\", \"Topic3\", \"Topic3\", \"Topic3\", \"Topic3\", \"Topic3\", \"Topic3\", \"Topic3\", \"Topic3\", \"Topic3\", \"Topic3\", \"Topic3\", \"Topic3\", \"Topic3\", \"Topic3\", \"Topic3\", \"Topic3\", \"Topic3\", \"Topic3\", \"Topic3\", \"Topic3\", \"Topic3\", \"Topic3\", \"Topic3\", \"Topic3\", \"Topic3\", \"Topic3\", \"Topic3\", \"Topic3\", \"Topic3\", \"Topic4\", \"Topic4\", \"Topic4\", \"Topic4\", \"Topic4\", \"Topic4\", \"Topic4\", \"Topic4\", \"Topic4\", \"Topic4\", \"Topic4\", \"Topic4\", \"Topic4\", \"Topic4\", \"Topic4\", \"Topic4\", \"Topic4\", \"Topic4\", \"Topic4\", \"Topic4\", \"Topic4\", \"Topic4\", \"Topic4\", \"Topic4\", \"Topic4\", \"Topic4\", \"Topic4\", \"Topic4\", \"Topic4\", \"Topic4\", \"Topic4\", \"Topic4\", \"Topic4\", \"Topic4\", \"Topic4\", \"Topic4\", \"Topic4\", \"Topic4\", \"Topic4\", \"Topic4\", \"Topic4\", \"Topic4\", \"Topic4\", \"Topic4\", \"Topic4\", \"Topic4\", \"Topic4\", \"Topic4\", \"Topic4\", \"Topic4\", \"Topic4\", \"Topic4\", \"Topic4\", \"Topic4\", \"Topic4\", \"Topic4\", \"Topic4\", \"Topic4\"], \"logprob\": [30.0, 29.0, 28.0, 27.0, 26.0, 25.0, 24.0, 23.0, 22.0, 21.0, 20.0, 19.0, 18.0, 17.0, 16.0, 15.0, 14.0, 13.0, 12.0, 11.0, 10.0, 9.0, 8.0, 7.0, 6.0, 5.0, 4.0, 3.0, 2.0, 1.0, -6.2308, -6.1386, -6.8722, -6.9194, -7.2544, -6.6487, -6.1383, -6.8158, -7.4414, -7.4426, -7.4471, -7.5939, -7.2146, -7.3286, -7.5969, -6.9051, -7.3906, -7.6794, -7.6819, -7.275, -7.6819, -6.553, -6.0934, -7.7719, -7.6854, -7.7729, -7.532, -7.8766, -7.0929, -7.6161, -6.7852, -6.5525, -7.1942, -6.0609, -6.5269, -6.1603, -6.8457, -6.3777, -6.6759, -6.7285, -6.4274, -6.4217, -6.7435, -6.0364, -5.0868, -6.1304, -6.0544, -6.0992, -6.7018, -6.6146, -5.5871, -5.4191, -5.516, -6.1862, -5.9489, -6.1581, -5.5479, -6.2622, -5.831, -5.9044, -5.4188, -6.2755, -5.0227, -5.5736, -5.8346, -6.0708, -5.6991, -5.9269, -5.6967, -5.7529, -6.0991, -5.8576, -5.7833, -5.8984, -5.9394, -5.9714, -5.9233, -6.0347, -6.0369, -6.0383, -6.0657, -6.0619, -6.9533, -5.5823, -4.3752, -6.8316, -6.4112, -4.5006, -4.8714, -6.8894, -5.5006, -5.6311, -5.9505, -7.8194, -4.5838, -7.0787, -6.6167, -6.3048, -7.838, -7.8439, -6.4632, -8.1391, -7.9878, -6.9424, -7.2313, -7.3007, -7.993, -6.5099, -7.6444, -8.0007, -7.8697, -5.8279, -6.49, -6.2762, -6.4165, -6.9616, -6.8864, -6.7689, -4.8517, -6.7339, -5.01, -6.2973, -4.8889, -4.3052, -5.7934, -6.4601, -4.8683, -6.1334, -6.342, -5.4207, -5.2019, -5.6016, -5.9256, -5.5477, -5.1583, -5.8387, -5.4404, -5.4168, -5.5138, -5.6954, -5.6282, -5.7348, -5.5373, -5.6627, -5.6499, -5.477, -5.7486, -5.8051, -5.3428, -6.4254, -6.7229, -7.0789, -6.8303, -7.0919, -6.5958, -7.2192, -6.3443, -7.4473, -7.5415, -6.7178, -7.3753, -7.4566, -7.6425, -7.6428, -7.3104, -7.3844, -7.3102, -7.6494, -7.1762, -7.6499, -6.8212, -7.3898, -7.7569, -7.7571, -7.2469, -6.5159, -6.6621, -7.6554, -6.6281, -6.2521, -6.1575, -5.3096, -7.0781, -5.2915, -6.6184, -5.3795, -6.3734, -4.9837, -4.9888, -6.9769, -6.86, -6.4879, -6.9897, -6.3347, -6.4563, -6.6722, -6.4215, -5.3103, -5.4724, -6.3332, -5.5633, -4.8972, -5.5044, -5.7378, -5.4409, -5.6941, -5.734, -5.0359, -5.7473, -5.6265, -5.5405, -5.508, -5.8594, -5.4666, -5.6889, -6.0663, -5.8815, -6.0536, -5.7145, -5.9647, -5.9409, -5.9297, -5.796, -5.7623, -5.7871, -5.6682, -5.816, -5.8766, -5.2603, -5.3271, -3.7863, -5.4302, -5.7569, -6.1655, -5.6431, -6.1983, -6.1069, -5.9022, -6.5062, -5.4844, -6.7035, -6.7594, -6.8193, -6.8198, -6.7091, -5.2399, -6.8233, -4.7874, -6.8237, -6.8241, -6.9529, -7.1013, -7.105, -7.1071, -6.8999, -7.11, -5.9906, -7.2839, -4.978, -5.6631, -4.3117, -6.2067, -6.0974, -5.3711, -4.6956, -6.0119, -5.8504, -5.8006, -6.0386, -4.5942, -5.9719, -5.75, -5.6064, -6.0283, -5.6063, -4.873, -5.2861, -5.4546, -5.5662, -5.5954, -5.5771, -5.7606, -5.7068, -5.893, -5.795, -5.8587], \"loglift\": [30.0, 29.0, 28.0, 27.0, 26.0, 25.0, 24.0, 23.0, 22.0, 21.0, 20.0, 19.0, 18.0, 17.0, 16.0, 15.0, 14.0, 13.0, 12.0, 11.0, 10.0, 9.0, 8.0, 7.0, 6.0, 5.0, 4.0, 3.0, 2.0, 1.0, 1.1926, 1.1853, 1.1837, 1.1753, 1.1672, 1.1653, 1.1635, 1.1628, 1.1622, 1.1611, 1.1557, 1.1515, 1.1506, 1.1494, 1.1487, 1.1483, 1.1457, 1.1457, 1.1432, 1.1431, 1.143, 1.1423, 1.1404, 1.1397, 1.1388, 1.1384, 1.1378, 1.1292, 1.1259, 1.1258, 1.1242, 1.113, 1.1188, 1.0644, 1.0838, 1.0614, 1.0927, 1.058, 1.077, 1.0792, 1.0511, 1.0323, 1.068, 0.9785, 0.7836, 0.953, 0.9375, 0.9434, 1.0438, 1.0233, 0.7566, 0.6895, 0.7069, 0.894, 0.7983, 0.8603, 0.6167, 0.8912, 0.6627, 0.6969, 0.4129, 0.8724, 0.1742, 0.4528, 0.5872, 0.74, 0.3779, 0.5299, 0.2817, 0.2836, 0.6784, 0.2737, -0.0529, 0.0331, 0.1302, 0.1655, -0.159, 0.3847, 0.2544, 0.2394, 0.4809, 0.1633, 1.2929, 1.2797, 1.2767, 1.2655, 1.2636, 1.2626, 1.2617, 1.2568, 1.2511, 1.2496, 1.2447, 1.2447, 1.2443, 1.2355, 1.2339, 1.2324, 1.2287, 1.2239, 1.2215, 1.2163, 1.2147, 1.2133, 1.2121, 1.2104, 1.2098, 1.2087, 1.2043, 1.2016, 1.2012, 1.2002, 1.1985, 1.1851, 1.1834, 1.1901, 1.1793, 1.1717, 1.088, 1.1679, 1.0256, 1.1298, 0.9824, 0.8917, 1.0434, 1.1232, 0.8622, 1.0554, 1.0927, 0.8896, 0.7296, 0.8435, 0.9269, 0.7746, 0.606, 0.862, 0.596, 0.5615, 0.6231, 0.7271, 0.6495, 0.7315, 0.5277, 0.569, 0.5367, 0.1664, 0.56, 0.4177, 1.3841, 1.3679, 1.3576, 1.3462, 1.3372, 1.3338, 1.3325, 1.3297, 1.3265, 1.3255, 1.3182, 1.3174, 1.317, 1.3155, 1.3122, 1.3118, 1.308, 1.3075, 1.3074, 1.3059, 1.3051, 1.305, 1.304, 1.3029, 1.3029, 1.3026, 1.3024, 1.3024, 1.3001, 1.2999, 1.2964, 1.2922, 1.2775, 1.2425, 1.2899, 1.2214, 1.2708, 1.1951, 1.2481, 1.1405, 1.1153, 1.278, 1.261, 1.2121, 1.2724, 1.1786, 1.188, 1.2154, 1.1652, 0.9503, 0.9798, 1.1339, 0.9296, 0.7462, 0.8721, 0.9316, 0.8083, 0.8918, 0.8596, 0.529, 0.8444, 0.7599, 0.6847, 0.6658, 0.8261, 0.5196, 0.6725, 0.9374, 0.769, 0.9133, 0.5199, 0.8051, 0.7691, 0.7526, 0.5125, 0.4138, 0.4446, 0.1424, 0.4046, 0.2291, 1.6156, 1.6151, 1.6145, 1.6128, 1.6046, 1.6014, 1.6008, 1.6004, 1.5994, 1.5932, 1.591, 1.5899, 1.5847, 1.5829, 1.5802, 1.5797, 1.5793, 1.5767, 1.5763, 1.5763, 1.5759, 1.5755, 1.5719, 1.5665, 1.563, 1.5608, 1.5607, 1.558, 1.5545, 1.551, 1.5469, 1.5458, 1.5296, 1.5311, 1.5264, 1.4762, 1.418, 1.5096, 1.4933, 1.4854, 1.4662, 1.2165, 1.4364, 1.3888, 1.3567, 1.3813, 1.1508, 0.6919, 0.7001, 0.6778, 0.7919, 0.639, 0.5991, 0.8915, 0.7272, 1.1174, 0.5914, 0.8022]}, \"token.table\": {\"Topic\": [3, 4, 2, 1, 2, 3, 4, 4, 1, 2, 4, 4, 1, 2, 4, 3, 4, 1, 2, 3, 4, 3, 4, 4, 1, 2, 1, 2, 1, 2, 3, 1, 2, 4, 1, 2, 4, 3, 3, 1, 2, 4, 3, 1, 2, 1, 2, 3, 4, 1, 1, 3, 1, 2, 4, 3, 4, 4, 2, 1, 2, 1, 2, 1, 2, 1, 2, 3, 4, 3, 1, 2, 4, 1, 2, 4, 1, 2, 4, 1, 2, 4, 3, 4, 1, 2, 4, 2, 1, 2, 2, 2, 3, 1, 2, 4, 1, 2, 3, 4, 1, 2, 4, 1, 2, 4, 1, 2, 4, 1, 2, 1, 2, 3, 4, 1, 2, 4, 1, 2, 4, 3, 4, 1, 2, 4, 4, 4, 4, 3, 4, 1, 2, 4, 4, 3, 3, 4, 1, 3, 1, 2, 2, 1, 2, 4, 3, 4, 3, 4, 3, 4, 1, 1, 2, 4, 2, 3, 1, 2, 4, 2, 1, 1, 2, 4, 1, 2, 4, 1, 2, 3, 4, 1, 1, 2, 3, 4, 2, 3, 4, 1, 2, 3, 4, 1, 2, 4, 1, 2, 3, 4, 1, 2, 3, 4, 3, 3, 4, 1, 3, 4, 3, 4, 1, 3, 4, 3, 1, 2, 3, 4, 1, 2, 3, 4, 2, 3, 1, 2, 3, 4, 1, 3, 4, 1, 1, 2, 3, 4, 1, 2, 3, 4, 3, 1, 2, 1, 2, 3, 4, 1, 3, 4, 3, 1, 1, 2, 3, 4, 2, 1, 2, 3, 4, 3, 1, 2, 3, 4, 1, 2, 3, 4, 1, 3, 4, 1, 2, 3, 4, 1, 2, 3, 4, 2, 3, 1, 2, 3, 4, 1, 2, 3, 4, 3, 3, 4, 1, 2, 3, 1, 2, 3, 4, 1, 2, 3, 4, 1, 2, 3, 4, 1, 2, 3, 4, 1, 2, 3, 4, 1, 2, 3, 4, 1, 2, 3, 4, 1, 3, 4, 1, 2, 3, 4, 4, 3, 4, 3, 4, 3, 4, 1, 2, 3, 4, 1, 2, 1, 1, 2, 3, 1, 2, 3, 4, 1, 2, 3, 4, 1, 3, 1, 1, 2, 3, 4, 1, 2, 3, 4, 1, 2, 3, 4, 1, 2, 3, 4, 4, 1, 2, 3, 4, 1, 3, 4, 1, 2, 3, 4, 1, 2, 3, 1, 2, 3, 1, 3, 1, 4, 2, 3, 1, 2, 3, 4, 1, 3, 3, 4, 3, 4, 2, 3, 1, 2, 3, 4, 1, 2, 3, 4, 1, 2, 3, 4, 1, 2, 3, 4, 1, 3, 4, 1, 2, 3, 4, 1, 1, 2, 3, 4, 1, 2, 3, 3, 4, 1, 3, 4, 1, 2, 3, 4, 1, 2, 3, 4, 1, 2, 3, 4, 1, 2, 3, 4, 1, 2, 3, 1, 2, 3, 4, 1, 2, 3, 4, 3, 4, 1, 2, 3, 4, 1, 2, 3, 4, 1, 3, 4, 1, 3, 4, 4, 1, 2, 3, 4, 1, 2, 3, 4, 1, 3, 2, 2, 4, 1, 2, 3, 4, 3, 4, 2, 1, 1, 2, 3, 1, 2, 3, 4, 1, 2, 3, 4, 1, 2, 3, 4, 1, 2, 3, 1, 2, 3, 4, 1, 1, 2, 3, 4, 1, 2, 3, 4, 1, 2, 3, 4, 1, 2, 3, 4, 1, 2, 3, 4, 1, 3, 4, 3, 4, 1, 2, 3, 4, 1, 2, 3, 4, 1, 2, 3, 4, 1, 2, 3, 2, 3, 4, 3, 4, 1, 2, 3, 4, 1, 2, 3, 4, 1, 2, 3, 4, 1, 2, 3, 4, 3, 1, 2, 3, 4, 4, 4, 1, 2, 3, 4, 3, 4, 3, 4, 1, 2, 3, 4, 3, 4, 1, 2, 3, 1, 2, 3, 4, 1, 3, 4, 1, 3, 4, 1, 1, 2, 3, 4, 1, 2, 1, 2, 3, 4, 1, 1, 2, 1, 1, 2, 3, 4, 1, 3, 4, 1, 2, 3, 4, 1, 2, 3, 4, 1, 3, 4, 2, 3, 4, 4, 3, 4, 4, 1, 2, 3, 1, 2, 3, 4, 1, 2, 3, 4, 1, 2, 3, 4, 1, 2, 3, 4, 3, 1, 2, 3, 4, 1, 2, 3, 4, 1, 3, 1, 2, 1, 2, 3, 4, 1, 2, 3, 4], \"Freq\": [0.07467839844387231, 0.9241451807429197, 0.9460247773317972, 0.05398463989195948, 0.10796927978391896, 0.7827772784334125, 0.02699231994597974, 0.9736113829811389, 0.2575118486583348, 0.732478147294819, 0.005722485525740773, 0.9812216263390002, 0.056657339649050203, 0.9283087188652072, 0.013074770688242355, 0.953993760255028, 0.940416201624319, 0.015889594087774298, 0.031779188175548596, 0.007944797043887149, 0.9533756452664579, 0.02463409665777778, 0.9607297696533335, 0.9675981084520038, 0.09536593848622969, 0.9059764156191821, 0.24226522929380412, 0.7395464894231915, 0.9546269116363283, 0.02075275894861583, 0.883121395347512, 0.593491429934074, 0.40026166204856156, 0.006901063138768302, 0.08964831323692718, 0.8666003612902962, 0.029882771078975728, 0.9938726004337426, 0.9419617382390694, 0.04678823616795923, 0.9396637430398479, 0.011697059041989807, 0.9362604227408367, 0.04496943748280719, 0.944358187138951, 0.34878799198206983, 0.6406814888181283, 0.0024736737020004955, 0.007421021106001486, 0.946103113199666, 0.9628392051792277, 0.022924742980457803, 0.09239155242318707, 0.8931183400908084, 0.030797184141062358, 0.05178252381174526, 0.9320854286114146, 0.9547767606457312, 0.8334723696264249, 0.9069549357399792, 0.0697657642876907, 0.06357758877458648, 0.8900862428442108, 0.9327064954788542, 0.06017461261153898, 0.11931793563834031, 0.0852270968845288, 0.39204464566883246, 0.4090900650457382, 0.9184651097431404, 0.8825165501853569, 0.038370284790667696, 0.07674056958133539, 0.1479572095147304, 0.8507539547096998, 0.9549723111547649, 0.029477021478876455, 0.9137876658451701, 0.029477021478876455, 0.06308482482759999, 0.9273469249657197, 0.012616964965519997, 0.03233827844898783, 0.9701483534696349, 0.9338213346031669, 0.040600927591442036, 0.9768022642269532, 0.8147195237449372, 0.12350950689823176, 0.8645665482876224, 0.9485101102284662, 0.13428532756984904, 0.8536710109797545, 0.08930363347708747, 0.8930363347708747, 0.029767877825695826, 0.06510372395434237, 0.9114521353607932, 0.013950797990216222, 0.013950797990216222, 0.07028141738988548, 0.9136584260685112, 0.03514070869494274, 0.07706650254732156, 0.8991091963854182, 0.025688834182440518, 0.026153532448268943, 0.9415271681376819, 0.026153532448268943, 0.11534889798700255, 0.845891918571352, 0.23305512207796936, 0.6991653662339081, 0.02913189025974617, 0.03884252034632823, 0.32383583743226535, 0.6606251083618213, 0.012953433497290614, 0.04722921786879768, 0.9445843573759535, 0.04722921786879768, 0.0191575538285009, 0.9770352452535459, 0.07299101371875004, 0.9123876714843754, 0.01824775342968751, 0.9735913700264881, 0.9735820584834486, 0.955019061855237, 0.9540762618359574, 0.9917719539033328, 0.06802465313187306, 0.8843204907143497, 0.06802465313187306, 0.9696952522971102, 0.9542535403906758, 0.18560746514930493, 0.8104859311519649, 0.9420153429517649, 0.04485787347389357, 0.05587070641591943, 0.8939313026547109, 0.9395251418767079, 0.16107293014862578, 0.8053646507431288, 0.023010418592660824, 0.94200654315243, 0.9654254824222853, 0.10115401607103094, 0.8850976406215207, 0.15806538791152283, 0.8354884789609064, 0.8925365126389232, 0.9585870164467915, 0.03994112568528298, 0.9872521124243082, 0.10530502827486454, 0.8950927403363486, 0.07026186716187707, 0.913404273104402, 0.011710311193646178, 0.9496087974606688, 0.8769585267693507, 0.1093949244709292, 0.8478106646497013, 0.0273487311177323, 0.20865077831413878, 0.7882362736311909, 0.023183419812682085, 0.6229963097824567, 0.20247380067929843, 0.11681180808421063, 0.05451217710596496, 0.9311933526997026, 0.11835838584478367, 0.46647128538826504, 0.3829241894978295, 0.027849031963478512, 0.06805137487807224, 0.9186935608539751, 0.03402568743903612, 0.31161383442987206, 0.6232276688597441, 0.05564532757676286, 0.011129065515352574, 0.047617423451440016, 0.8571136221259202, 0.09523484690288003, 0.06456348838955561, 0.03689342193688892, 0.8393253490642231, 0.06456348838955561, 0.371786776099891, 0.5030056382527938, 0.09476917822154085, 0.029159747145089492, 0.8966305165035379, 0.8387314641741338, 0.14586634159550152, 0.019981434817828755, 0.09990717408914378, 0.8592016971666364, 0.20348121348020606, 0.7913158302008014, 0.027947112650797218, 0.8663604921747138, 0.08384133795239165, 0.8969413385382512, 0.22120577748604042, 0.22910598382482758, 0.11060288874302021, 0.43451134863329366, 0.6211317752921499, 0.14907162607011598, 0.14907162607011598, 0.09938108404674398, 0.07566696684070379, 0.9080036020884454, 0.1499731357506635, 0.1499731357506635, 0.5898943339526098, 0.10998029955048658, 0.9103371544705948, 0.01896535738480406, 0.056896072154412176, 0.9492512842356445, 0.7770568784582172, 0.1066548656707357, 0.045709228144601016, 0.06094563752613469, 0.47691916535171786, 0.23845958267585893, 0.18122928283365278, 0.10492221637737792, 0.9721564714626301, 0.9407406694501499, 0.05879629184063437, 0.6528460044594481, 0.11657964365347286, 0.05828982182673643, 0.1748694654802093, 0.9469709187470543, 0.04304413267032065, 0.04304413267032065, 0.9639948687838473, 0.9310337039797558, 0.03997161785273835, 0.9193472106129821, 0.03997161785273835, 0.01332387261757945, 0.8151493749877966, 0.2561280360552323, 0.06026542024828995, 0.6327869126070446, 0.04519906518621747, 0.9545592734991732, 0.27836818981299866, 0.6200018773107698, 0.0843539969130299, 0.012653099536954485, 0.5944988701219319, 0.07053376425175464, 0.23175379682719383, 0.10076252035964949, 0.01446758517487524, 0.21701377762312862, 0.7667820142683878, 0.5768049544473034, 0.2283186278020576, 0.1682347783804635, 0.03605030965295646, 0.827320900674449, 0.023637740019269972, 0.14182644011561982, 0.023637740019269972, 0.06603137562307815, 0.9244392587230941, 0.7156797487067261, 0.1301235906739502, 0.0650617953369751, 0.08132724417121888, 0.14095394728841146, 0.08579805487120697, 0.7537971963684612, 0.024513729963201992, 0.9623827462543503, 0.9187426757705988, 0.07067251352081529, 0.7519467501689474, 0.23498335942779608, 0.015665557295186407, 0.5304344297487802, 0.12629391184494768, 0.25258782368989535, 0.09261553535296162, 0.14484302875401328, 0.1046088541001207, 0.5954657848776101, 0.1609366986155703, 0.22818415867282557, 0.1091315541478731, 0.6051840730018417, 0.04960525188539686, 0.49707972340009265, 0.4273141481860446, 0.017441393803512024, 0.06104487831229208, 0.6451852284022722, 0.2765079550295452, 0.048510167549043026, 0.03395711728433012, 0.3458463707442173, 0.08300312897861215, 0.49110184645678856, 0.08300312897861215, 0.5848199070038202, 0.2708639569280852, 0.1354319784640426, 0.01231199804218569, 0.8449037220823443, 0.13518459553317508, 0.9549426027706185, 0.06898548757245222, 0.06898548757245222, 0.06898548757245222, 0.7933331070832006, 0.9054097145809933, 0.9036367665292466, 0.07857711013297797, 0.9649261103171434, 0.048246305515857166, 0.908764219289352, 0.075730351607446, 0.10584129630340817, 0.010584129630340819, 0.5292064815170409, 0.3386921481709062, 0.948582383509452, 0.03387794226819472, 0.9302844420856107, 0.8238108040980591, 0.05681453821365925, 0.1136290764273185, 0.27581044337470484, 0.6119544212376263, 0.07757168719913574, 0.043095381777297624, 0.42841519713604587, 0.43681549511910556, 0.12600446974589583, 0.008400297983059723, 0.03798166780733037, 0.9495416951832593, 0.9311424104307994, 0.09804062475455244, 0.09259392337929953, 0.4139493045192214, 0.3976092003934627, 0.38409711516754863, 0.19519689459334438, 0.26446030880388594, 0.15741685047850354, 0.1096036773321799, 0.08768294186574394, 0.5699391221273356, 0.2411280901307958, 0.38945269810378635, 0.4753613815090334, 0.10881766564664619, 0.028636227801748997, 0.9734142198038603, 0.3069053727728885, 0.27621483549559966, 0.31304348022834627, 0.11048593419823986, 0.970098357786656, 0.8843606771019811, 0.058957378473465404, 0.6880448359722809, 0.15289885243828466, 0.09173931146297079, 0.06115954097531386, 0.0871454973463628, 0.871454973463628, 0.0435727486731814, 0.1613858323628036, 0.806929161814018, 0.02689763872713393, 0.9213621429989916, 0.06581158164278511, 0.8927811576313112, 0.05579882235195695, 0.05871806050422806, 0.9394889680676489, 0.2410268170508128, 0.6402274827912215, 0.0828529683612169, 0.0376604401641895, 0.8605566138516273, 0.1274898687187596, 0.8765655341003478, 0.10957069176254347, 0.908081037234364, 0.07567341976953033, 0.042265596806923905, 0.929843129752326, 0.22626773475380624, 0.4458805361325005, 0.29947200188003764, 0.02661973350044779, 0.18080215830456411, 0.027120323745684616, 0.6237674461507462, 0.16272194247410768, 0.4433344335804504, 0.25200062540362445, 0.16800041693574963, 0.13533366919824275, 0.1648298040034997, 0.06449861895789118, 0.6378196763613684, 0.12899723791578235, 0.025870407031889423, 0.9054642461161299, 0.07761122109566827, 0.3891090443164373, 0.45936484398468286, 0.10808584564345479, 0.03783004597520918, 0.9700921377112891, 0.3483103240371724, 0.48763445365204133, 0.10132663971990469, 0.06332914982494044, 0.21757469404046376, 0.7615114291416232, 0.01813122450337198, 0.0739965907618424, 0.92495738452303, 0.030336725424767914, 0.3640407050972149, 0.6067345084953583, 0.21214507612164835, 0.4419689085867674, 0.15910880709123626, 0.18268048221586386, 0.42944982737647097, 0.19086658994509823, 0.24454781836715708, 0.13718536152303934, 0.8508056360550761, 0.08508056360550761, 0.034032225442203044, 0.034032225442203044, 0.8431388431831944, 0.07494567494961728, 0.03747283747480864, 0.03747283747480864, 0.8570626882308097, 0.08294155047394933, 0.02764718349131644, 0.376859764326651, 0.2069034000224751, 0.28079747145907336, 0.13300932858587683, 0.7669639095492647, 0.1305470484339174, 0.08159190527119838, 0.016318381054239675, 0.8749836079163302, 0.09210353767540318, 0.22722707751221163, 0.26165542258981944, 0.37182612683816446, 0.1377133803104313, 0.3117469058893496, 0.5392378912680642, 0.10953269666382555, 0.042127960255317516, 0.8478371808116681, 0.12111959725880973, 0.024223919451761947, 0.8944260765685883, 0.03726775319035785, 0.03726775319035785, 0.969621253234772, 0.13938627232560016, 0.046462090775200054, 0.4217328239595082, 0.3931407680978466, 0.1771287136330719, 0.10627722817984313, 0.5526415865351842, 0.15587326799710327, 0.04624631677857408, 0.9249263355714816, 0.9506217490795741, 0.8547563501433693, 0.0949729277937077, 0.459256588162445, 0.18710453591803314, 0.283491721087929, 0.06803801306110296, 0.9368417071329422, 0.9255579100067418, 0.9495677277081188, 0.9692790474969278, 0.05303626412290761, 0.05303626412290761, 0.9016164900894293, 0.8225696119063544, 0.031637292765629016, 0.031637292765629016, 0.09491187829688705, 0.7174704773187158, 0.15749351941142542, 0.03499855986920565, 0.0699971197384113, 0.04789454901595301, 0.07184182352392951, 0.7663127842552482, 0.11973637253988252, 0.905264307762805, 0.08760622333188435, 0.02920207444396145, 0.569970542431926, 0.14475442347477485, 0.1628487264091217, 0.11761296907325457, 0.9138358365209832, 0.34331476427880264, 0.545782445776558, 0.04401471336907726, 0.061620598716708164, 0.5468617648943468, 0.3190026961883689, 0.08463336837650605, 0.04557181374119556, 0.15463973756971416, 0.30927947513942833, 0.5219091142977853, 0.011597980317728561, 0.056887307991443474, 0.056887307991443474, 0.5282392884919751, 0.3575773645176447, 0.06944166465565182, 0.09548228890152126, 0.6596958142286923, 0.17360416163912956, 0.0588693110682078, 0.31789427976832213, 0.6240146973230026, 0.10583575308894343, 0.8678531753293361, 0.7444949709467907, 0.059559597675743266, 0.16378889360829396, 0.029779798837871633, 0.0502656875600747, 0.004569607960006791, 0.283315693520421, 0.6625931542009847, 0.17426561715318806, 0.07261067381382837, 0.6244517947989239, 0.13069921286489106, 0.835527191555492, 0.023209088654319223, 0.11604544327159612, 0.004711776851036758, 0.08952376016969842, 0.9046611553990577, 0.06279171235690369, 0.9104798291751035, 0.17676304957809227, 0.77983698343276, 0.010397826445770133, 0.03639239256019547, 0.14454131353724992, 0.22995208971835213, 0.4796143585554202, 0.15111137324348856, 0.08128215505429903, 0.07502968158858372, 0.7753067097486984, 0.06877720812286842, 0.2245862212306499, 0.12833498356037137, 0.2138916392672856, 0.4384778604979355, 0.9546690158599852, 0.013172100674338194, 0.25026991281242567, 0.3754048692186385, 0.35564671820713123, 0.9798674865779025, 0.9734503657618119, 0.0767895721003781, 0.1326365336279258, 0.4188522114566078, 0.36998612012000354, 0.8973545407054592, 0.08157768551867811, 0.8005906589337353, 0.17155514120008614, 0.2394921988953006, 0.04989420810318763, 0.5787728139969764, 0.13970378268892536, 0.8464427831332871, 0.151150496988087, 0.8753999745853772, 0.06733845958349056, 0.06733845958349056, 0.6962141270567841, 0.06962141270567841, 0.13924282541135682, 0.10443211905851761, 0.0994804197885961, 0.024870104947149026, 0.8455835682030669, 0.037486204302938815, 0.01249540143431294, 0.9496505090077834, 0.9135906469581251, 0.22944089288816485, 0.09833181123778494, 0.5244363266015196, 0.15296059525877656, 0.929783646139233, 0.061985576409282206, 0.13474530380342775, 0.30119538497236786, 0.48349785482406427, 0.07926194341378102, 0.945903322762413, 0.09534209517929144, 0.858078856613623, 0.9330321660052235, 0.10308354600322682, 0.012885443250403352, 0.025770886500806705, 0.8633246977770246, 0.09276483074751461, 0.8812658921013888, 0.023191207686878653, 0.08385392963120411, 0.5717313383945735, 0.23631561986975705, 0.11434626767891469, 0.19095549078097201, 0.11232675928292471, 0.5391684445580386, 0.16849013892438708, 0.1802154980374053, 0.33922917277629233, 0.4770410242166611, 0.0030333987976688963, 0.00910019639300669, 0.9858546092423913, 0.9443689797139526, 0.08403089654996619, 0.8963295631996393, 0.9734238452001802, 0.07524818084006699, 0.10033090778675599, 0.8026472622940479, 0.06471169672887274, 0.010785282788145455, 0.6255464017124365, 0.30198791806807274, 0.26235117500220473, 0.011925053409191125, 0.5485524568227917, 0.16695074772867574, 0.09809195098833647, 0.06866436569183552, 0.8141631932031927, 0.019618390197667295, 0.30425557258875463, 0.5466286558374236, 0.12376497868017139, 0.030941244670042847, 0.9729345364533155, 0.3374577660318844, 0.24273277907556595, 0.24865309076033584, 0.17760935054309704, 0.22063939020799758, 0.24585532051748304, 0.15129558185691264, 0.38454293721965294, 0.9141428367480353, 0.05078571315266863, 0.9425603642346702, 0.08568730583951546, 0.08270361694232378, 0.45862914849834097, 0.41351808471161894, 0.04511106378672206, 0.2486809329625247, 0.47991057238381957, 0.12215905478860863, 0.1483359951004533], \"Term\": [\"Ahab\", \"Ahab\", \"Amsterdam\", \"August\", \"August\", \"August\", \"August\", \"Bedford\", \"Bennet\", \"Bennet\", \"Bennet\", \"Bildad\", \"Bingley\", \"Bingley\", \"Bingley\", \"Bistritz\", \"Cape Horn\", \"Captain\", \"Captain\", \"Captain\", \"Captain\", \"Captain_Ahab\", \"Captain_Ahab\", \"Captain_Peleg\", \"Caroline\", \"Caroline\", \"Charlotte\", \"Charlotte\", \"Clerval\", \"Clerval\", \"Cliff\", \"Collins\", \"Collins\", \"Collins\", \"Colonel\", \"Colonel\", \"Colonel\", \"Count\", \"Count Dracula\", \"Darcy\", \"Darcy\", \"Darcy\", \"Dracula\", \"Eliza\", \"Eliza\", \"Elizabeth\", \"Elizabeth\", \"Elizabeth\", \"Elizabeth\", \"Ernest\", \"Felix\", \"Felix\", \"Fitzwilliam\", \"Fitzwilliam\", \"Fitzwilliam\", \"Flask\", \"Flask\", \"Folio\", \"Forster\", \"Frankenstein\", \"Frankenstein\", \"Gardiner\", \"Gardiner\", \"Geneva\", \"Geneva\", \"God\", \"God\", \"God\", \"God\", \"Hawkins\", \"Henry\", \"Henry\", \"Henry\", \"Hertfordshire\", \"Hertfordshire\", \"Horn\", \"Hurst\", \"Hurst\", \"Hurst\", \"Jane\", \"Jane\", \"Jane\", \"Jonah\", \"Jonah\", \"Justine\", \"Justine\", \"Leviathan\", \"Louisa\", \"Lucas\", \"Lucas\", \"Lucases\", \"Lucy\", \"Lucy\", \"Meryton\", \"Meryton\", \"Meryton\", \"Miss\", \"Miss\", \"Miss\", \"Miss\", \"Miss Bingley\", \"Miss Bingley\", \"Miss Bingley\", \"Miss_Bennet\", \"Miss_Bennet\", \"Miss_Bennet\", \"Miss_Bingley\", \"Miss_Bingley\", \"Miss_Bingley\", \"Miss_Lucas\", \"Miss_Lucas\", \"Mrs\", \"Mrs\", \"Mrs\", \"Mrs\", \"Mrs_Bennet\", \"Mrs_Bennet\", \"Mrs_Bennet\", \"Mrs_Hurst\", \"Mrs_Hurst\", \"Mrs_Hurst\", \"Nantucket\", \"Nantucket\", \"Netherfield\", \"Netherfield\", \"Netherfield\", \"New Bedford\", \"New_Bedford\", \"Pacific\", \"Pass\", \"Peleg\", \"Pemberley\", \"Pemberley\", \"Pemberley\", \"Pequod\", \"Pier\", \"Queequeg\", \"Queequeg\", \"Safie\", \"Safie\", \"September\", \"September\", \"Seward\", \"Sir_William\", \"Sir_William\", \"Sir_William\", \"Slovaks\", \"Sperm\", \"Starbuck\", \"Starbuck\", \"Stubb\", \"Stubb\", \"Switzerland\", \"Victor\", \"Victor\", \"Whale\", \"Whitby\", \"Whitby\", \"Wickham\", \"Wickham\", \"Wickham\", \"William Lucas\", \"abhor\", \"acquaintance\", \"acquaintance\", \"acquaintance\", \"agreeable\", \"agreeable\", \"agreeable\", \"appear\", \"appear\", \"appear\", \"appear\", \"ardently\", \"ask\", \"ask\", \"ask\", \"ask\", \"asleep\", \"asleep\", \"asleep\", \"attention\", \"attention\", \"attention\", \"attention\", \"ball\", \"ball\", \"ball\", \"bed\", \"bed\", \"bed\", \"bed\", \"believe\", \"believe\", \"believe\", \"believe\", \"bench\", \"box\", \"box\", \"cabin\", \"cabin\", \"cabin\", \"captain\", \"captain\", \"castle\", \"castle\", \"castle\", \"chapel\", \"chapter\", \"chapter\", \"chapter\", \"chapter\", \"child\", \"child\", \"child\", \"child\", \"churchyard\", \"churchyard\", \"close\", \"close\", \"close\", \"close\", \"cottage\", \"cottage\", \"cottage\", \"cottager\", \"countenance\", \"countenance\", \"countenance\", \"countenance\", \"country\", \"country\", \"country\", \"country\", \"courtyard\", \"creator\", \"creator\", \"creature\", \"creature\", \"creature\", \"creature\", \"crime\", \"crime\", \"crime\", \"crucifix\", \"daemon\", \"dance\", \"dance\", \"dance\", \"dance\", \"dancing\", \"dark\", \"dark\", \"dark\", \"dark\", \"daylight\", \"dear\", \"dear\", \"dear\", \"dear\", \"death\", \"death\", \"death\", \"death\", \"deck\", \"deck\", \"deck\", \"desire\", \"desire\", \"desire\", \"desire\", \"despair\", \"despair\", \"despair\", \"despair\", \"diary\", \"diary\", \"discover\", \"discover\", \"discover\", \"discover\", \"door\", \"door\", \"door\", \"door\", \"driver\", \"east\", \"east\", \"endeavour\", \"endeavour\", \"endeavour\", \"enter\", \"enter\", \"enter\", \"enter\", \"face\", \"face\", \"face\", \"face\", \"fall\", \"fall\", \"fall\", \"fall\", \"family\", \"family\", \"family\", \"family\", \"father\", \"father\", \"father\", \"father\", \"fear\", \"fear\", \"fear\", \"fear\", \"feeling\", \"feeling\", \"feeling\", \"feeling\", \"fiend\", \"fiend\", \"fin\", \"fish\", \"fish\", \"fish\", \"fish\", \"fishery\", \"flame\", \"flame\", \"floor\", \"floor\", \"fog\", \"fog\", \"foot\", \"foot\", \"foot\", \"foot\", \"forever\", \"forever\", \"fulfil\", \"gentle\", \"gentle\", \"gentle\", \"girl\", \"girl\", \"girl\", \"girl\", \"happy\", \"happy\", \"happy\", \"happy\", \"harbour\", \"harbour\", \"hatred\", \"head\", \"head\", \"head\", \"head\", \"heart\", \"heart\", \"heart\", \"heart\", \"hold\", \"hold\", \"hold\", \"hold\", \"hope\", \"hope\", \"hope\", \"hope\", \"horn\", \"house\", \"house\", \"house\", \"house\", \"hovel\", \"howling\", \"howling\", \"human\", \"human\", \"human\", \"human\", \"humour\", \"humour\", \"humour\", \"husband\", \"husband\", \"husband\", \"inhabit\", \"inhabit\", \"innocence\", \"innocence\", \"key\", \"key\", \"lady\", \"lady\", \"lady\", \"lady\", \"lake\", \"lake\", \"lamp\", \"lamp\", \"landlord\", \"landlord\", \"later\", \"later\", \"letter\", \"letter\", \"letter\", \"letter\", \"lie\", \"lie\", \"lie\", \"lie\", \"life\", \"life\", \"life\", \"life\", \"light\", \"light\", \"light\", \"light\", \"lock\", \"lock\", \"lock\", \"love\", \"love\", \"love\", \"love\", \"magistrate\", \"manner\", \"manner\", \"manner\", \"manner\", \"marry\", \"marry\", \"marry\", \"mast\", \"mast\", \"mate\", \"mate\", \"mate\", \"mean\", \"mean\", \"mean\", \"mean\", \"mind\", \"mind\", \"mind\", \"mind\", \"miserable\", \"miserable\", \"miserable\", \"miserable\", \"misery\", \"misery\", \"misery\", \"misery\", \"misfortune\", \"misfortune\", \"misfortune\", \"moment\", \"moment\", \"moment\", \"moment\", \"month\", \"month\", \"month\", \"month\", \"moonlight\", \"moonlight\", \"morning\", \"morning\", \"morning\", \"morning\", \"mother\", \"mother\", \"mother\", \"mother\", \"murder\", \"murder\", \"murder\", \"murderer\", \"murderer\", \"murderer\", \"oil\", \"old\", \"old\", \"old\", \"old\", \"open\", \"open\", \"open\", \"open\", \"outside\", \"outside\", \"partial\", \"partner\", \"partner\", \"pass\", \"pass\", \"pass\", \"pass\", \"pier\", \"pilot\", \"presentation\", \"protector\", \"pull\", \"pull\", \"pull\", \"pursue\", \"pursue\", \"pursue\", \"pursue\", \"quit\", \"quit\", \"quit\", \"quit\", \"red\", \"red\", \"red\", \"red\", \"reflect\", \"reflect\", \"reflect\", \"remain\", \"remain\", \"remain\", \"remain\", \"remorse\", \"reply\", \"reply\", \"reply\", \"reply\", \"return\", \"return\", \"return\", \"return\", \"room\", \"room\", \"room\", \"room\", \"round\", \"round\", \"round\", \"round\", \"run\", \"run\", \"run\", \"run\", \"sail\", \"sail\", \"sail\", \"sailor\", \"sailor\", \"scene\", \"scene\", \"scene\", \"scene\", \"sea\", \"sea\", \"sea\", \"sea\", \"seat\", \"seat\", \"seat\", \"seat\", \"sensation\", \"sensation\", \"sensation\", \"ship\", \"ship\", \"ship\", \"shipmate\", \"shipmate\", \"sister\", \"sister\", \"sister\", \"sister\", \"sit\", \"sit\", \"sit\", \"sit\", \"sleep\", \"sleep\", \"sleep\", \"sleep\", \"small\", \"small\", \"small\", \"small\", \"softly\", \"sort\", \"sort\", \"sort\", \"sort\", \"sperm\", \"sperm_whale\", \"stand\", \"stand\", \"stand\", \"stand\", \"steep\", \"steep\", \"stone\", \"stone\", \"strange\", \"strange\", \"strange\", \"strange\", \"sweep\", \"sweep\", \"tale\", \"tale\", \"tale\", \"tear\", \"tear\", \"tear\", \"tear\", \"thee\", \"thee\", \"thee\", \"thou\", \"thou\", \"thou\", \"threat\", \"throw\", \"throw\", \"throw\", \"throw\", \"tranquillity\", \"tranquillity\", \"try\", \"try\", \"try\", \"try\", \"unfortunate\", \"unlucky\", \"unlucky\", \"victim\", \"voyage\", \"voyage\", \"voyage\", \"voyage\", \"wall\", \"wall\", \"wall\", \"want\", \"want\", \"want\", \"want\", \"watch\", \"watch\", \"watch\", \"watch\", \"water\", \"water\", \"water\", \"whale\", \"whale\", \"whale\", \"whale_ship\", \"whaleman\", \"whaleman\", \"whaling\", \"whilst\", \"whilst\", \"whilst\", \"white\", \"white\", \"white\", \"white\", \"wind\", \"wind\", \"wind\", \"wind\", \"window\", \"window\", \"window\", \"window\", \"wish\", \"wish\", \"wish\", \"wish\", \"wolf\", \"word\", \"word\", \"word\", \"word\", \"world\", \"world\", \"world\", \"world\", \"wretch\", \"wretch\", \"wretchedness\", \"wretchedness\", \"write\", \"write\", \"write\", \"write\", \"young\", \"young\", \"young\", \"young\"]}, \"R\": 30, \"lambda.step\": 0.01, \"plot.opts\": {\"xlab\": \"PC1\", \"ylab\": \"PC2\"}, \"topic.order\": [2, 3, 1, 4]};\n\nfunction LDAvis_load_lib(url, callback){\n  var s = document.createElement('script');\n  s.src = url;\n  s.async = true;\n  s.onreadystatechange = s.onload = callback;\n  s.onerror = function(){console.warn(\"failed to load library \" + url);};\n  document.getElementsByTagName(\"head\")[0].appendChild(s);\n}\n\nif(typeof(LDAvis) !== \"undefined\"){\n   // already loaded: just create the visualization\n   !function(LDAvis){\n       new LDAvis(\"#\" + \"ldavis_el8173855481653766394267984\", ldavis_el8173855481653766394267984_data);\n   }(LDAvis);\n}else if(typeof define === \"function\" && define.amd){\n   // require.js is available: use it to load d3/LDAvis\n   require.config({paths: {d3: \"https://d3js.org/d3.v5\"}});\n   require([\"d3\"], function(d3){\n      window.d3 = d3;\n      LDAvis_load_lib(\"https://cdn.jsdelivr.net/gh/bmabey/pyLDAvis@3.3.1/pyLDAvis/js/ldavis.v3.0.0.js\", function(){\n        new LDAvis(\"#\" + \"ldavis_el8173855481653766394267984\", ldavis_el8173855481653766394267984_data);\n      });\n    });\n}else{\n    // require.js not available: dynamically load d3 & LDAvis\n    LDAvis_load_lib(\"https://d3js.org/d3.v5.js\", function(){\n         LDAvis_load_lib(\"https://cdn.jsdelivr.net/gh/bmabey/pyLDAvis@3.3.1/pyLDAvis/js/ldavis.v3.0.0.js\", function(){\n                 new LDAvis(\"#\" + \"ldavis_el8173855481653766394267984\", ldavis_el8173855481653766394267984_data);\n            })\n         });\n}\n</script>"
     },
     "execution_count": 58,
     "metadata": {},
     "output_type": "execute_result"
    }
   ],
   "source": [
    "# plot topics\n",
    "data =  pyLDAvis.gensim_models.prepare(model, corpus, dictionary)\n",
    "pyLDAvis.display(data)"
   ]
  },
  {
   "cell_type": "code",
   "execution_count": 59,
   "metadata": {
    "pycharm": {
     "name": "#%%\n"
    }
   },
   "outputs": [],
   "source": [
    "# assignment\n",
    "sent_to_cluster = list()\n",
    "for n,doc in enumerate(corpus):\n",
    "    if doc:\n",
    "        cluster = max(model[doc],key=lambda x:x[1])\n",
    "        sent_to_cluster.append(cluster[0])"
   ]
  },
  {
   "cell_type": "code",
   "execution_count": 60,
   "metadata": {
    "pycharm": {
     "name": "#%%\n"
    }
   },
   "outputs": [
    {
     "name": "stdout",
     "output_type": "stream",
     "text": [
      "DRACULA.txt : 0 - 52\n",
      "Accuracy: 0.8666666666666667\n",
      "------\n",
      "Frankenstein.txt : 1 - 59\n",
      "Accuracy: 0.9833333333333333\n",
      "------\n",
      "Moby_Dick.txt : 3 - 50\n",
      "Accuracy: 0.8333333333333334\n",
      "------\n",
      "PRIDE_AND_PREJUDICE.txt : 2 - 58\n",
      "Accuracy: 0.9666666666666667\n",
      "------\n"
     ]
    }
   ],
   "source": [
    "# accuracy\n",
    "from collections import Counter\n",
    "for book, cluster in book_id.items():\n",
    "    assignments = list()\n",
    "    for real,given in zip(chunk_class,sent_to_cluster):\n",
    "        if real == cluster:\n",
    "            assignments.append(given)\n",
    "    most_common,num_most_common = Counter(assignments).most_common(1)[0] # 4, 6 times\n",
    "    print(book,\":\",most_common,\"-\",num_most_common)\n",
    "    print(\"Accuracy:\",num_most_common/limit)\n",
    "    print(\"------\")"
   ]
  },
  {
   "cell_type": "markdown",
   "metadata": {
    "pycharm": {
     "name": "#%% md\n"
    }
   },
   "source": [
    "# Task 4: Semantic analysis based on lexical categories"
   ]
  },
  {
   "cell_type": "code",
   "execution_count": 61,
   "metadata": {
    "pycharm": {
     "name": "#%%\n"
    }
   },
   "outputs": [],
   "source": [
    "from empath import Empath\n",
    "lexicon = Empath()"
   ]
  },
  {
   "cell_type": "markdown",
   "metadata": {
    "pycharm": {
     "name": "#%% md\n"
    }
   },
   "source": [
    "### Let's see what pre-build categories we can study! More information: https://hci.stanford.edu/publications/2016/ethan/empath-chi-2016.pdf"
   ]
  },
  {
   "cell_type": "code",
   "execution_count": 62,
   "metadata": {
    "pycharm": {
     "name": "#%%\n"
    }
   },
   "outputs": [
    {
     "name": "stdout",
     "output_type": "stream",
     "text": [
      "help\n",
      "office\n",
      "dance\n",
      "money\n",
      "wedding\n",
      "domestic_work\n",
      "sleep\n",
      "medical_emergency\n",
      "cold\n",
      "hate\n",
      "cheerfulness\n",
      "aggression\n",
      "occupation\n",
      "envy\n",
      "anticipation\n"
     ]
    }
   ],
   "source": [
    "for cat in list(lexicon.cats.keys())[:15]:\n",
    "    print(cat)"
   ]
  },
  {
   "cell_type": "markdown",
   "metadata": {
    "pycharm": {
     "name": "#%% md\n"
    }
   },
   "source": [
    "### For each category, we can examine representative terms"
   ]
  },
  {
   "cell_type": "code",
   "execution_count": 63,
   "metadata": {
    "pycharm": {
     "name": "#%%\n"
    }
   },
   "outputs": [
    {
     "data": {
      "text/plain": "['antidepressant',\n 'heartburn',\n 'immune',\n 'surgery',\n 'respiratory',\n 'nutrient',\n 'medication',\n 'deficiency',\n 'poisoning',\n 'tumor',\n 'recuperate',\n 'nursing',\n 'behavioral',\n 'dehydration',\n 'disorder']"
     },
     "execution_count": 63,
     "metadata": {},
     "output_type": "execute_result"
    }
   ],
   "source": [
    "lexicon.cats[\"health\"][:15]"
   ]
  },
  {
   "cell_type": "markdown",
   "metadata": {
    "pycharm": {
     "name": "#%% md\n"
    }
   },
   "source": [
    "### Studying Pride and Prejudice"
   ]
  },
  {
   "cell_type": "code",
   "execution_count": 64,
   "metadata": {
    "pycharm": {
     "name": "#%%\n"
    }
   },
   "outputs": [],
   "source": [
    "nlp = spacy.load('en_core_web_sm')\n",
    "doc = nlp(books[3])"
   ]
  },
  {
   "cell_type": "code",
   "execution_count": 65,
   "metadata": {
    "pycharm": {
     "name": "#%%\n"
    }
   },
   "outputs": [],
   "source": [
    "empath_features = lexicon.analyze(doc.text,categories = [\"disappointment\", \"pain\", \"joy\", \"beauty\", \"affection\"])"
   ]
  },
  {
   "cell_type": "code",
   "execution_count": 66,
   "metadata": {
    "pycharm": {
     "name": "#%%\n"
    }
   },
   "outputs": [
    {
     "data": {
      "text/plain": "{'disappointment': 149.0,\n 'pain': 228.0,\n 'joy': 278.0,\n 'beauty': 136.0,\n 'affection': 439.0}"
     },
     "execution_count": 66,
     "metadata": {},
     "output_type": "execute_result"
    }
   ],
   "source": [
    "empath_features"
   ]
  },
  {
   "cell_type": "code",
   "execution_count": 67,
   "metadata": {
    "pycharm": {
     "name": "#%%\n"
    }
   },
   "outputs": [],
   "source": [
    "empath_features = lexicon.analyze(doc.text,categories = [\"disappointment\", \"pain\", \"joy\", \"beauty\", \"affection\"], normalize = True)"
   ]
  },
  {
   "cell_type": "code",
   "execution_count": 68,
   "metadata": {
    "pycharm": {
     "name": "#%%\n"
    }
   },
   "outputs": [
    {
     "data": {
      "text/plain": "{'disappointment': 0.0012256615693403638,\n 'pain': 0.001875508978587939,\n 'joy': 0.002286804807225645,\n 'beauty': 0.0011187246538945602,\n 'affection': 0.0036111773754390585}"
     },
     "execution_count": 68,
     "metadata": {},
     "output_type": "execute_result"
    }
   ],
   "source": [
    "empath_features"
   ]
  },
  {
   "cell_type": "markdown",
   "metadata": {
    "pycharm": {
     "name": "#%% md\n"
    }
   },
   "source": [
    "### Usecase: the evolution of topics"
   ]
  },
  {
   "cell_type": "code",
   "execution_count": 69,
   "metadata": {
    "pycharm": {
     "name": "#%%\n"
    }
   },
   "outputs": [],
   "source": [
    "bins = range(0,len(doc.text),150000)\n"
   ]
  },
  {
   "cell_type": "code",
   "execution_count": 70,
   "metadata": {
    "pycharm": {
     "name": "#%%\n"
    }
   },
   "outputs": [],
   "source": [
    "love = []\n",
    "pain = []\n",
    "beauty = []\n",
    "affection = []\n",
    "\n",
    "\n",
    "for cnt,i in enumerate(bins[:-1]):\n",
    "    empath_features = lexicon.analyze(doc.text[bins[cnt]:bins[cnt+1]],\n",
    "                                      categories = [\"love\", \"pain\", \"joy\", \"beauty\", \"affection\"], normalize = True)\n",
    "    love.append(empath_features[\"love\"])\n",
    "    pain.append(empath_features[\"pain\"])\n",
    "    beauty.append(empath_features[\"beauty\"])\n",
    "    affection.append(empath_features[\"affection\"])"
   ]
  },
  {
   "cell_type": "code",
   "execution_count": 71,
   "metadata": {
    "pycharm": {
     "name": "#%%\n"
    }
   },
   "outputs": [
    {
     "data": {
      "text/plain": "<matplotlib.legend.Legend at 0x16aa0e160>"
     },
     "execution_count": 71,
     "metadata": {},
     "output_type": "execute_result"
    },
    {
     "data": {
      "text/plain": "<Figure size 640x480 with 1 Axes>",
      "image/png": "[encoded data removed]"
     },
     "metadata": {},
     "output_type": "display_data"
    }
   ],
   "source": [
    "plt.plot(love,label = \"love\")\n",
    "plt.plot(beauty, label = \"beauty\")\n",
    "plt.plot(affection, label = \"affection\")\n",
    "plt.plot(pain,label = \"pain\")\n",
    "\n",
    "plt.xlabel(\"progression in the book\")\n",
    "plt.ylabel(\"frequency of a category\")\n",
    "plt.legend()"
   ]
  },
  {
   "cell_type": "code",
   "execution_count": 72,
   "metadata": {
    "pycharm": {
     "name": "#%%\n"
    }
   },
   "outputs": [],
   "source": [
    "# We can observe how as the story progresses, beauty and affection categories decrease, while love and pain intensify!"
   ]
  },
  {
   "cell_type": "markdown",
   "metadata": {
    "pycharm": {
     "name": "#%% md\n"
    }
   },
   "source": [
    "### We can create custom categories based on seed terms!\n",
    "### Models trained on: fiction, nytimes or reddit"
   ]
  },
  {
   "cell_type": "code",
   "execution_count": 73,
   "metadata": {
    "pycharm": {
     "name": "#%%\n"
    }
   },
   "outputs": [
    {
     "name": "stdout",
     "output_type": "stream",
     "text": [
      "[\"avocado\", \"kale\", \"Swiss_chard\", \"escarole\", \"black_beans\", \"cucumber\", \"dill\", \"leek\", \"mango\", \"red_peppers\", \"chicory\", \"chanterelles\", \"chutney\", \"tamarind\", \"papaya\", \"black_olives\", \"endive\", \"pesto\", \"walnuts\", \"green_beans\", \"bok_choy\", \"portobello_mushrooms\", \"lemon_grass\", \"radicchio\", \"ricotta\", \"chicken_breast\", \"porcini\", \"blue_cheese\", \"snow_peas\", \"pickled\", \"Gorgonzola\", \"chorizo\", \"yams\", \"hazelnuts\", \"fresh_tomatoes\", \"shiitake_mushrooms\", \"anchovies\", \"wild_rice\", \"scallion\", \"red_onions\", \"broccoli_rape\", \"red_cabbage\", \"wasabi\", \"sweet_potato\", \"feta\", \"roasted_garlic\", \"compote\", \"napoleon\", \"aioli\", \"crab_meat\", \"cauliflower\", \"jicama\", \"parsnips\", \"apricots\", \"new_potatoes\", \"truffle_oil\", \"lemongrass\", \"pistachios\", \"saut\\u00e9ed\", \"gnocchi\", \"duck_confit\", \"fresh_herbs\", \"ratatouille\", \"white_beans\", \"croutons\", \"fresh_mozzarella\", \"squab\", \"watercress\", \"roasted_red_peppers\", \"pine_nuts\", \"fritters\", \"butternut_squash\", \"fava_beans\", \"drizzled\", \"red_onion\", \"pea_shoots\", \"rosemary\", \"romaine\", \"mustard_greens\", \"horseradish\", \"caramelized_onions\", \"artichoke_hearts\", \"fettuccine\", \"grilled_eggplant\", \"julienne\", \"plum_tomatoes\", \"grilled_chicken\", \"pineapple\", \"candied\", \"pancetta\", \"celery_root\", \"sea_scallops\", \"shiitake\", \"porcini_mushrooms\", \"sour_cream\", \"bean_sprouts\", \"oyster_mushrooms\", \"monkfish\", \"chickpeas\", \"coconut_milk\"]\n"
     ]
    }
   ],
   "source": [
    "lexicon.create_category(\"healthy_food\", [\"healthy_food\",\"low_carb\",\"kale\",\"avocado\"], model=\"nytimes\")"
   ]
  },
  {
   "cell_type": "code",
   "execution_count": 74,
   "metadata": {
    "pycharm": {
     "name": "#%%\n"
    }
   },
   "outputs": [
    {
     "name": "stdout",
     "output_type": "stream",
     "text": [
      "[\"green_vegetables\", \"leafy_greens\", \"whole_grain_bread\", \"brown_rice\", \"white_rice\", \"green_veggies\", \"veggies\", \"whole_wheat_bread\", \"sweet_potatoes\", \"raw_veggies\", \"lean_meat\", \"spinach\", \"fatty_meat\", \"kale\", \"sweet_potato\", \"avocado\", \"hummus\", \"chicken_breast\", \"veggie\", \"whole_grain\", \"vegetables\", \"whole_wheat_pasta\", \"salads\", \"broccoli\", \"greek_yogurt\", \"Greek_yogurt\", \"yogurt\", \"avocados\", \"rice_cakes\", \"raw_vegetables\", \"almonds\", \"lean_protein\", \"grilled_chicken\", \"quinoa\", \"steamed_broccoli\", \"whole_grain_pasta\", \"brocolli\", \"kale\", \"avocado\", \"tofu\", \"Veggies\", \"edamame\", \"more_veggies\", \"lean_meats\", \"quinoa\", \"salad\", \"cottage_cheese\", \"whole_wheat\", \"wheat_bread\", \"romaine_lettuce\", \"white_bread\", \"raw_spinach\", \"oatmeal\", \"white_potatoes\", \"almond_butter\", \"pork_rinds\", \"veg\", \"cashews\", \"greek_yoghurt\", \"baby_carrots\", \"fresh_veggies\", \"fatty_meats\", \"more_vegetables\", \"avacado\", \"veges\", \"nut_butter\", \"hard_boiled_eggs\", \"carrot_sticks\", \"whole_grains\", \"grilled_chicken_breast\", \"steamed_vegetables\", \"meats\", \"lentils\", \"green_beans\", \"low_cal\", \"nuts/seeds\", \"iceberg_lettuce\", \"carrots\", \"red_meat\", \"other_foods\", \"fried_foods\", \"smoothies\", \"healthy_fats\", \"vegies\", \"avacados\", \"other_vegetables\", \"fresh_fruit\", \"spinach_salad\", \"egg_whites\", \"steamed_veggies\", \"nut_butters\", \"ground_turkey\", \"baked_chicken\"]\n"
     ]
    }
   ],
   "source": [
    "lexicon.create_category(\"healthy_food\", [\"healthy_food\",\"low_carb\",\"kale\",\"avocado\"], model=\"reddit\")"
   ]
  },
  {
   "cell_type": "code",
   "execution_count": 75,
   "metadata": {
    "pycharm": {
     "name": "#%%\n"
    }
   },
   "outputs": [
    {
     "name": "stdout",
     "output_type": "stream",
     "text": [
      "[\"turkey\", \"roast_beef\", \"white_bread\", \"fried_chicken\", \"pancakes\", \"peanut_butter\", \"gefilte_fish\", \"stuffing\", \"French_fries\", \"meatloaf\", \"brisket\", \"potato_salad\", \"pumpkin_pie\", \"scrambled_eggs\", \"french_fries\", \"spaghetti\", \"gravy\", \"tamales\", \"pot_roast\", \"oatmeal\", \"lasagna\", \"corned_beef\", \"latkes\", \"pickles\", \"sauerkraut\", \"burger\", \"grits\", \"biscuits\", \"hamburger\", \"salad_bar\", \"corn_bread\", \"chicken_soup\", \"bacon\", \"cream_cheese\", \"brownies\", \"tofu\", \"pastrami\", \"pork_chops\", \"salami\", \"marshmallows\", \"collard_greens\", \"macaroni\", \"pies\", \"raw_fish\", \"eggnog\", \"cheeseburgers\", \"truffles\", \"chocolate_cake\", \"hard-boiled_eggs\", \"baked_potatoes\", \"venison\", \"cottage_cheese\", \"pheasant\", \"applesauce\", \"quail\", \"fruit_salad\", \"meatballs\", \"chocolate_chip_cookies\", \"tacos\", \"roast\", \"jelly\", \"chicken_salad\", \"omelet\", \"gumbo\", \"steaks\", \"soup\", \"lox\", \"sausage\", \"roast_chicken\", \"rye\", \"bagel\", \"fruitcake\", \"fries\", \"fried_eggs\", \"ketchup\", \"chicken_wings\", \"barbecue_sauce\", \"sweet_potatoes\", \"pasta\", \"sausages\", \"crackers\", \"omelets\", \"roasting\", \"French_toast\", \"muffins\", \"mashed_potatoes\", \"fresh_fruit\", \"baked_potato\", \"waffles\", \"cranberry_sauce\", \"baked_beans\", \"cheese\", \"tripe\", \"noodles\", \"maple_syrup\", \"quiche\", \"buns\", \"baklava\", \"stews\"]\n"
     ]
    }
   ],
   "source": [
    "lexicon.create_category(\"festive_food\", [\"festive_food\",\"turkey\",\"eggnog\"], model=\"nytimes\")"
   ]
  },
  {
   "cell_type": "markdown",
   "metadata": {
    "pycharm": {
     "name": "#%% md\n"
    }
   },
   "source": [
    "### List of further resources\n",
    "    * NLTK\n",
    "    * Jellyfish: string similarity library\n",
    "    * TextBlob: simplified text processing\n",
    "    * PyEnchant: language detection\n",
    "    * WordNet: ontology of concepts (inc. in NLTK)\n",
    "    * Stanford NLP (Java)\n",
    "    * Tweet NLP: https://www.cs.cmu.edu/~ark/TweetNLP/"
   ]
  },
  {
   "cell_type": "markdown",
   "metadata": {
    "pycharm": {
     "name": "#%% md\n"
    }
   },
   "source": [
    "## Part 2"
   ]
  },
  {
   "cell_type": "markdown",
   "metadata": {
    "pycharm": {
     "name": "#%% md\n"
    }
   },
   "source": [
    "### Question 1:\n",
    "An NLP preprocessing model, using the list of stopwords ['a', 'the', 'is', 'you', 'I','my','with','was'] for the input sentence\n",
    "“I was driving down the street with my CAR! :)” <br>\n",
    "gives the following output: {driving, down, street, car, :)}.\n",
    "The model consists of: <br>\n",
    "\n",
    "a) Stopword Removal, Casefolding and Stemming <br>\n",
    "b) Stopword Removal and Casefolding <br>\n",
    "c) Stopword Removal and Stemming <br>\n",
    "d) Casefolding and Stemming <br>"
   ]
  },
  {
   "cell_type": "code",
   "execution_count": 76,
   "metadata": {
    "pycharm": {
     "name": "#%%\n"
    }
   },
   "outputs": [],
   "source": [
    "B"
   ]
  },
  {
   "cell_type": "markdown",
   "metadata": {
    "pycharm": {
     "name": "#%% md\n"
    }
   },
   "source": [
    "### Question 2:\n",
    "What statement is false about topic detection using LSA: <br>\n",
    "\n",
    "a) It finds the representation of documents and words in the latent \"topic space\" <br>\n",
    "b) It produces topics interpretable in “word space” <br>\n",
    "c) A document's topic representation is a probability distribution over topics <br>\n",
    "d) The vectors representing topics in “word space” are linearly independent <br>"
   ]
  },
  {
   "cell_type": "code",
   "execution_count": 77,
   "metadata": {
    "pycharm": {
     "name": "#%%\n"
    }
   },
   "outputs": [],
   "source": [
    "C"
   ]
  },
  {
   "cell_type": "markdown",
   "metadata": {
    "pycharm": {
     "name": "#%% md\n"
    }
   },
   "source": [
    "### Question 3:\n",
    "The problem of having more features than documents when using a TF-IDF matrix for document classification cannot be addressed by: <br>\n",
    "\n",
    "a) Using SVD for dimensionality reduction <br>\n",
    "b) Using min-max scaling of features <br>\n",
    "c) Penalizing very large positive and very large negative weights (a.k.a. regularization) <br>\n",
    "d) Using online feature selection <br>"
   ]
  },
  {
   "cell_type": "code",
   "execution_count": 78,
   "metadata": {
    "pycharm": {
     "name": "#%%\n"
    }
   },
   "outputs": [],
   "source": [
    "B"
   ]
  },
  {
   "cell_type": "markdown",
   "metadata": {
    "pycharm": {
     "name": "#%% md\n"
    }
   },
   "source": [
    "### Question 4:\n",
    "Which of the following is false about word vectors: <br>\n",
    "\n",
    "a) Word2vec is used to achieve a lower dimensional representation than bag of words <br>\n",
    "b) Semantically similar words typically have similar word2vec vectors <br>\n",
    "c) Each dimension in the word2vec embedding has a clear interpretation <br>\n",
    "d) Word2Vec can be used for the computation of sentence vectors <br>"
   ]
  },
  {
   "cell_type": "code",
   "execution_count": 79,
   "metadata": {
    "pycharm": {
     "name": "#%%\n"
    }
   },
   "outputs": [],
   "source": [
    "C"
   ]
  },
  {
   "cell_type": "markdown",
   "metadata": {
    "pycharm": {
     "name": "#%% md\n"
    }
   },
   "source": [
    "### Question 5:\n",
    "Given the following word (W) / context (C) co-occurrence frequencies, which statement is true regarding the pointwise mutual information (PMI)?\n",
    "\n",
    "|  |W1|W2|W3|\n",
    "|--|--|--|--|\n",
    "|C1| 2| 0| 3|\n",
    "|C2| 6| 4| 0|\n",
    "|C3| 1| 1| 3|\n",
    "\n",
    "a) PMI(w=W1, c=C2) > PMI(w=W2, c=C2) > PMI(w=W3, c=C3) <br>\n",
    "b) PMI(w=W2, c=C2) > PMI(w=W1, c=C2) >  PMI(w=W3, c=C3) <br>\n",
    "c) PMI(w=W3, c=C3) > PMI(w=W1, c=C2) > PMI(w=W2, c=C2) <br>\n",
    "d) PMI(w=W3, c=C3) > PMI(w=W2, c=C2) > PMI(w=W1, c=C2) <br>"
   ]
  },
  {
   "cell_type": "code",
   "execution_count": 141,
   "metadata": {
    "pycharm": {
     "name": "#%%\n"
    }
   },
   "outputs": [],
   "source": [
    "D"
   ]
  },
  {
   "cell_type": "code",
   "execution_count": null,
   "metadata": {
    "collapsed": true,
    "jupyter": {
     "outputs_hidden": true
    },
    "pycharm": {
     "name": "#%%\n"
    }
   },
   "outputs": [],
   "source": [
    "1/15, 2/25,"
   ]
  }
 ],
 "metadata": {
  "kernelspec": {
   "name": "torch-gpu",
   "language": "python",
   "display_name": "torch-gpu"
  },
  "language_info": {
   "codemirror_mode": {
    "name": "ipython",
    "version": 3
   },
   "file_extension": ".py",
   "mimetype": "text/x-python",
   "name": "python",
   "nbconvert_exporter": "python",
   "pygments_lexer": "ipython3",
   "version": "3.9.13"
  },
  "toc": {
   "colors": {
    "hover_highlight": "#DAA520",
    "navigate_num": "#000000",
    "navigate_text": "#333333",
    "running_highlight": "#FF0000",
    "selected_highlight": "#FFD700",
    "sidebar_border": "#EEEEEE",
    "wrapper_background": "#FFFFFF"
   },
   "moveMenuLeft": true,
   "nav_menu": {
    "height": "228px",
    "width": "252px"
   },
   "navigate_menu": true,
   "number_sections": true,
   "sideBar": true,
   "threshold": 4,
   "toc_cell": false,
   "toc_section_display": "block",
   "toc_window_display": false,
   "widenNotebook": false
  },
  "varInspector": {
   "cols": {
    "lenName": 16,
    "lenType": 16,
    "lenVar": 40
   },
   "kernels_config": {
    "python": {
     "delete_cmd_postfix": "",
     "delete_cmd_prefix": "del ",
     "library": "var_list.py",
     "varRefreshCmd": "print(var_dic_list())"
    },
    "r": {
     "delete_cmd_postfix": ") ",
     "delete_cmd_prefix": "rm(",
     "library": "var_list.r",
     "varRefreshCmd": "cat(var_dic_list()) "
    }
   },
   "types_to_exclude": [
    "module",
    "function",
    "builtin_function_or_method",
    "instance",
    "_Feature"
   ],
   "window_display": false
  }
 },
 "nbformat": 4,
 "nbformat_minor": 4
}