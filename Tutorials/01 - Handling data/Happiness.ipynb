{
 "cells": [
  {
   "cell_type": "markdown",
   "metadata": {},
   "source": [
    "## Data from World Happiness Report\n",
    "\n",
    "The World Happiness Report is an annual publication of the United Nations Sustainable Development Solutions Network. It contains articles, and rankings of national happiness based on respondent ratings of their own lives, which the report also correlates with various life factors.\n",
    "\n",
    "In this notebook we will explore the happiness of different countries and the features associated.\n",
    "The datasets that we will use are available in *Data*: **happiness2020.pkl** and **countries_info.csv**.\n",
    "\n",
    "Although the features are self-explanatory, here a summary: \n",
    "\n",
    "**happiness2020.pkl**\n",
    "* country: *Name of the country*\n",
    "* happiness_score: *Happiness score*\n",
    "* social_support: *Social support (mitigation the effects of inequality)*\n",
    "* healthy_life_expectancy: *Healthy Life Expectancy*\n",
    "* freedom_of_choices: *Freedom to make life choices*\n",
    "* generosity: *Generosity (charity, volunteers)*\n",
    "* perception_of_corruption: *Corruption Perception*\n",
    "* world_region: *Area of the world of the country*\n",
    "\n",
    "**countries_info.csv**\n",
    "* country_name: *Name of the country*\n",
    "* area: *Area in sq mi*\n",
    "* population: *Number of people*\n",
    "* literacy: *Literacy percentage*"
   ]
  },
  {
   "cell_type": "code",
   "execution_count": 1,
   "metadata": {
    "ExecuteTime": {
     "end_time": "2022-09-30T11:28:41.782365Z",
     "start_time": "2022-09-30T11:28:41.646758Z"
    }
   },
   "outputs": [
    {
     "name": "stdout",
     "output_type": "stream",
     "text": [
      "country_name,area,population,literacy\r\n",
      "afghanistan,647500,31056997,\"36,0\"\r\n",
      "albania,28748,3581655,\"86,5\"\r\n",
      "algeria,2381740,32930091,\"70,0\"\r\n",
      "argentina,2766890,39921833,\"97,1\"\r\n",
      "armenia,29800,2976372,\"98,6\"\r\n",
      "australia,7686850,20264082,\"100,0\"\r\n",
      "austria,83870,8192880,\"98,0\"\r\n",
      "azerbaijan,86600,7961619,\"97,0\"\r\n",
      "bahrain,665,698585,\"89,1\"\r\n"
     ]
    }
   ],
   "source": [
    "!head Data/countries_info.csv"
   ]
  },
  {
   "cell_type": "code",
   "execution_count": 171,
   "metadata": {
    "ExecuteTime": {
     "end_time": "2022-10-02T21:19:52.733379Z",
     "start_time": "2022-10-02T21:19:52.722600Z"
    }
   },
   "outputs": [],
   "source": [
    "import pandas as pd\n",
    "%matplotlib inline\n",
    "import matplotlib.pyplot as plt\n",
    "%matplotlib inline\n",
    "\n",
    "DATA_FOLDER = 'Data/'\n",
    "\n",
    "HAPPINESS_DATASET = DATA_FOLDER+\"happiness2020.csv\"\n",
    "COUNTRIES_DATASET = DATA_FOLDER+\"countries_info.csv\""
   ]
  },
  {
   "cell_type": "markdown",
   "metadata": {},
   "source": [
    "## Task 1: Load the data\n",
    "\n",
    "Load the 2 datasets in Pandas dataframes (called *happiness* and *countries*), and show the first rows.\n",
    "\n",
    "\n",
    "**Hint**: Use the correct reader and verify the data has the expected format."
   ]
  },
  {
   "cell_type": "code",
   "execution_count": 78,
   "metadata": {
    "ExecuteTime": {
     "end_time": "2022-10-02T17:23:08.996938Z",
     "start_time": "2022-10-02T17:23:08.974548Z"
    }
   },
   "outputs": [
    {
     "data": {
      "text/html": [
       "<div>\n",
       "<style scoped>\n",
       "    .dataframe tbody tr th:only-of-type {\n",
       "        vertical-align: middle;\n",
       "    }\n",
       "\n",
       "    .dataframe tbody tr th {\n",
       "        vertical-align: top;\n",
       "    }\n",
       "\n",
       "    .dataframe thead th {\n",
       "        text-align: right;\n",
       "    }\n",
       "</style>\n",
       "<table border=\"1\" class=\"dataframe\">\n",
       "  <thead>\n",
       "    <tr style=\"text-align: right;\">\n",
       "      <th></th>\n",
       "      <th>country</th>\n",
       "      <th>happiness_score</th>\n",
       "      <th>social_support</th>\n",
       "      <th>healthy_life_expectancy</th>\n",
       "      <th>freedom_of_choices</th>\n",
       "      <th>generosity</th>\n",
       "      <th>perception_of_corruption</th>\n",
       "      <th>world_region</th>\n",
       "    </tr>\n",
       "  </thead>\n",
       "  <tbody>\n",
       "    <tr>\n",
       "      <th>0</th>\n",
       "      <td>Afghanistan</td>\n",
       "      <td>2.5669</td>\n",
       "      <td>0.470367</td>\n",
       "      <td>52.59</td>\n",
       "      <td>0.396573</td>\n",
       "      <td>-0.096429</td>\n",
       "      <td>0.933687</td>\n",
       "      <td>South Asia</td>\n",
       "    </tr>\n",
       "  </tbody>\n",
       "</table>\n",
       "</div>"
      ],
      "text/plain": [
       "       country  happiness_score  social_support  healthy_life_expectancy  \\\n",
       "0  Afghanistan           2.5669        0.470367                    52.59   \n",
       "\n",
       "   freedom_of_choices  generosity  perception_of_corruption world_region  \n",
       "0            0.396573   -0.096429                  0.933687   South Asia  "
      ]
     },
     "execution_count": 78,
     "metadata": {},
     "output_type": "execute_result"
    }
   ],
   "source": [
    "# Write your code here\n",
    "happiness = pd.read_csv('./Data/happiness2020.csv')\n",
    "countries = pd.read_csv('./Data/countries_info.csv')\n",
    "happiness.head(1)"
   ]
  },
  {
   "cell_type": "code",
   "execution_count": 79,
   "metadata": {
    "ExecuteTime": {
     "end_time": "2022-10-02T17:23:09.482790Z",
     "start_time": "2022-10-02T17:23:09.469115Z"
    }
   },
   "outputs": [
    {
     "data": {
      "text/html": [
       "<div>\n",
       "<style scoped>\n",
       "    .dataframe tbody tr th:only-of-type {\n",
       "        vertical-align: middle;\n",
       "    }\n",
       "\n",
       "    .dataframe tbody tr th {\n",
       "        vertical-align: top;\n",
       "    }\n",
       "\n",
       "    .dataframe thead th {\n",
       "        text-align: right;\n",
       "    }\n",
       "</style>\n",
       "<table border=\"1\" class=\"dataframe\">\n",
       "  <thead>\n",
       "    <tr style=\"text-align: right;\">\n",
       "      <th></th>\n",
       "      <th>country_name</th>\n",
       "      <th>area</th>\n",
       "      <th>population</th>\n",
       "      <th>literacy</th>\n",
       "    </tr>\n",
       "  </thead>\n",
       "  <tbody>\n",
       "    <tr>\n",
       "      <th>0</th>\n",
       "      <td>afghanistan</td>\n",
       "      <td>647500</td>\n",
       "      <td>31056997</td>\n",
       "      <td>36,0</td>\n",
       "    </tr>\n",
       "    <tr>\n",
       "      <th>1</th>\n",
       "      <td>albania</td>\n",
       "      <td>28748</td>\n",
       "      <td>3581655</td>\n",
       "      <td>86,5</td>\n",
       "    </tr>\n",
       "    <tr>\n",
       "      <th>2</th>\n",
       "      <td>algeria</td>\n",
       "      <td>2381740</td>\n",
       "      <td>32930091</td>\n",
       "      <td>70,0</td>\n",
       "    </tr>\n",
       "    <tr>\n",
       "      <th>3</th>\n",
       "      <td>argentina</td>\n",
       "      <td>2766890</td>\n",
       "      <td>39921833</td>\n",
       "      <td>97,1</td>\n",
       "    </tr>\n",
       "    <tr>\n",
       "      <th>4</th>\n",
       "      <td>armenia</td>\n",
       "      <td>29800</td>\n",
       "      <td>2976372</td>\n",
       "      <td>98,6</td>\n",
       "    </tr>\n",
       "    <tr>\n",
       "      <th>...</th>\n",
       "      <td>...</td>\n",
       "      <td>...</td>\n",
       "      <td>...</td>\n",
       "      <td>...</td>\n",
       "    </tr>\n",
       "    <tr>\n",
       "      <th>130</th>\n",
       "      <td>venezuela</td>\n",
       "      <td>912050</td>\n",
       "      <td>25730435</td>\n",
       "      <td>93,4</td>\n",
       "    </tr>\n",
       "    <tr>\n",
       "      <th>131</th>\n",
       "      <td>vietnam</td>\n",
       "      <td>329560</td>\n",
       "      <td>84402966</td>\n",
       "      <td>90,3</td>\n",
       "    </tr>\n",
       "    <tr>\n",
       "      <th>132</th>\n",
       "      <td>yemen</td>\n",
       "      <td>527970</td>\n",
       "      <td>21456188</td>\n",
       "      <td>50,2</td>\n",
       "    </tr>\n",
       "    <tr>\n",
       "      <th>133</th>\n",
       "      <td>zambia</td>\n",
       "      <td>752614</td>\n",
       "      <td>11502010</td>\n",
       "      <td>80,6</td>\n",
       "    </tr>\n",
       "    <tr>\n",
       "      <th>134</th>\n",
       "      <td>zimbabwe</td>\n",
       "      <td>390580</td>\n",
       "      <td>12236805</td>\n",
       "      <td>90,7</td>\n",
       "    </tr>\n",
       "  </tbody>\n",
       "</table>\n",
       "<p>135 rows × 4 columns</p>\n",
       "</div>"
      ],
      "text/plain": [
       "    country_name     area  population literacy\n",
       "0    afghanistan   647500    31056997     36,0\n",
       "1        albania    28748     3581655     86,5\n",
       "2        algeria  2381740    32930091     70,0\n",
       "3      argentina  2766890    39921833     97,1\n",
       "4        armenia    29800     2976372     98,6\n",
       "..           ...      ...         ...      ...\n",
       "130    venezuela   912050    25730435     93,4\n",
       "131      vietnam   329560    84402966     90,3\n",
       "132        yemen   527970    21456188     50,2\n",
       "133       zambia   752614    11502010     80,6\n",
       "134     zimbabwe   390580    12236805     90,7\n",
       "\n",
       "[135 rows x 4 columns]"
      ]
     },
     "execution_count": 79,
     "metadata": {},
     "output_type": "execute_result"
    }
   ],
   "source": [
    "countries"
   ]
  },
  {
   "cell_type": "markdown",
   "metadata": {},
   "source": [
    "## Task 2: Let's merge the data\n",
    "\n",
    "Create a dataframe called *country_features* by merging *happiness* and *countries*. A row of this dataframe must describe all the features that we have about a country.\n",
    "\n",
    "**Hint**: Verify that all the rows are in the final dataframe."
   ]
  },
  {
   "cell_type": "code",
   "execution_count": 96,
   "metadata": {
    "ExecuteTime": {
     "end_time": "2022-10-02T17:27:04.290780Z",
     "start_time": "2022-10-02T17:27:04.267265Z"
    }
   },
   "outputs": [
    {
     "data": {
      "text/html": [
       "<div>\n",
       "<style scoped>\n",
       "    .dataframe tbody tr th:only-of-type {\n",
       "        vertical-align: middle;\n",
       "    }\n",
       "\n",
       "    .dataframe tbody tr th {\n",
       "        vertical-align: top;\n",
       "    }\n",
       "\n",
       "    .dataframe thead th {\n",
       "        text-align: right;\n",
       "    }\n",
       "</style>\n",
       "<table border=\"1\" class=\"dataframe\">\n",
       "  <thead>\n",
       "    <tr style=\"text-align: right;\">\n",
       "      <th></th>\n",
       "      <th>country_name</th>\n",
       "      <th>area</th>\n",
       "      <th>population</th>\n",
       "      <th>literacy</th>\n",
       "      <th>country</th>\n",
       "      <th>happiness_score</th>\n",
       "      <th>social_support</th>\n",
       "      <th>healthy_life_expectancy</th>\n",
       "      <th>freedom_of_choices</th>\n",
       "      <th>generosity</th>\n",
       "      <th>perception_of_corruption</th>\n",
       "      <th>world_region</th>\n",
       "    </tr>\n",
       "  </thead>\n",
       "  <tbody>\n",
       "    <tr>\n",
       "      <th>0</th>\n",
       "      <td>Afghanistan</td>\n",
       "      <td>647500</td>\n",
       "      <td>31056997</td>\n",
       "      <td>36,0</td>\n",
       "      <td>Afghanistan</td>\n",
       "      <td>2.5669</td>\n",
       "      <td>0.470367</td>\n",
       "      <td>52.590000</td>\n",
       "      <td>0.396573</td>\n",
       "      <td>-0.096429</td>\n",
       "      <td>0.933687</td>\n",
       "      <td>South Asia</td>\n",
       "    </tr>\n",
       "    <tr>\n",
       "      <th>1</th>\n",
       "      <td>Albania</td>\n",
       "      <td>28748</td>\n",
       "      <td>3581655</td>\n",
       "      <td>86,5</td>\n",
       "      <td>Albania</td>\n",
       "      <td>4.8827</td>\n",
       "      <td>0.671070</td>\n",
       "      <td>68.708138</td>\n",
       "      <td>0.781994</td>\n",
       "      <td>-0.042309</td>\n",
       "      <td>0.896304</td>\n",
       "      <td>Central and Eastern Europe</td>\n",
       "    </tr>\n",
       "    <tr>\n",
       "      <th>2</th>\n",
       "      <td>Algeria</td>\n",
       "      <td>2381740</td>\n",
       "      <td>32930091</td>\n",
       "      <td>70,0</td>\n",
       "      <td>Algeria</td>\n",
       "      <td>5.0051</td>\n",
       "      <td>0.803385</td>\n",
       "      <td>65.905174</td>\n",
       "      <td>0.466611</td>\n",
       "      <td>-0.121105</td>\n",
       "      <td>0.735485</td>\n",
       "      <td>Middle East and North Africa</td>\n",
       "    </tr>\n",
       "    <tr>\n",
       "      <th>3</th>\n",
       "      <td>Argentina</td>\n",
       "      <td>2766890</td>\n",
       "      <td>39921833</td>\n",
       "      <td>97,1</td>\n",
       "      <td>Argentina</td>\n",
       "      <td>5.9747</td>\n",
       "      <td>0.900568</td>\n",
       "      <td>68.803802</td>\n",
       "      <td>0.831132</td>\n",
       "      <td>-0.194914</td>\n",
       "      <td>0.842010</td>\n",
       "      <td>Latin America and Caribbean</td>\n",
       "    </tr>\n",
       "    <tr>\n",
       "      <th>4</th>\n",
       "      <td>Armenia</td>\n",
       "      <td>29800</td>\n",
       "      <td>2976372</td>\n",
       "      <td>98,6</td>\n",
       "      <td>Armenia</td>\n",
       "      <td>4.6768</td>\n",
       "      <td>0.757479</td>\n",
       "      <td>66.750656</td>\n",
       "      <td>0.712018</td>\n",
       "      <td>-0.138780</td>\n",
       "      <td>0.773545</td>\n",
       "      <td>Commonwealth of Independent States</td>\n",
       "    </tr>\n",
       "  </tbody>\n",
       "</table>\n",
       "</div>"
      ],
      "text/plain": [
       "  country_name     area  population literacy      country  happiness_score  \\\n",
       "0  Afghanistan   647500    31056997     36,0  Afghanistan           2.5669   \n",
       "1      Albania    28748     3581655     86,5      Albania           4.8827   \n",
       "2      Algeria  2381740    32930091     70,0      Algeria           5.0051   \n",
       "3    Argentina  2766890    39921833     97,1    Argentina           5.9747   \n",
       "4      Armenia    29800     2976372     98,6      Armenia           4.6768   \n",
       "\n",
       "   social_support  healthy_life_expectancy  freedom_of_choices  generosity  \\\n",
       "0        0.470367                52.590000            0.396573   -0.096429   \n",
       "1        0.671070                68.708138            0.781994   -0.042309   \n",
       "2        0.803385                65.905174            0.466611   -0.121105   \n",
       "3        0.900568                68.803802            0.831132   -0.194914   \n",
       "4        0.757479                66.750656            0.712018   -0.138780   \n",
       "\n",
       "   perception_of_corruption                        world_region  \n",
       "0                  0.933687                          South Asia  \n",
       "1                  0.896304          Central and Eastern Europe  \n",
       "2                  0.735485        Middle East and North Africa  \n",
       "3                  0.842010         Latin America and Caribbean  \n",
       "4                  0.773545  Commonwealth of Independent States  "
      ]
     },
     "execution_count": 96,
     "metadata": {},
     "output_type": "execute_result"
    }
   ],
   "source": [
    "# Write your code here\n",
    "countries.country_name = countries.country_name.apply(lambda x: x[0].upper() + x[1:])\n",
    "country_features = pd.merge(countries, happiness, left_on='country_name', right_on='country')\n",
    "country_features.head()"
   ]
  },
  {
   "cell_type": "markdown",
   "metadata": {},
   "source": [
    "## Task 3: Where are people happier?\n",
    "\n",
    "Print the top 10 countries based on their happiness score (higher is better)."
   ]
  },
  {
   "cell_type": "code",
   "execution_count": 21,
   "metadata": {
    "ExecuteTime": {
     "end_time": "2022-10-02T16:26:11.089801Z",
     "start_time": "2022-10-02T16:26:11.073701Z"
    }
   },
   "outputs": [
    {
     "data": {
      "text/html": [
       "<div>\n",
       "<style scoped>\n",
       "    .dataframe tbody tr th:only-of-type {\n",
       "        vertical-align: middle;\n",
       "    }\n",
       "\n",
       "    .dataframe tbody tr th {\n",
       "        vertical-align: top;\n",
       "    }\n",
       "\n",
       "    .dataframe thead th {\n",
       "        text-align: right;\n",
       "    }\n",
       "</style>\n",
       "<table border=\"1\" class=\"dataframe\">\n",
       "  <thead>\n",
       "    <tr style=\"text-align: right;\">\n",
       "      <th></th>\n",
       "      <th>country_name</th>\n",
       "      <th>happiness_score</th>\n",
       "    </tr>\n",
       "  </thead>\n",
       "  <tbody>\n",
       "    <tr>\n",
       "      <th>33</th>\n",
       "      <td>Finland</td>\n",
       "      <td>7.8087</td>\n",
       "    </tr>\n",
       "    <tr>\n",
       "      <th>28</th>\n",
       "      <td>Denmark</td>\n",
       "      <td>7.6456</td>\n",
       "    </tr>\n",
       "    <tr>\n",
       "      <th>105</th>\n",
       "      <td>Switzerland</td>\n",
       "      <td>7.5599</td>\n",
       "    </tr>\n",
       "    <tr>\n",
       "      <th>45</th>\n",
       "      <td>Iceland</td>\n",
       "      <td>7.5045</td>\n",
       "    </tr>\n",
       "    <tr>\n",
       "      <th>86</th>\n",
       "      <td>Norway</td>\n",
       "      <td>7.4880</td>\n",
       "    </tr>\n",
       "    <tr>\n",
       "      <th>82</th>\n",
       "      <td>Netherlands</td>\n",
       "      <td>7.4489</td>\n",
       "    </tr>\n",
       "    <tr>\n",
       "      <th>104</th>\n",
       "      <td>Sweden</td>\n",
       "      <td>7.3535</td>\n",
       "    </tr>\n",
       "    <tr>\n",
       "      <th>6</th>\n",
       "      <td>Austria</td>\n",
       "      <td>7.2942</td>\n",
       "    </tr>\n",
       "    <tr>\n",
       "      <th>67</th>\n",
       "      <td>Luxembourg</td>\n",
       "      <td>7.2375</td>\n",
       "    </tr>\n",
       "    <tr>\n",
       "      <th>20</th>\n",
       "      <td>Canada</td>\n",
       "      <td>7.2321</td>\n",
       "    </tr>\n",
       "  </tbody>\n",
       "</table>\n",
       "</div>"
      ],
      "text/plain": [
       "    country_name  happiness_score\n",
       "33       Finland           7.8087\n",
       "28       Denmark           7.6456\n",
       "105  Switzerland           7.5599\n",
       "45       Iceland           7.5045\n",
       "86        Norway           7.4880\n",
       "82   Netherlands           7.4489\n",
       "104       Sweden           7.3535\n",
       "6        Austria           7.2942\n",
       "67    Luxembourg           7.2375\n",
       "20        Canada           7.2321"
      ]
     },
     "execution_count": 21,
     "metadata": {},
     "output_type": "execute_result"
    }
   ],
   "source": [
    "# Write your code here\n",
    "country_features[['country_name', 'happiness_score']].sort_values(ascending=False, by='happiness_score')[:10]"
   ]
  },
  {
   "cell_type": "markdown",
   "metadata": {},
   "source": [
    "We are interested to know in what world region people are happier. \n",
    "\n",
    "Create and print a dataframe with the (1) average happiness score and (2) the number of contries for each world region.\n",
    "Sort the result to show the happiness ranking."
   ]
  },
  {
   "cell_type": "code",
   "execution_count": 35,
   "metadata": {
    "ExecuteTime": {
     "end_time": "2022-10-02T16:39:40.476589Z",
     "start_time": "2022-10-02T16:39:40.462808Z"
    }
   },
   "outputs": [
    {
     "data": {
      "text/plain": [
       "world_region\n",
       "North America and ANZ                 7.227450\n",
       "Western Europe                        6.957032\n",
       "Latin America and Caribbean           5.898041\n",
       "Central and Eastern Europe            5.812969\n",
       "Southeast Asia                        5.517788\n",
       "East Asia                             5.483633\n",
       "Commonwealth of Independent States    5.358342\n",
       "Middle East and North Africa          5.079400\n",
       "Sub-Saharan Africa                    4.382559\n",
       "South Asia                            4.360700\n",
       "Name: happiness_score, dtype: float64"
      ]
     },
     "execution_count": 35,
     "metadata": {},
     "output_type": "execute_result"
    }
   ],
   "source": [
    "# Write your code \n",
    "country_features.groupby('world_region').mean().sort_values(ascending=False, by='happiness_score')['happiness_score']"
   ]
  },
  {
   "cell_type": "markdown",
   "metadata": {},
   "source": [
    "The first region has only a few countries! What are them and what is their score?"
   ]
  },
  {
   "cell_type": "code",
   "execution_count": 39,
   "metadata": {
    "ExecuteTime": {
     "end_time": "2022-10-02T16:44:15.990101Z",
     "start_time": "2022-10-02T16:44:15.975673Z"
    }
   },
   "outputs": [
    {
     "data": {
      "text/html": [
       "<div>\n",
       "<style scoped>\n",
       "    .dataframe tbody tr th:only-of-type {\n",
       "        vertical-align: middle;\n",
       "    }\n",
       "\n",
       "    .dataframe tbody tr th {\n",
       "        vertical-align: top;\n",
       "    }\n",
       "\n",
       "    .dataframe thead th {\n",
       "        text-align: right;\n",
       "    }\n",
       "</style>\n",
       "<table border=\"1\" class=\"dataframe\">\n",
       "  <thead>\n",
       "    <tr style=\"text-align: right;\">\n",
       "      <th></th>\n",
       "      <th>country_name</th>\n",
       "      <th>world_region</th>\n",
       "    </tr>\n",
       "  </thead>\n",
       "  <tbody>\n",
       "    <tr>\n",
       "      <th>5</th>\n",
       "      <td>Australia</td>\n",
       "      <td>North America and ANZ</td>\n",
       "    </tr>\n",
       "    <tr>\n",
       "      <th>20</th>\n",
       "      <td>Canada</td>\n",
       "      <td>North America and ANZ</td>\n",
       "    </tr>\n",
       "  </tbody>\n",
       "</table>\n",
       "</div>"
      ],
      "text/plain": [
       "   country_name           world_region\n",
       "5     Australia  North America and ANZ\n",
       "20       Canada  North America and ANZ"
      ]
     },
     "execution_count": 39,
     "metadata": {},
     "output_type": "execute_result"
    }
   ],
   "source": [
    "# Write your code here\n",
    "country_features[country_features['world_region'] == 'North America and ANZ'][['country_name','world_region']]\n"
   ]
  },
  {
   "cell_type": "markdown",
   "metadata": {},
   "source": [
    "## Task 4: How literate is the world?\n",
    "\n",
    "Print the names of the countries with a level of literacy of 100%. \n",
    "\n",
    "For each country, print the name and the world region in the format: *{region name} - {country name} ({happiness score})*"
   ]
  },
  {
   "cell_type": "code",
   "execution_count": 65,
   "metadata": {
    "ExecuteTime": {
     "end_time": "2022-10-02T17:10:30.529917Z",
     "start_time": "2022-10-02T17:10:30.518286Z"
    }
   },
   "outputs": [
    {
     "name": "stdout",
     "output_type": "stream",
     "text": [
      "{North America and ANZ}-{Australia}{7.222800}\n",
      "{Western Europe}-{Denmark}{7.645600}\n",
      "{Western Europe}-{Finland}{7.808700}\n",
      "{Western Europe}-{Luxembourg}{7.237500}\n",
      "{Western Europe}-{Norway}{7.488000}\n"
     ]
    }
   ],
   "source": [
    "# Write your code here\n",
    "a = country_features[country_features['literacy'] == '100,0']\n",
    "for i in range(a.shape[0]):\n",
    "    print('{%s}-{%s}{%f}' %(a.iloc[i]['world_region'], a.iloc[i]['country_name'], a.iloc[i]['happiness_score'] ))"
   ]
  },
  {
   "cell_type": "markdown",
   "metadata": {},
   "source": [
    "What is the global average?"
   ]
  },
  {
   "cell_type": "code",
   "execution_count": 108,
   "metadata": {
    "ExecuteTime": {
     "end_time": "2022-10-02T17:31:43.790373Z",
     "start_time": "2022-10-02T17:31:43.777711Z"
    }
   },
   "outputs": [],
   "source": [
    "# Write your code here\n",
    "country_features.literacy = country_features.literacy.apply(lambda x: str(x).replace(',', '.'))\n",
    "country_features = country_features.astype({'literacy' : 'float64'})"
   ]
  },
  {
   "cell_type": "code",
   "execution_count": 111,
   "metadata": {
    "ExecuteTime": {
     "end_time": "2022-10-02T17:32:08.282016Z",
     "start_time": "2022-10-02T17:32:08.272927Z"
    }
   },
   "outputs": [
    {
     "data": {
      "text/plain": [
       "81.97500000000001"
      ]
     },
     "execution_count": 111,
     "metadata": {},
     "output_type": "execute_result"
    }
   ],
   "source": [
    "country_features.literacy.mean()"
   ]
  },
  {
   "cell_type": "markdown",
   "metadata": {},
   "source": [
    "Calculate the proportion of countries with a literacy level below 50%. Print the value in percentage, formatted with 2 decimals."
   ]
  },
  {
   "cell_type": "code",
   "execution_count": 123,
   "metadata": {
    "ExecuteTime": {
     "end_time": "2022-10-02T17:40:46.757614Z",
     "start_time": "2022-10-02T17:40:46.752736Z"
    }
   },
   "outputs": [
    {
     "name": "stdout",
     "output_type": "stream",
     "text": [
      "The proportion of counrties with a literacy level below 50%： 0.114754\n"
     ]
    }
   ],
   "source": [
    "# Write your code here\n",
    "Less50_countries = country_features[country_features['literacy'] < 50].shape[0]\n",
    "print('The proportion of counrties with a literacy level below 50%%： %2f' %(Less50_countries / country_features.shape[0]))"
   ]
  },
  {
   "cell_type": "markdown",
   "metadata": {},
   "source": [
    "Print the raw number and the percentage of world population that is illiterate."
   ]
  },
  {
   "cell_type": "code",
   "execution_count": 170,
   "metadata": {
    "ExecuteTime": {
     "end_time": "2022-10-02T21:18:09.184088Z",
     "start_time": "2022-10-02T21:18:09.151691Z"
    }
   },
   "outputs": [
    {
     "name": "stdout",
     "output_type": "stream",
     "text": [
      "Total ilteracy people in the world : 1216139187.827000\n"
     ]
    }
   ],
   "source": [
    "# Write your code here\n",
    "total_ilteracy = 0\n",
    "country_features.fillna(0, inplace=True)\n",
    "for i in range(country_features.shape[0]):\n",
    "    total_ilteracy = total_ilteracy +  country_features.iloc[i]['population'] * (100 -country_features.iloc[i]['literacy']) * 0.01\n",
    "print('Total ilteracy people in the world : %f' %total_ilteracy)\n"
   ]
  },
  {
   "cell_type": "markdown",
   "metadata": {},
   "source": [
    "## Task 5: Population density\n",
    "\n",
    "Add to the dataframe a new field called *population_density* computed by dividing *population* by *area*."
   ]
  },
  {
   "cell_type": "code",
   "execution_count": 150,
   "metadata": {
    "ExecuteTime": {
     "end_time": "2022-10-02T21:11:59.551508Z",
     "start_time": "2022-10-02T21:11:59.524915Z"
    }
   },
   "outputs": [
    {
     "data": {
      "text/html": [
       "<div>\n",
       "<style scoped>\n",
       "    .dataframe tbody tr th:only-of-type {\n",
       "        vertical-align: middle;\n",
       "    }\n",
       "\n",
       "    .dataframe tbody tr th {\n",
       "        vertical-align: top;\n",
       "    }\n",
       "\n",
       "    .dataframe thead th {\n",
       "        text-align: right;\n",
       "    }\n",
       "</style>\n",
       "<table border=\"1\" class=\"dataframe\">\n",
       "  <thead>\n",
       "    <tr style=\"text-align: right;\">\n",
       "      <th></th>\n",
       "      <th>country_name</th>\n",
       "      <th>area</th>\n",
       "      <th>population</th>\n",
       "      <th>literacy</th>\n",
       "      <th>country</th>\n",
       "      <th>happiness_score</th>\n",
       "      <th>social_support</th>\n",
       "      <th>healthy_life_expectancy</th>\n",
       "      <th>freedom_of_choices</th>\n",
       "      <th>generosity</th>\n",
       "      <th>perception_of_corruption</th>\n",
       "      <th>world_region</th>\n",
       "      <th>popolation_density</th>\n",
       "    </tr>\n",
       "  </thead>\n",
       "  <tbody>\n",
       "    <tr>\n",
       "      <th>0</th>\n",
       "      <td>Afghanistan</td>\n",
       "      <td>647500</td>\n",
       "      <td>31056997</td>\n",
       "      <td>36.0</td>\n",
       "      <td>Afghanistan</td>\n",
       "      <td>2.5669</td>\n",
       "      <td>0.470367</td>\n",
       "      <td>52.590000</td>\n",
       "      <td>0.396573</td>\n",
       "      <td>-0.096429</td>\n",
       "      <td>0.933687</td>\n",
       "      <td>South Asia</td>\n",
       "      <td>47.964474</td>\n",
       "    </tr>\n",
       "    <tr>\n",
       "      <th>1</th>\n",
       "      <td>Albania</td>\n",
       "      <td>28748</td>\n",
       "      <td>3581655</td>\n",
       "      <td>86.5</td>\n",
       "      <td>Albania</td>\n",
       "      <td>4.8827</td>\n",
       "      <td>0.671070</td>\n",
       "      <td>68.708138</td>\n",
       "      <td>0.781994</td>\n",
       "      <td>-0.042309</td>\n",
       "      <td>0.896304</td>\n",
       "      <td>Central and Eastern Europe</td>\n",
       "      <td>124.587971</td>\n",
       "    </tr>\n",
       "    <tr>\n",
       "      <th>2</th>\n",
       "      <td>Algeria</td>\n",
       "      <td>2381740</td>\n",
       "      <td>32930091</td>\n",
       "      <td>70.0</td>\n",
       "      <td>Algeria</td>\n",
       "      <td>5.0051</td>\n",
       "      <td>0.803385</td>\n",
       "      <td>65.905174</td>\n",
       "      <td>0.466611</td>\n",
       "      <td>-0.121105</td>\n",
       "      <td>0.735485</td>\n",
       "      <td>Middle East and North Africa</td>\n",
       "      <td>13.826065</td>\n",
       "    </tr>\n",
       "    <tr>\n",
       "      <th>3</th>\n",
       "      <td>Argentina</td>\n",
       "      <td>2766890</td>\n",
       "      <td>39921833</td>\n",
       "      <td>97.1</td>\n",
       "      <td>Argentina</td>\n",
       "      <td>5.9747</td>\n",
       "      <td>0.900568</td>\n",
       "      <td>68.803802</td>\n",
       "      <td>0.831132</td>\n",
       "      <td>-0.194914</td>\n",
       "      <td>0.842010</td>\n",
       "      <td>Latin America and Caribbean</td>\n",
       "      <td>14.428413</td>\n",
       "    </tr>\n",
       "    <tr>\n",
       "      <th>4</th>\n",
       "      <td>Armenia</td>\n",
       "      <td>29800</td>\n",
       "      <td>2976372</td>\n",
       "      <td>98.6</td>\n",
       "      <td>Armenia</td>\n",
       "      <td>4.6768</td>\n",
       "      <td>0.757479</td>\n",
       "      <td>66.750656</td>\n",
       "      <td>0.712018</td>\n",
       "      <td>-0.138780</td>\n",
       "      <td>0.773545</td>\n",
       "      <td>Commonwealth of Independent States</td>\n",
       "      <td>99.878255</td>\n",
       "    </tr>\n",
       "    <tr>\n",
       "      <th>...</th>\n",
       "      <td>...</td>\n",
       "      <td>...</td>\n",
       "      <td>...</td>\n",
       "      <td>...</td>\n",
       "      <td>...</td>\n",
       "      <td>...</td>\n",
       "      <td>...</td>\n",
       "      <td>...</td>\n",
       "      <td>...</td>\n",
       "      <td>...</td>\n",
       "      <td>...</td>\n",
       "      <td>...</td>\n",
       "      <td>...</td>\n",
       "    </tr>\n",
       "    <tr>\n",
       "      <th>117</th>\n",
       "      <td>Venezuela</td>\n",
       "      <td>912050</td>\n",
       "      <td>25730435</td>\n",
       "      <td>93.4</td>\n",
       "      <td>Venezuela</td>\n",
       "      <td>5.0532</td>\n",
       "      <td>0.890408</td>\n",
       "      <td>66.505341</td>\n",
       "      <td>0.623278</td>\n",
       "      <td>-0.169091</td>\n",
       "      <td>0.837038</td>\n",
       "      <td>Latin America and Caribbean</td>\n",
       "      <td>28.211650</td>\n",
       "    </tr>\n",
       "    <tr>\n",
       "      <th>118</th>\n",
       "      <td>Vietnam</td>\n",
       "      <td>329560</td>\n",
       "      <td>84402966</td>\n",
       "      <td>90.3</td>\n",
       "      <td>Vietnam</td>\n",
       "      <td>5.3535</td>\n",
       "      <td>0.849987</td>\n",
       "      <td>67.952736</td>\n",
       "      <td>0.939593</td>\n",
       "      <td>-0.094533</td>\n",
       "      <td>0.796421</td>\n",
       "      <td>Southeast Asia</td>\n",
       "      <td>256.108041</td>\n",
       "    </tr>\n",
       "    <tr>\n",
       "      <th>119</th>\n",
       "      <td>Yemen</td>\n",
       "      <td>527970</td>\n",
       "      <td>21456188</td>\n",
       "      <td>50.2</td>\n",
       "      <td>Yemen</td>\n",
       "      <td>3.5274</td>\n",
       "      <td>0.817981</td>\n",
       "      <td>56.727283</td>\n",
       "      <td>0.599920</td>\n",
       "      <td>-0.157735</td>\n",
       "      <td>0.800288</td>\n",
       "      <td>Middle East and North Africa</td>\n",
       "      <td>40.639029</td>\n",
       "    </tr>\n",
       "    <tr>\n",
       "      <th>120</th>\n",
       "      <td>Zambia</td>\n",
       "      <td>752614</td>\n",
       "      <td>11502010</td>\n",
       "      <td>80.6</td>\n",
       "      <td>Zambia</td>\n",
       "      <td>3.7594</td>\n",
       "      <td>0.698824</td>\n",
       "      <td>55.299377</td>\n",
       "      <td>0.806500</td>\n",
       "      <td>0.078037</td>\n",
       "      <td>0.801290</td>\n",
       "      <td>Sub-Saharan Africa</td>\n",
       "      <td>15.282748</td>\n",
       "    </tr>\n",
       "    <tr>\n",
       "      <th>121</th>\n",
       "      <td>Zimbabwe</td>\n",
       "      <td>390580</td>\n",
       "      <td>12236805</td>\n",
       "      <td>90.7</td>\n",
       "      <td>Zimbabwe</td>\n",
       "      <td>3.2992</td>\n",
       "      <td>0.763093</td>\n",
       "      <td>55.617260</td>\n",
       "      <td>0.711458</td>\n",
       "      <td>-0.072064</td>\n",
       "      <td>0.810237</td>\n",
       "      <td>Sub-Saharan Africa</td>\n",
       "      <td>31.329830</td>\n",
       "    </tr>\n",
       "  </tbody>\n",
       "</table>\n",
       "<p>122 rows × 13 columns</p>\n",
       "</div>"
      ],
      "text/plain": [
       "    country_name     area  population  literacy      country  happiness_score  \\\n",
       "0    Afghanistan   647500    31056997      36.0  Afghanistan           2.5669   \n",
       "1        Albania    28748     3581655      86.5      Albania           4.8827   \n",
       "2        Algeria  2381740    32930091      70.0      Algeria           5.0051   \n",
       "3      Argentina  2766890    39921833      97.1    Argentina           5.9747   \n",
       "4        Armenia    29800     2976372      98.6      Armenia           4.6768   \n",
       "..           ...      ...         ...       ...          ...              ...   \n",
       "117    Venezuela   912050    25730435      93.4    Venezuela           5.0532   \n",
       "118      Vietnam   329560    84402966      90.3      Vietnam           5.3535   \n",
       "119        Yemen   527970    21456188      50.2        Yemen           3.5274   \n",
       "120       Zambia   752614    11502010      80.6       Zambia           3.7594   \n",
       "121     Zimbabwe   390580    12236805      90.7     Zimbabwe           3.2992   \n",
       "\n",
       "     social_support  healthy_life_expectancy  freedom_of_choices  generosity  \\\n",
       "0          0.470367                52.590000            0.396573   -0.096429   \n",
       "1          0.671070                68.708138            0.781994   -0.042309   \n",
       "2          0.803385                65.905174            0.466611   -0.121105   \n",
       "3          0.900568                68.803802            0.831132   -0.194914   \n",
       "4          0.757479                66.750656            0.712018   -0.138780   \n",
       "..              ...                      ...                 ...         ...   \n",
       "117        0.890408                66.505341            0.623278   -0.169091   \n",
       "118        0.849987                67.952736            0.939593   -0.094533   \n",
       "119        0.817981                56.727283            0.599920   -0.157735   \n",
       "120        0.698824                55.299377            0.806500    0.078037   \n",
       "121        0.763093                55.617260            0.711458   -0.072064   \n",
       "\n",
       "     perception_of_corruption                        world_region  \\\n",
       "0                    0.933687                          South Asia   \n",
       "1                    0.896304          Central and Eastern Europe   \n",
       "2                    0.735485        Middle East and North Africa   \n",
       "3                    0.842010         Latin America and Caribbean   \n",
       "4                    0.773545  Commonwealth of Independent States   \n",
       "..                        ...                                 ...   \n",
       "117                  0.837038         Latin America and Caribbean   \n",
       "118                  0.796421                      Southeast Asia   \n",
       "119                  0.800288        Middle East and North Africa   \n",
       "120                  0.801290                  Sub-Saharan Africa   \n",
       "121                  0.810237                  Sub-Saharan Africa   \n",
       "\n",
       "     popolation_density  \n",
       "0             47.964474  \n",
       "1            124.587971  \n",
       "2             13.826065  \n",
       "3             14.428413  \n",
       "4             99.878255  \n",
       "..                  ...  \n",
       "117           28.211650  \n",
       "118          256.108041  \n",
       "119           40.639029  \n",
       "120           15.282748  \n",
       "121           31.329830  \n",
       "\n",
       "[122 rows x 13 columns]"
      ]
     },
     "execution_count": 150,
     "metadata": {},
     "output_type": "execute_result"
    }
   ],
   "source": [
    "# Write your code here\n",
    "country_features['popolation_density'] = country_features['population'] /  country_features['area']\n",
    "country_features"
   ]
  },
  {
   "cell_type": "markdown",
   "metadata": {},
   "source": [
    "What is the happiness score of the 3 countries with the lowest population density?"
   ]
  },
  {
   "cell_type": "code",
   "execution_count": 163,
   "metadata": {
    "ExecuteTime": {
     "end_time": "2022-10-02T21:15:02.403830Z",
     "start_time": "2022-10-02T21:15:02.390743Z"
    }
   },
   "outputs": [
    {
     "data": {
      "text/html": [
       "<div>\n",
       "<style scoped>\n",
       "    .dataframe tbody tr th:only-of-type {\n",
       "        vertical-align: middle;\n",
       "    }\n",
       "\n",
       "    .dataframe tbody tr th {\n",
       "        vertical-align: top;\n",
       "    }\n",
       "\n",
       "    .dataframe thead th {\n",
       "        text-align: right;\n",
       "    }\n",
       "</style>\n",
       "<table border=\"1\" class=\"dataframe\">\n",
       "  <thead>\n",
       "    <tr style=\"text-align: right;\">\n",
       "      <th></th>\n",
       "      <th>country</th>\n",
       "      <th>happiness_score</th>\n",
       "      <th>popolation_density</th>\n",
       "    </tr>\n",
       "  </thead>\n",
       "  <tbody>\n",
       "    <tr>\n",
       "      <th>78</th>\n",
       "      <td>Mongolia</td>\n",
       "      <td>5.4562</td>\n",
       "      <td>1.810751</td>\n",
       "    </tr>\n",
       "    <tr>\n",
       "      <th>5</th>\n",
       "      <td>Australia</td>\n",
       "      <td>7.2228</td>\n",
       "      <td>2.636201</td>\n",
       "    </tr>\n",
       "    <tr>\n",
       "      <th>14</th>\n",
       "      <td>Botswana</td>\n",
       "      <td>3.4789</td>\n",
       "      <td>2.731371</td>\n",
       "    </tr>\n",
       "  </tbody>\n",
       "</table>\n",
       "</div>"
      ],
      "text/plain": [
       "      country  happiness_score  popolation_density\n",
       "78   Mongolia           5.4562            1.810751\n",
       "5   Australia           7.2228            2.636201\n",
       "14   Botswana           3.4789            2.731371"
      ]
     },
     "execution_count": 163,
     "metadata": {},
     "output_type": "execute_result"
    }
   ],
   "source": [
    "# Write your code here\n",
    "country_features.sort_values(by=['popolation_density'])[:3][['country','happiness_score','popolation_density']]"
   ]
  },
  {
   "cell_type": "code",
   "execution_count": 169,
   "metadata": {
    "ExecuteTime": {
     "end_time": "2022-10-02T21:17:16.804364Z",
     "start_time": "2022-10-02T21:17:16.789462Z"
    }
   },
   "outputs": [
    {
     "data": {
      "text/html": [
       "<div>\n",
       "<style scoped>\n",
       "    .dataframe tbody tr th:only-of-type {\n",
       "        vertical-align: middle;\n",
       "    }\n",
       "\n",
       "    .dataframe tbody tr th {\n",
       "        vertical-align: top;\n",
       "    }\n",
       "\n",
       "    .dataframe thead th {\n",
       "        text-align: right;\n",
       "    }\n",
       "</style>\n",
       "<table border=\"1\" class=\"dataframe\">\n",
       "  <thead>\n",
       "    <tr style=\"text-align: right;\">\n",
       "      <th></th>\n",
       "      <th>country_name</th>\n",
       "      <th>area</th>\n",
       "      <th>population</th>\n",
       "      <th>literacy</th>\n",
       "      <th>country</th>\n",
       "      <th>happiness_score</th>\n",
       "      <th>social_support</th>\n",
       "      <th>healthy_life_expectancy</th>\n",
       "      <th>freedom_of_choices</th>\n",
       "      <th>generosity</th>\n",
       "      <th>perception_of_corruption</th>\n",
       "      <th>world_region</th>\n",
       "      <th>popolation_density</th>\n",
       "    </tr>\n",
       "  </thead>\n",
       "  <tbody>\n",
       "    <tr>\n",
       "      <th>5</th>\n",
       "      <td>Australia</td>\n",
       "      <td>7686850</td>\n",
       "      <td>20264082</td>\n",
       "      <td>100.0</td>\n",
       "      <td>Australia</td>\n",
       "      <td>7.2228</td>\n",
       "      <td>0.944855</td>\n",
       "      <td>73.604538</td>\n",
       "      <td>0.915432</td>\n",
       "      <td>0.19046</td>\n",
       "      <td>0.415169</td>\n",
       "      <td>North America and ANZ</td>\n",
       "      <td>2.636201</td>\n",
       "    </tr>\n",
       "  </tbody>\n",
       "</table>\n",
       "</div>"
      ],
      "text/plain": [
       "  country_name     area  population  literacy    country  happiness_score  \\\n",
       "5    Australia  7686850    20264082     100.0  Australia           7.2228   \n",
       "\n",
       "   social_support  healthy_life_expectancy  freedom_of_choices  generosity  \\\n",
       "5        0.944855                73.604538            0.915432     0.19046   \n",
       "\n",
       "   perception_of_corruption           world_region  popolation_density  \n",
       "5                  0.415169  North America and ANZ            2.636201  "
      ]
     },
     "execution_count": 169,
     "metadata": {},
     "output_type": "execute_result"
    }
   ],
   "source": [
    "country_features[country_features['country_name'] == 'Australia']"
   ]
  },
  {
   "cell_type": "markdown",
   "metadata": {},
   "source": [
    "## Task 6: Healty and happy?\n",
    "\n",
    "Plot in a scatter plot the happiness score (x) and healty life expectancy (y)."
   ]
  },
  {
   "cell_type": "code",
   "execution_count": 174,
   "metadata": {
    "ExecuteTime": {
     "end_time": "2022-10-02T21:22:39.902134Z",
     "start_time": "2022-10-02T21:22:39.824855Z"
    }
   },
   "outputs": [
    {
     "data": {
      "image/png": "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\n",
      "text/plain": [
       "<Figure size 432x288 with 1 Axes>"
      ]
     },
     "metadata": {
      "needs_background": "light"
     },
     "output_type": "display_data"
    }
   ],
   "source": [
    "# Write your code here\n",
    "\n",
    "plt.scatter(country_features['happiness_score'], country_features['healthy_life_expectancy'])\n",
    "plt.show()"
   ]
  },
  {
   "cell_type": "markdown",
   "metadata": {},
   "source": [
    "Feel free to continue the exploration of the dataset! We'll release the solutions next week.\n",
    "\n",
    "----\n",
    "Enjoy EPFL and be happy, next year Switzerland must be #1."
   ]
  }
 ],
 "metadata": {
  "hide_input": false,
  "kernelspec": {
<<<<<<< Updated upstream
   "display_name": "Python 3 (ipykernel)",
=======
   "display_name": "Python [conda env:py39]",
>>>>>>> Stashed changes
   "language": "python",
   "name": "conda-env-py39-py"
  },
  "language_info": {
   "codemirror_mode": {
    "name": "ipython",
    "version": 3
   },
   "file_extension": ".py",
   "mimetype": "text/x-python",
   "name": "python",
   "nbconvert_exporter": "python",
   "pygments_lexer": "ipython3",
<<<<<<< Updated upstream
   "version": "3.9.13"
=======
   "version": "3.9.12"
  },
  "toc": {
   "base_numbering": 1,
   "nav_menu": {},
   "number_sections": true,
   "sideBar": true,
   "skip_h1_title": false,
   "title_cell": "Table of Contents",
   "title_sidebar": "Contents",
   "toc_cell": false,
   "toc_position": {},
   "toc_section_display": true,
   "toc_window_display": false
  },
  "varInspector": {
   "cols": {
    "lenName": 16,
    "lenType": 16,
    "lenVar": 40
   },
   "kernels_config": {
    "python": {
     "delete_cmd_postfix": "",
     "delete_cmd_prefix": "del ",
     "library": "var_list.py",
     "varRefreshCmd": "print(var_dic_list())"
    },
    "r": {
     "delete_cmd_postfix": ") ",
     "delete_cmd_prefix": "rm(",
     "library": "var_list.r",
     "varRefreshCmd": "cat(var_dic_list()) "
    }
   },
   "types_to_exclude": [
    "module",
    "function",
    "builtin_function_or_method",
    "instance",
    "_Feature"
   ],
   "window_display": false
>>>>>>> Stashed changes
  }
 },
 "nbformat": 4,
 "nbformat_minor": 4
}
