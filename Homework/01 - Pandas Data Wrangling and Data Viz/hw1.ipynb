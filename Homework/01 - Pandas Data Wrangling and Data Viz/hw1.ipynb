{
 "cells": [
  {
   "cell_type": "markdown",
   "id": "41f19621",
   "metadata": {
    "hide_input": false
   },
   "source": [
    "# Homework 1 (HW1)\n",
    "\n",
    "By the end of this homework, we expect you to be able to:\n",
    "\n",
    "- Load data and handle data using pandas;\n",
    "- Navigate the documentation of Python packages by yourself;\n",
    "- Filter and tidy up noisy real-world datasets;\n",
    "- Aggregate your data in different (and hopefully helpful) ways; \n",
    "- Create meaningful visualizations to analyze the data;\n",
    "\n",
    "---\n",
    "\n",
    "## Important Dates\n",
    "\n",
    "- Homework release: Fri 14 Oct 2022\n",
    "- **Homework due**: Sat 29 Oct 2022, 23:59\n",
    "- Grade release: Mon 07 Nov 2022\n",
    "\n",
    "---\n",
    "\n",
    "##  Some rules\n",
    "\n",
    "1. You are allowed to use any built-in Python library that comes with Anaconda. If you want to use an external library, \n",
    "you may do so, but must justify your choice.\n",
    "2. Make sure you use the `data` folder provided in the repository in read-only mode. (Or alternatively, be sure you \n",
    "don’t change any of the files.)\n",
    "3. Be sure to provide a textual description of your thought process, the assumptions you made, the solution you \n",
    "implemented, and explanations for your answers. A notebook that only has code cells will not suffice.\n",
    "4. For questions containing the **/Discuss:/** prefix, answer not with code, but with a textual explanation\n",
    " (**in markdown**).\n",
    "5. Back up any hypotheses and claims with data, since this is an important aspect of the course.\n",
    "6. Please write all your comments in English, and use meaningful variable names in your code. Your repo should have a \n",
    "single notebook (plus the required data files) in the *master/main* branch. If there are multiple notebooks present, \n",
    "we will **not grade** anything.\n",
    "7. We will **not run your notebook for you**! Rather, we will grade it as is, which means that only the results \n",
    "contained in your evaluated code cells will be considered, and we will not see the results in unevaluated code cells. \n",
    "Thus, be sure to hand in a **fully-run and evaluated notebook**. In order to check whether everything looks as intended,\n",
    " you can check the rendered notebook on the GitHub website once you have pushed your solution there.\n",
    "8. In continuation to the previous point, interactive plots, such as those generated using `plotly`, should be \n",
    "**strictly avoided**!\n",
    "9. Make sure to print results or dataframes that confirm you have properly addressed the task.\n",
    "\n",
    "---\n",
    "\n",
    "In this homework, we will analyze data from A/B tests of headlines conducted by Upworthy from January 2013 to April 2015 to study whether the language used in the headline determines the number of people that will read the associated news piece. The homework contains four tasks: in task 1, we will process the data; in task 2, we will extract meaningful signals from the data; in task 3, we will test whether the language of headlines impacts their success; and in task 4, we will explore the heterogeneity of this effects (e.g., does it vary through time?).\n",
    "\n",
    "\n",
    "### **What is an A/B test?** \n",
    "A/B tests are experiments that compare two scenarios (e.g., scenario A vs. scenario B). \n",
    "They test subjects' responses to each of the variants to determine which is more effective ([read more about A/B tests on Wikipedia](https://en.wikipedia.org/wiki/A/B_testing)). \n",
    "A/B tests allow us to draw conclusions about the different scenarios by randomizing exposure to them, e.g., one could flip a coin and assign a user to scenario A if it lands heads and to B if it lands tails. \n",
    "Since exposure is randomized, we can be confident that the scenarios are the sole explanation for statistically significant differences in subjects' responses (if they exist). \n",
    "In theory, A/B testing refers to an experiment that compares two scenarios; however, in practice, the term is also used when we compare multiple scenarios (e.g., A vs. B vs. C), although the more precise terminology would be to call such an experiment a \"multinomial test.\"\n",
    "\n",
    "### **How were A/B tests used by Upworthy?** \n",
    "Upworthy used A/B testing to increase news readership, conducting experiments for each published news piece. \n",
    "In each experiment, they created multiple \"packages\" of stimuli, varying headlines, images, excerpts, and ledes for the same news piece. \n",
    "Different \"packages\" were shown on their (now defunct) website to engage users with the news pieces they produced. Upworthy found \"the best\" package by conducting A/B tests, showing different packages to different users, and measuring how often users clicked on each version. \n",
    "Below, we show three \"packages\" used by Upworthy in an experiment, each with a different headline for the same news piece. \n",
    "Upworthy randomized users that visited their website saw one of the three versions of the headline below. Then, they measured the percentage of times users in each scenario clicked to read the news. \n",
    "The headline with the highest percentage of clicks per view (click through rate) was then declared the \"winner\" and became the default for all visitors.\n",
    "\n",
    "![Example A/B test](example.png)\n",
    "\n",
    " ### **Where does this data come from?** \n",
    " \n",
    " From a paper [1].\n",
    "\n",
    "[1] Matias, J.N., Munger, K., Le Quere, M.A. et al. The Upworthy Research Archive, a time series of 32,487 experiments in U.S. media. Sci Data 8, 195 (2021). https://doi.org/10.1038/s41597-021-00934-7\n",
    "\n",
    "### **Where can I find this data?**  \n",
    "\n",
    "You can find it in the `/data/` folder.\n",
    "\n",
    "### **Terminology**\n",
    "\n",
    "- **News piece:** A news article. In the dataset considered, these were all produced by Upworthy.\n",
    "- **Package:** The set of visual stimuli inviting the user to read an article. The figure above shows a package with a headline and an image. At times, there was an excerpt of the article also shown in the package and/or the lede, i.e., [\"the introductory section of a news story that is intended to entice the reader to read the full story.\"](https://www.merriam-webster.com/words-at-play/bury-the-lede-versus-lead#:~:text=In%20journalism%2C%20the%20lede%20refers,machines%20began%20disappearing%20from%20newsrooms.)\n",
    "- **Experiment:** Each experiment is an A/B test (or multinomial test, to be more precise) comparing how users reacted to different \"packages.\" Experiments measured two things: 1) how many users were shown each package; and 2) how many individuals clicked each package.\n",
    "\n",
    "### **Data description**\n",
    "\n",
    "| Column name          | Description                                                                                                                                                                                       |   |   |   |\n",
    "|----------------------|---------------------------------------------------------------------------------------------------------------------------------------------------------------------------------------------------|---|---|---|\n",
    "| created_at           | Time the package was created (timezone unknown)                                                                                                                                                   |   |   |   |\n",
    "| test_week            | Week the package was created, a variable constructed by the archive creators for stratified random sampling                                                                                       |   |   |   |\n",
    "| clickability_test_id | The test ID. Viewers were randomly assigned to packages with the same test ID                                                                                                                     |   |   |   |\n",
    "| impressions          | The number of viewers who were assigned to this package. The total number of participants for a given test is the sum of impressions for all packages that share the same clickability_test_id    |   |   |   |\n",
    "| headline             | The headline being tested                                                                                                                                                                         |   |   |   |\n",
    "| eyecatcher_id        | Image ID. Image files are not available. Packages that shared the same image have the same eyecatcher_id                                                                                          |   |   |   |\n",
    "| clicks               | The number of viewers (impressions) that clicked on the package. The clickrate for a given package is the number of clicks divided by the number of impressions                                   |   |   |   |\n",
    "| excerpt              | Article excerpt                                                                                                                                                                                   |   |   |   |\n",
    "| lede                 | The opening sentence or paragraph of the story                                                                                                                                                    |   |   |   |\n",
    "| slug                 | Internal name for the web address                                                                                                                                                                 |   |   |   |\n",
    "| share_text           | Summary for display on social media when the article is shared. This was not shown in tests, since tests were conducted on the Upworthy website                                                   |   |   |   |\n",
    "| square               | When used, part of the same social media sharing suggestion as the share text                                                                                                                     |   |   |   |\n",
    "| significance         | NOT an estimate of statistical significance; a complex, inconsistent calculation that compared the clicks on a package to the clicks on all previous packages that were fielded on the same pages |   |   |   |\n",
    "| first_place          | Along with significance, shown to editors to guide decisions about what test to choose                                                                                                            |   |   |   |\n",
    "| winner               | Whether a package was selected by editors to be used on the Upworthy site after the test                                                                                                          |   |   |   |\n",
    "| updated_at           | The last time the package was updated in the Upworthy system                                                                                                                                      |   |   |   |\n"
   ]
  },
  {
   "cell_type": "code",
   "execution_count": 148,
   "id": "f039c729",
   "metadata": {
    "ExecuteTime": {
     "end_time": "2022-10-28T06:31:58.003766Z",
     "start_time": "2022-10-28T06:31:58.000720Z"
    }
   },
   "outputs": [],
   "source": [
    "import pandas as pd\n",
    "import numpy as np\n",
    "import matplotlib.pyplot as plt"
   ]
  },
  {
   "cell_type": "markdown",
   "id": "7b640175",
   "metadata": {},
   "source": [
    "## Task 1: Getting familiar with the data\n",
    "\n",
    "Your first task is to conduct initial analyses to understand the data and process it in a way that will allow us to more easily answer our key question: *how does the language of a headline determine its success?*\n",
    "\n",
    "1.1 Load the data into memory using pandas and print the first lines to get a sense of it.\n",
    "\n",
    "1.2 Each experiment comparing different versions of the same news piece (\"packages\") has a unique identifier (`clickability_test_id` column). \n",
    "Calculate how many different experiments were conducted in this dataset and, on average, how many packages were considered per experiment. \n",
    "Last, plot the distribution of packages per experiment with a visualization of your choice.\n",
    "\n",
    "1.3 A common way to measure success in online A/B tests is what is called \"the clickthrough rate.\"\n",
    "Given that often A/B tests are created to find what engages users (here, \"packages\" of headlines, images, etc), we would expect that a \"good\" package makes people click often. \n",
    "Create a column named `ctr` by dividing the number of clicks a package received (`clicks` column) by the number of impressions it received (`impressions` column).\n",
    "\n",
    "1.4 Packages varied any combination of the headline (`headline` column), the excerpt (`excerpt`), the first sentence of the article (`lede`), and the image that illustrates the news piece (`eyecatcher_id`, a hash per image). \n",
    "But we want to isolate the effect of the headline on the clickthrough rate. To do that, create a new dataframe where you filter all experiments where only one headline is present. \n",
    "Print the length of this new dataframe and how many experiments were discarded in the filtering process.\n",
    "\n",
    "1.5 For comparison, repeat the procedure described in **T1.4** with the `eyecatcher_id` column, i.e., create a dataframe considering only experiments that vary the image. \n",
    "Again, print the length of this new dataframe and how many experiments were discarded in the filtering process.\n",
    "\n",
    "1.6 **Discuss:** Considering the answers to questions **T1.4** and **T1.5**, what can we say about the different versions of the news tested by Upworthy?\n",
    "\n",
    "1.7 For our subsequent analysis, we want to compare the causal effect of headlines on the success of a news piece. \n",
    "For that, we can compare pairs of packages with the same `eyecatcher_id`, `lede`, and `excerpt`, but different `headlines`.\n",
    "Note that this means that if an experiment considered 5 different headlines and did not vary any other stimulus, we would have 5C2 (i.e., 5 choose 2, 10) pairs to consider.\n",
    "Create a dataset where:\n",
    "- each row corresponds to a pair of packages with different `headline` but the same `eyecatcher_id`, `lede`, and `excerpt`. \n",
    "- there are columns containing the headlines of each of the news versions (`headline1`, `headline2`) and the clickthrough rate of each of the news versions (`ctr1`, `ctr2`). \n",
    "- the columns `headline1` and `ctr1` contain the data associated with the news version with the highest clickthrough rate. Print the first columns of your newly created dataframe, as well as its length.\n",
    "-  the rows where the two news pieces had exactly the same clickthrough rate should be filtered out (this is for simplicity's sake).\n",
    "-  the column `date_created` contains the date when the news version with the highest clickthrough rate was created.\n",
    "\n",
    "1.8 To get a sense of the impact of headline change, measure the average difference per pair between the most clicked-through (`ctr1`) and the least clicked-through headline (`ctr2`), as well as the average clickthrough rate for the least clicked through headline (`ctr2`). \n",
    "\n",
    "1.9 **Discuss:** Considering your answer to **T1.8**, and assuming the average differences in clickthrough rates between pairs are statistically significant, do you think that headlines are impactful in the news business? Justify with the data."
   ]
  },
  {
   "cell_type": "markdown",
   "id": "3bd5f3c1",
   "metadata": {},
   "source": [
    "**1.1**"
   ]
  },
  {
   "cell_type": "code",
   "execution_count": 149,
   "id": "d3a9f611",
   "metadata": {
    "ExecuteTime": {
     "end_time": "2022-10-28T06:31:59.326806Z",
     "start_time": "2022-10-28T06:31:59.187633Z"
    }
   },
   "outputs": [
    {
     "data": {
      "text/html": [
       "<div>\n",
       "<style scoped>\n",
       "    .dataframe tbody tr th:only-of-type {\n",
       "        vertical-align: middle;\n",
       "    }\n",
       "\n",
       "    .dataframe tbody tr th {\n",
       "        vertical-align: top;\n",
       "    }\n",
       "\n",
       "    .dataframe thead th {\n",
       "        text-align: right;\n",
       "    }\n",
       "</style>\n",
       "<table border=\"1\" class=\"dataframe\">\n",
       "  <thead>\n",
       "    <tr style=\"text-align: right;\">\n",
       "      <th></th>\n",
       "      <th>created_at</th>\n",
       "      <th>updated_at</th>\n",
       "      <th>clickability_test_id</th>\n",
       "      <th>excerpt</th>\n",
       "      <th>headline</th>\n",
       "      <th>lede</th>\n",
       "      <th>slug</th>\n",
       "      <th>eyecatcher_id</th>\n",
       "      <th>impressions</th>\n",
       "      <th>clicks</th>\n",
       "      <th>significance</th>\n",
       "      <th>first_place</th>\n",
       "      <th>winner</th>\n",
       "      <th>share_text</th>\n",
       "      <th>square</th>\n",
       "      <th>test_week</th>\n",
       "    </tr>\n",
       "  </thead>\n",
       "  <tbody>\n",
       "    <tr>\n",
       "      <th>0</th>\n",
       "      <td>2014-11-20 06:43:16.005</td>\n",
       "      <td>2016-04-02 16:33:38.062</td>\n",
       "      <td>546d88fb84ad38b2ce000024</td>\n",
       "      <td>Things that matter. Pass 'em on.</td>\n",
       "      <td>They're Being Called 'Walmart's Worst Nightmar...</td>\n",
       "      <td>&lt;p&gt;When I saw *why* people are calling them \"W...</td>\n",
       "      <td>theyre-being-called-walmarts-worst-nightmare-a...</td>\n",
       "      <td>546d6fa19ad54eec8d00002d</td>\n",
       "      <td>3052</td>\n",
       "      <td>150</td>\n",
       "      <td>100.0</td>\n",
       "      <td>True</td>\n",
       "      <td>True</td>\n",
       "      <td>Anyone who's ever felt guilty about shopping a...</td>\n",
       "      <td>NaN</td>\n",
       "      <td>201446</td>\n",
       "    </tr>\n",
       "  </tbody>\n",
       "</table>\n",
       "</div>"
      ],
      "text/plain": [
       "                created_at               updated_at      clickability_test_id  \\\n",
       "0  2014-11-20 06:43:16.005  2016-04-02 16:33:38.062  546d88fb84ad38b2ce000024   \n",
       "\n",
       "                            excerpt  \\\n",
       "0  Things that matter. Pass 'em on.   \n",
       "\n",
       "                                            headline  \\\n",
       "0  They're Being Called 'Walmart's Worst Nightmar...   \n",
       "\n",
       "                                                lede  \\\n",
       "0  <p>When I saw *why* people are calling them \"W...   \n",
       "\n",
       "                                                slug  \\\n",
       "0  theyre-being-called-walmarts-worst-nightmare-a...   \n",
       "\n",
       "              eyecatcher_id  impressions  clicks  significance  first_place  \\\n",
       "0  546d6fa19ad54eec8d00002d         3052     150         100.0         True   \n",
       "\n",
       "   winner                                         share_text square  test_week  \n",
       "0    True  Anyone who's ever felt guilty about shopping a...    NaN     201446  "
      ]
     },
     "execution_count": 149,
     "metadata": {},
     "output_type": "execute_result"
    }
   ],
   "source": [
    "data = pd.read_csv('./data/upworthy.csv')\n",
    "data.head(1)"
   ]
  },
  {
   "cell_type": "markdown",
   "id": "1c0f79b8",
   "metadata": {},
   "source": [
    "**1.2**"
   ]
  },
  {
   "cell_type": "code",
   "execution_count": 150,
   "id": "905d0642",
   "metadata": {
    "ExecuteTime": {
     "end_time": "2022-10-28T06:31:59.649863Z",
     "start_time": "2022-10-28T06:31:59.643042Z"
    }
   },
   "outputs": [
    {
     "data": {
      "text/plain": [
       "(4822,)"
      ]
     },
     "execution_count": 150,
     "metadata": {},
     "output_type": "execute_result"
    }
   ],
   "source": [
    "pd.unique(data.clickability_test_id).shape"
   ]
  },
  {
   "cell_type": "code",
   "execution_count": 151,
   "id": "83567cb7",
   "metadata": {
    "ExecuteTime": {
     "end_time": "2022-10-28T06:32:00.109568Z",
     "start_time": "2022-10-28T06:32:00.103203Z"
    }
   },
   "outputs": [
    {
     "data": {
      "text/plain": [
       "(20603, 16)"
      ]
     },
     "execution_count": 151,
     "metadata": {},
     "output_type": "execute_result"
    }
   ],
   "source": [
    "data.shape"
   ]
  },
  {
   "cell_type": "code",
   "execution_count": 152,
   "id": "e7d8b78f",
   "metadata": {
    "ExecuteTime": {
     "end_time": "2022-10-28T06:32:00.369483Z",
     "start_time": "2022-10-28T06:32:00.324579Z"
    }
   },
   "outputs": [
    {
     "data": {
      "image/png": "[encoded data removed]",
      "text/plain": [
       "<Figure size 432x288 with 1 Axes>"
      ]
     },
     "metadata": {
      "needs_background": "light"
     },
     "output_type": "display_data"
    }
   ],
   "source": [
    "plt.hist(data['clickability_test_id'].value_counts())\n",
    "plt.show()"
   ]
  },
  {
   "cell_type": "markdown",
   "id": "965595dc",
   "metadata": {},
   "source": [
    "**1.3**"
   ]
  },
  {
   "cell_type": "code",
   "execution_count": 153,
   "id": "b785f17e",
   "metadata": {
    "ExecuteTime": {
     "end_time": "2022-10-28T06:32:01.435972Z",
     "start_time": "2022-10-28T06:32:01.414207Z"
    }
   },
   "outputs": [
    {
     "data": {
      "text/html": [
       "<div>\n",
       "<style scoped>\n",
       "    .dataframe tbody tr th:only-of-type {\n",
       "        vertical-align: middle;\n",
       "    }\n",
       "\n",
       "    .dataframe tbody tr th {\n",
       "        vertical-align: top;\n",
       "    }\n",
       "\n",
       "    .dataframe thead th {\n",
       "        text-align: right;\n",
       "    }\n",
       "</style>\n",
       "<table border=\"1\" class=\"dataframe\">\n",
       "  <thead>\n",
       "    <tr style=\"text-align: right;\">\n",
       "      <th></th>\n",
       "      <th>created_at</th>\n",
       "      <th>updated_at</th>\n",
       "      <th>clickability_test_id</th>\n",
       "      <th>excerpt</th>\n",
       "      <th>headline</th>\n",
       "      <th>lede</th>\n",
       "      <th>slug</th>\n",
       "      <th>eyecatcher_id</th>\n",
       "      <th>impressions</th>\n",
       "      <th>clicks</th>\n",
       "      <th>significance</th>\n",
       "      <th>first_place</th>\n",
       "      <th>winner</th>\n",
       "      <th>share_text</th>\n",
       "      <th>square</th>\n",
       "      <th>test_week</th>\n",
       "      <th>ctr</th>\n",
       "    </tr>\n",
       "  </thead>\n",
       "  <tbody>\n",
       "    <tr>\n",
       "      <th>0</th>\n",
       "      <td>2014-11-20 06:43:16.005</td>\n",
       "      <td>2016-04-02 16:33:38.062</td>\n",
       "      <td>546d88fb84ad38b2ce000024</td>\n",
       "      <td>Things that matter. Pass 'em on.</td>\n",
       "      <td>They're Being Called 'Walmart's Worst Nightmar...</td>\n",
       "      <td>&lt;p&gt;When I saw *why* people are calling them \"W...</td>\n",
       "      <td>theyre-being-called-walmarts-worst-nightmare-a...</td>\n",
       "      <td>546d6fa19ad54eec8d00002d</td>\n",
       "      <td>3052</td>\n",
       "      <td>150</td>\n",
       "      <td>100.0</td>\n",
       "      <td>True</td>\n",
       "      <td>True</td>\n",
       "      <td>Anyone who's ever felt guilty about shopping a...</td>\n",
       "      <td>NaN</td>\n",
       "      <td>201446</td>\n",
       "      <td>0.049148</td>\n",
       "    </tr>\n",
       "    <tr>\n",
       "      <th>1</th>\n",
       "      <td>2014-11-20 06:54:36.335</td>\n",
       "      <td>2016-04-02 16:25:54.027</td>\n",
       "      <td>546d902c26714c6c44000039</td>\n",
       "      <td>Things that matter. Pass 'em on.</td>\n",
       "      <td>This Is What Sexism Against Men Sounds Like</td>\n",
       "      <td>&lt;p&gt;DISCLOSURE: I'm a dude. I have cried on mul...</td>\n",
       "      <td>this-is-what-sexism-against-men-sounds-like-am...</td>\n",
       "      <td>546bc55335992b86c8000043</td>\n",
       "      <td>3526</td>\n",
       "      <td>90</td>\n",
       "      <td>4.1</td>\n",
       "      <td>False</td>\n",
       "      <td>False</td>\n",
       "      <td>If you ever wondered, \"but what about the men?...</td>\n",
       "      <td>NaN</td>\n",
       "      <td>201446</td>\n",
       "      <td>0.025525</td>\n",
       "    </tr>\n",
       "  </tbody>\n",
       "</table>\n",
       "</div>"
      ],
      "text/plain": [
       "                created_at               updated_at      clickability_test_id  \\\n",
       "0  2014-11-20 06:43:16.005  2016-04-02 16:33:38.062  546d88fb84ad38b2ce000024   \n",
       "1  2014-11-20 06:54:36.335  2016-04-02 16:25:54.027  546d902c26714c6c44000039   \n",
       "\n",
       "                            excerpt  \\\n",
       "0  Things that matter. Pass 'em on.   \n",
       "1  Things that matter. Pass 'em on.   \n",
       "\n",
       "                                            headline  \\\n",
       "0  They're Being Called 'Walmart's Worst Nightmar...   \n",
       "1        This Is What Sexism Against Men Sounds Like   \n",
       "\n",
       "                                                lede  \\\n",
       "0  <p>When I saw *why* people are calling them \"W...   \n",
       "1  <p>DISCLOSURE: I'm a dude. I have cried on mul...   \n",
       "\n",
       "                                                slug  \\\n",
       "0  theyre-being-called-walmarts-worst-nightmare-a...   \n",
       "1  this-is-what-sexism-against-men-sounds-like-am...   \n",
       "\n",
       "              eyecatcher_id  impressions  clicks  significance  first_place  \\\n",
       "0  546d6fa19ad54eec8d00002d         3052     150         100.0         True   \n",
       "1  546bc55335992b86c8000043         3526      90           4.1        False   \n",
       "\n",
       "   winner                                         share_text square  \\\n",
       "0    True  Anyone who's ever felt guilty about shopping a...    NaN   \n",
       "1   False  If you ever wondered, \"but what about the men?...    NaN   \n",
       "\n",
       "   test_week       ctr  \n",
       "0     201446  0.049148  \n",
       "1     201446  0.025525  "
      ]
     },
     "execution_count": 153,
     "metadata": {},
     "output_type": "execute_result"
    }
   ],
   "source": [
    "data['ctr'] = data['clicks'] / data['impressions']\n",
    "data.head(2)"
   ]
  },
  {
   "cell_type": "markdown",
   "id": "bf38f7c4",
   "metadata": {},
   "source": [
    "**1.4**\n",
    "Packages varied any combination of the headline (`headline` column), the excerpt (`excerpt`), the first sentence of the article (`lede`), and the image that illustrates the news piece (`eyecatcher_id`, a hash per image). \n",
    "But we want to isolate the effect of the headline on the clickthrough rate. To do that, create a new dataframe where you filter all experiments where only one headline is present. \n",
    "Print the length of this new dataframe and how many experiments were discarded in the filtering process."
   ]
  },
  {
   "cell_type": "code",
   "execution_count": 160,
   "id": "6d7459e1",
   "metadata": {
    "ExecuteTime": {
     "end_time": "2022-10-28T06:33:54.008224Z",
     "start_time": "2022-10-28T06:33:46.989706Z"
    }
   },
   "outputs": [],
   "source": [
    "data_1_4 = pd.DataFrame(columns=data.columns)\n",
    "count_head_one = 0\n",
    "for i in data['clickability_test_id'].value_counts().index:\n",
    "    temp = data[data['clickability_test_id'] == i].headline.unique()\n",
    "    if len(temp) > 1:\n",
    "        data_1_4  = pd.concat([data_1_4 , data[data['clickability_test_id'] == i]])\n",
    "    else:\n",
    "        count_head_one += 1"
   ]
  },
  {
   "cell_type": "code",
   "execution_count": 161,
   "id": "3c641821",
   "metadata": {
    "ExecuteTime": {
     "end_time": "2022-10-28T06:33:54.115097Z",
     "start_time": "2022-10-28T06:33:54.112973Z"
    }
   },
   "outputs": [
    {
     "data": {
      "text/plain": [
       "2236"
      ]
     },
     "execution_count": 161,
     "metadata": {},
     "output_type": "execute_result"
    }
   ],
   "source": [
    "count_head_one"
   ]
  },
  {
   "cell_type": "markdown",
   "id": "7e3f9e70",
   "metadata": {},
   "source": [
    "Totally Experience: 4822\n",
    "\n",
    "discard 2236 Experience"
   ]
  },
  {
   "cell_type": "markdown",
   "id": "7f445595",
   "metadata": {},
   "source": [
    "**1.5** For comparison, repeat the procedure described in **T1.4** with the `eyecatcher_id` column, i.e., create a dataframe considering only experiments that vary the image. \n",
    "Again, print the length of this new dataframe and how many experiments were discarded in the filtering process."
   ]
  },
  {
   "cell_type": "code",
   "execution_count": 156,
   "id": "bd7059e2",
   "metadata": {
    "ExecuteTime": {
     "end_time": "2022-10-28T06:32:15.305118Z",
     "start_time": "2022-10-28T06:32:09.691927Z"
    }
   },
   "outputs": [],
   "source": [
    "data_1_5 = pd.DataFrame(columns=data.columns)\n",
    "\n",
    "count_image_one = 0\n",
    "for i in data['clickability_test_id'].value_counts().index:\n",
    "    temp = data[data['clickability_test_id'] == i].eyecatcher_id.unique()\n",
    "    if len(temp) > 1:\n",
    "        data_1_5 = pd.concat([data_1_5, data[data['clickability_test_id'] == i]])\n",
    "    else:\n",
    "        count_image_one += 1"
   ]
  },
  {
   "cell_type": "code",
   "execution_count": 157,
   "id": "b7529b65",
   "metadata": {
    "ExecuteTime": {
     "end_time": "2022-10-28T06:32:15.408106Z",
     "start_time": "2022-10-28T06:32:15.406399Z"
    }
   },
   "outputs": [
    {
     "name": "stdout",
     "output_type": "stream",
     "text": [
      "There are still have 7930 row in dataframe, and discard 3108 experiments\n"
     ]
    }
   ],
   "source": [
    "print(f'There are still have {data_1_5.shape[0]} row in dataframe, and discard {count_image_one} experiments')"
   ]
  },
  {
   "cell_type": "markdown",
   "id": "020245b1",
   "metadata": {},
   "source": [
    "1.6 **Discuss:** Considering the answers to questions **T1.4** and **T1.5**, what can we say about the different versions of the news tested by Upworthy?"
   ]
  },
  {
   "cell_type": "markdown",
   "id": "1020d511",
   "metadata": {},
   "source": [
    "If we want to make experiment about headline, we should discard 2236 useless experiments, and if we want to make experiment about image, we should discard 3108 useless experiments."
   ]
  },
  {
   "cell_type": "markdown",
   "id": "7500dbd2",
   "metadata": {},
   "source": [
    "**1.7** For our subsequent analysis, we want to compare the causal effect of headlines on the success of a news piece. \n",
    "For that, we can compare pairs of packages with the same `eyecatcher_id`, `lede`, and `excerpt`, but different `headlines`.\n",
    "Note that this means that if an experiment considered 5 different headlines and did not vary any other stimulus, we would have 5C2 (i.e., 5 choose 2, 10) pairs to consider.\n",
    "Create a dataset where:\n",
    "- each row corresponds to a pair of packages with different `headline` but the same `eyecatcher_id`, `lede`, and `excerpt`. \n",
    "- there are columns containing the headlines of each of the news versions (`headline1`, `headline2`) and the clickthrough rate of each of the news versions (`ctr1`, `ctr2`). \n",
    "- the columns `headline1` and `ctr1` contain the data associated with the news version with the highest clickthrough rate. Print the first columns of your newly created dataframe, as well as its length.\n",
    "-  the rows where the two news pieces had exactly the same clickthrough rate should be filtered out (this is for simplicity's sake).\n",
    "-  the column `date_created` contains the date when the news version with the highest clickthrough rate was created."
   ]
  },
  {
   "cell_type": "code",
   "execution_count": 162,
   "id": "7d719190",
   "metadata": {
    "ExecuteTime": {
     "end_time": "2022-10-28T06:34:47.075687Z",
     "start_time": "2022-10-28T06:34:35.866497Z"
    }
   },
   "outputs": [],
   "source": [
    "def combine_Headline_Ctr(data):\n",
    "    rows = data.shape[0]\n",
    "    data_new = pd.DataFrame(columns=['headline1','headline2','ctr1','ctr2','date_created'])\n",
    "    \n",
    "    for i in range(rows):\n",
    "        for j in range(i+1,rows):\n",
    "            headline1 = data.iloc[i].headline\n",
    "            headline2 = data.iloc[j].headline\n",
    "            ctr1 = data.iloc[i].ctr\n",
    "            ctr2 = data.iloc[j].ctr\n",
    "            if ctr1 > ctr2:\n",
    "                date_created = data.iloc[i].created_at\n",
    "            elif ctr1 < ctr2:\n",
    "                date_created = data.iloc[j].created_at\n",
    "                ctr1, ctr2 = ctr2, ctr1\n",
    "                headline1, headline2 = headline2, headline1\n",
    "            else:\n",
    "                continue\n",
    "                \n",
    "            if headline1 == headline2 or data.iloc[i].eyecatcher_id != data.iloc[j].eyecatcher_id or data.iloc[i].lede != data.iloc[j].lede or data.iloc[i].excerpt != data.iloc[j].excerpt:\n",
    "                continue\n",
    "            \n",
    "            df = pd.DataFrame([[headline1, headline2, ctr1, ctr2, date_created]], columns=['headline1','headline2','ctr1','ctr2','date_created'])\n",
    "            data_new = pd.concat([data_new, df])\n",
    "    return data_new\n",
    "\n",
    "\n",
    "data_1_7 = pd.DataFrame(columns=['headline1','headline2','ctr1','ctr2','date_created'])\n",
    "\n",
    "for i in data_1_4['clickability_test_id'].value_counts().index:\n",
    "    temp = combine_Headline_Ctr(data_1_4[data_1_4['clickability_test_id'] == i])\n",
    "    data_1_7 = pd.concat([data_1_7, temp])"
   ]
  },
  {
   "cell_type": "markdown",
   "id": "ddae922d",
   "metadata": {},
   "source": [
    "**1.8** To get a sense of the impact of headline change, measure the average difference per pair between the most clicked-through (`ctr1`) and the least clicked-through headline (`ctr2`), as well as the average clickthrough rate for the least clicked through headline (`ctr2`). "
   ]
  },
  {
   "cell_type": "code",
   "execution_count": 167,
   "id": "65c56235",
   "metadata": {
    "ExecuteTime": {
     "end_time": "2022-10-28T06:39:41.420185Z",
     "start_time": "2022-10-28T06:39:41.406677Z"
    }
   },
   "outputs": [
    {
     "name": "stdout",
     "output_type": "stream",
     "text": [
      "The average difference between ctr1 and ctr2: 0.0041315708609719155\n",
      "The average clickthrought rate in ctr2: 0.011020541327583072\n"
     ]
    }
   ],
   "source": [
    "average_Difference_Between_Click = (data_1_7.ctr1.sum() - data_1_7.ctr2.sum()) / data_1_7.shape[0]\n",
    "\n",
    "print(f'The average difference between ctr1 and ctr2: {average_Difference_Between_Click}')\n",
    "print(f'The average clickthrought rate in ctr2: {data_1_7.ctr2.mean()}')"
   ]
  },
  {
   "cell_type": "markdown",
   "id": "4d823c80",
   "metadata": {},
   "source": [
    "1.9 **Discuss:** Considering your answer to **T1.8**, and assuming the average differences in clickthrough rates between pairs are statistically significant, do you think that headlines are impactful in the news business? Justify with the data."
   ]
  },
  {
   "cell_type": "markdown",
   "id": "491ba382",
   "metadata": {},
   "source": []
  },
  {
   "cell_type": "markdown",
   "id": "00795a15",
   "metadata": {},
   "source": [
    "## Task 2: Extracting signals from the data\n",
    "\n",
    "Your second task is to extract meaningful signals from the data. \n",
    "We start this task from the dataset obtained in **T1.7**. \n",
    "Recall that we have one A/B test per row with the clickthrough rate of two news pieces that differ only in their headline. \n",
    "We refer to the version with the higher clickthrough rate as the \"winner\" and the version with the lower as the \"loser.\" \n",
    "(Note that this is not the same as the column `winner` in the original data, which captures a similar concept but considering the original experiments, where multiple comparisons were made!)\n",
    " \n",
    "2.1 Using the function provided below, count the number of words in each headline, creating columns `numwords1` and `numwords2` corresponding to the number of words in the winner and loser headlines.\n",
    "\n",
    "2.2 Using the dictionary of pronouns provided below, create indicator variables corresponding to each set of pronouns (e.g., first-person singular may yield columns `first_person_singular1` and `first_person_singular2` for the headlines in each A/B test). \n",
    "Each indicator variable in the dataframe should equal 1 if the corresponding headline uses the corresponding type of pronoun and 0 otherwise. \n",
    "Your code should be agnostic to lower/upper case.\n",
    "\n",
    "2.3 One easy way to classify sentiment is simply to match negative or positive words. \n",
    "Use the linked lists of words ([positive][1], [negative][2]) to obtain \"positive sentiment\" and \"negative sentiment\" scores for each headline. Create columns `positive1`/`positive2` and `negative1`/`negative2` containing indicator variables for positive and negative sentiment, i.e., A headline has a \"positive sentiment\" (or negative) score equal 1 if it contains at least one positive (or negative) sentiment word on the list. Otherwise, its \"positive sentiment\" (or negative) score equals 0.\n",
    "    \n",
    "[1]: https://ptrckprry.com/course/ssd/data/positive-words.txt\n",
    "[2]: https://ptrckprry.com/course/ssd/data/negative-words.txt\n",
    "\n",
    "--- \n",
    "\n",
    "**Comments**\n",
    "\n",
    "- For **T2.3**, beware of encodings!"
   ]
  },
  {
   "cell_type": "markdown",
   "id": "3543634f",
   "metadata": {},
   "source": [
    "**2.1** Using the function provided below, count the number of words in each headline, creating columns `numwords1` and `numwords2` corresponding to the number of words in the winner and loser headlines."
   ]
  },
  {
   "cell_type": "code",
   "execution_count": 168,
   "id": "6db63064",
   "metadata": {
    "ExecuteTime": {
     "end_time": "2022-10-28T06:44:57.179246Z",
     "start_time": "2022-10-28T06:44:57.172707Z"
    }
   },
   "outputs": [
    {
     "name": "stdout",
     "output_type": "stream",
     "text": [
      "How many words are here? 5\n"
     ]
    }
   ],
   "source": [
    "# 2.1 (provided code)\n",
    "def count_words_simple(x):\n",
    "    return len(x.split(\" \"))\n",
    "str_test = \"How many words are here?\"\n",
    "print(str_test, count_words_simple(str_test))\n"
   ]
  },
  {
   "cell_type": "code",
   "execution_count": 169,
   "id": "f9315070",
   "metadata": {
    "ExecuteTime": {
     "end_time": "2022-10-28T06:44:58.176449Z",
     "start_time": "2022-10-28T06:44:58.123512Z"
    }
   },
   "outputs": [
    {
     "data": {
      "text/html": [
       "<div>\n",
       "<style scoped>\n",
       "    .dataframe tbody tr th:only-of-type {\n",
       "        vertical-align: middle;\n",
       "    }\n",
       "\n",
       "    .dataframe tbody tr th {\n",
       "        vertical-align: top;\n",
       "    }\n",
       "\n",
       "    .dataframe thead th {\n",
       "        text-align: right;\n",
       "    }\n",
       "</style>\n",
       "<table border=\"1\" class=\"dataframe\">\n",
       "  <thead>\n",
       "    <tr style=\"text-align: right;\">\n",
       "      <th></th>\n",
       "      <th>headline1</th>\n",
       "      <th>headline2</th>\n",
       "      <th>ctr1</th>\n",
       "      <th>ctr2</th>\n",
       "      <th>date_created</th>\n",
       "      <th>numwords1</th>\n",
       "      <th>numwords2</th>\n",
       "    </tr>\n",
       "  </thead>\n",
       "  <tbody>\n",
       "    <tr>\n",
       "      <th>0</th>\n",
       "      <td>Pink, Ellen, Katy Perry, And A Hockey Player W...</td>\n",
       "      <td>Ellen, A Rapper And Katy Perry Walk Into A Com...</td>\n",
       "      <td>0.038878</td>\n",
       "      <td>0.028744</td>\n",
       "      <td>2014-02-22 17:07:02.15</td>\n",
       "      <td>17</td>\n",
       "      <td>15</td>\n",
       "    </tr>\n",
       "    <tr>\n",
       "      <th>0</th>\n",
       "      <td>Pink, Ellen, Katy Perry, And A Hockey Player W...</td>\n",
       "      <td>Ellen, A Rapper And A Hockey Player Walk Into ...</td>\n",
       "      <td>0.038878</td>\n",
       "      <td>0.025329</td>\n",
       "      <td>2014-02-22 17:07:02.15</td>\n",
       "      <td>17</td>\n",
       "      <td>16</td>\n",
       "    </tr>\n",
       "    <tr>\n",
       "      <th>0</th>\n",
       "      <td>Pink, Ellen, Katy Perry, And A Hockey Player W...</td>\n",
       "      <td>Ellen, Janelle Monae, And Pink Walk Into A Com...</td>\n",
       "      <td>0.038878</td>\n",
       "      <td>0.027179</td>\n",
       "      <td>2014-02-22 17:07:02.15</td>\n",
       "      <td>17</td>\n",
       "      <td>14</td>\n",
       "    </tr>\n",
       "    <tr>\n",
       "      <th>0</th>\n",
       "      <td>Pink, Ellen, Katy Perry, And A Hockey Player W...</td>\n",
       "      <td>Ellen, Janelle Monae, And A Hockey Player Walk...</td>\n",
       "      <td>0.038878</td>\n",
       "      <td>0.025038</td>\n",
       "      <td>2014-02-22 17:07:02.15</td>\n",
       "      <td>17</td>\n",
       "      <td>16</td>\n",
       "    </tr>\n",
       "    <tr>\n",
       "      <th>0</th>\n",
       "      <td>Pink, Ellen, Katy Perry, And A Hockey Player W...</td>\n",
       "      <td>Ellen, Pink, And Sofia Vergara Walk Into A Com...</td>\n",
       "      <td>0.038878</td>\n",
       "      <td>0.034599</td>\n",
       "      <td>2014-02-22 17:07:02.15</td>\n",
       "      <td>17</td>\n",
       "      <td>14</td>\n",
       "    </tr>\n",
       "    <tr>\n",
       "      <th>...</th>\n",
       "      <td>...</td>\n",
       "      <td>...</td>\n",
       "      <td>...</td>\n",
       "      <td>...</td>\n",
       "      <td>...</td>\n",
       "      <td>...</td>\n",
       "      <td>...</td>\n",
       "    </tr>\n",
       "    <tr>\n",
       "      <th>0</th>\n",
       "      <td>NSFW: Woman With 26 Boobs Goes Viral</td>\n",
       "      <td>Woman With 26 Boobs Goes Viral</td>\n",
       "      <td>0.012517</td>\n",
       "      <td>0.012184</td>\n",
       "      <td>2013-03-13 09:24:45</td>\n",
       "      <td>7</td>\n",
       "      <td>6</td>\n",
       "    </tr>\n",
       "    <tr>\n",
       "      <th>0</th>\n",
       "      <td>Mr. President, I'm Not Mad. I'm Just Disappoin...</td>\n",
       "      <td>Mr. President, I'm Not Mad. I'm Just Disappoin...</td>\n",
       "      <td>0.01977</td>\n",
       "      <td>0.016595</td>\n",
       "      <td>2013-02-07 05:42:25</td>\n",
       "      <td>9</td>\n",
       "      <td>15</td>\n",
       "    </tr>\n",
       "    <tr>\n",
       "      <th>0</th>\n",
       "      <td>Family Shares Embarrassing Perm Photos To Help...</td>\n",
       "      <td>Professor Mom Builds Time Machine To Help Auti...</td>\n",
       "      <td>0.020077</td>\n",
       "      <td>0.011249</td>\n",
       "      <td>2015-01-09 15:47:08.143</td>\n",
       "      <td>9</td>\n",
       "      <td>9</td>\n",
       "    </tr>\n",
       "    <tr>\n",
       "      <th>0</th>\n",
       "      <td>8 Fun Things To Do During The Holiday Weekend ...</td>\n",
       "      <td>Something Important To Think About \"Before\" Yo...</td>\n",
       "      <td>0.006079</td>\n",
       "      <td>0.003642</td>\n",
       "      <td>2014-11-18 14:28:40.839</td>\n",
       "      <td>16</td>\n",
       "      <td>11</td>\n",
       "    </tr>\n",
       "    <tr>\n",
       "      <th>0</th>\n",
       "      <td>This Study Showing Discrimination Makes You Si...</td>\n",
       "      <td>This Study Shows That Racism Is Actually Makin...</td>\n",
       "      <td>0.007227</td>\n",
       "      <td>0.005228</td>\n",
       "      <td>2013-12-13 20:52:58.464</td>\n",
       "      <td>10</td>\n",
       "      <td>10</td>\n",
       "    </tr>\n",
       "  </tbody>\n",
       "</table>\n",
       "<p>15670 rows × 7 columns</p>\n",
       "</div>"
      ],
      "text/plain": [
       "                                            headline1  \\\n",
       "0   Pink, Ellen, Katy Perry, And A Hockey Player W...   \n",
       "0   Pink, Ellen, Katy Perry, And A Hockey Player W...   \n",
       "0   Pink, Ellen, Katy Perry, And A Hockey Player W...   \n",
       "0   Pink, Ellen, Katy Perry, And A Hockey Player W...   \n",
       "0   Pink, Ellen, Katy Perry, And A Hockey Player W...   \n",
       "..                                                ...   \n",
       "0                NSFW: Woman With 26 Boobs Goes Viral   \n",
       "0   Mr. President, I'm Not Mad. I'm Just Disappoin...   \n",
       "0   Family Shares Embarrassing Perm Photos To Help...   \n",
       "0   8 Fun Things To Do During The Holiday Weekend ...   \n",
       "0   This Study Showing Discrimination Makes You Si...   \n",
       "\n",
       "                                            headline2      ctr1      ctr2  \\\n",
       "0   Ellen, A Rapper And Katy Perry Walk Into A Com...  0.038878  0.028744   \n",
       "0   Ellen, A Rapper And A Hockey Player Walk Into ...  0.038878  0.025329   \n",
       "0   Ellen, Janelle Monae, And Pink Walk Into A Com...  0.038878  0.027179   \n",
       "0   Ellen, Janelle Monae, And A Hockey Player Walk...  0.038878  0.025038   \n",
       "0   Ellen, Pink, And Sofia Vergara Walk Into A Com...  0.038878  0.034599   \n",
       "..                                                ...       ...       ...   \n",
       "0                      Woman With 26 Boobs Goes Viral  0.012517  0.012184   \n",
       "0   Mr. President, I'm Not Mad. I'm Just Disappoin...   0.01977  0.016595   \n",
       "0   Professor Mom Builds Time Machine To Help Auti...  0.020077  0.011249   \n",
       "0   Something Important To Think About \"Before\" Yo...  0.006079  0.003642   \n",
       "0   This Study Shows That Racism Is Actually Makin...  0.007227  0.005228   \n",
       "\n",
       "               date_created  numwords1  numwords2  \n",
       "0    2014-02-22 17:07:02.15         17         15  \n",
       "0    2014-02-22 17:07:02.15         17         16  \n",
       "0    2014-02-22 17:07:02.15         17         14  \n",
       "0    2014-02-22 17:07:02.15         17         16  \n",
       "0    2014-02-22 17:07:02.15         17         14  \n",
       "..                      ...        ...        ...  \n",
       "0       2013-03-13 09:24:45          7          6  \n",
       "0       2013-02-07 05:42:25          9         15  \n",
       "0   2015-01-09 15:47:08.143          9          9  \n",
       "0   2014-11-18 14:28:40.839         16         11  \n",
       "0   2013-12-13 20:52:58.464         10         10  \n",
       "\n",
       "[15670 rows x 7 columns]"
      ]
     },
     "execution_count": 169,
     "metadata": {},
     "output_type": "execute_result"
    }
   ],
   "source": [
    "data_2_1 = data_1_7.copy()\n",
    "data_2_1['numwords1'] = data_2_1['headline1'].apply(count_words_simple)\n",
    "data_2_1['numwords2'] = data_2_1['headline2'].apply(count_words_simple)\n",
    "\n",
    "data_2_1"
   ]
  },
  {
   "cell_type": "markdown",
   "id": "a0e4d6e2",
   "metadata": {},
   "source": [
    "**2.2** Using the dictionary of pronouns provided below, create indicator variables corresponding to each set of pronouns (e.g., first-person singular may yield columns `first_person_singular1` and `first_person_singular2` for the headlines in each A/B test). \n",
    "Each indicator variable in the dataframe should equal 1 if the corresponding headline uses the corresponding type of pronoun and 0 otherwise. \n",
    "Your code should be agnostic to lower/upper case."
   ]
  },
  {
   "cell_type": "code",
   "execution_count": 251,
   "id": "dc716364",
   "metadata": {
    "ExecuteTime": {
     "end_time": "2022-10-28T10:01:32.040876Z",
     "start_time": "2022-10-28T10:01:32.032260Z"
    }
   },
   "outputs": [],
   "source": [
    "# 2.2 (provided code)\n",
    "feature_wordsets = dict([\n",
    "    # https://en.wikipedia.org/wiki/English_personal_pronouns\n",
    "    ('first_person_singular', ['i', 'me', 'my', 'mine', 'myself',\n",
    "                               \"i'd\", \"i'll\", \"i'm\", \"i've\", 'id', 'im', 'ive']),\n",
    "    ('first_person_plural', ['we', 'us', 'our', 'ours', 'ourselves',\n",
    "                              \"we'd\", \"we'll\", \"we're\", \"we've\",]),\n",
    "    ('second_person', ['you','your','yours','yourself',\n",
    "                              \"ya\", \"you'd\", \"you'll\", \"you're\", \"you've\", 'youll', 'youre', 'youve', \n",
    "                              'yourselves']),\n",
    "    ('third_person_singular', ['he','him','his','himself',\n",
    "                               \"he'd\", \"he's\", 'hes',\n",
    "                               'she','her','hers','herself', \n",
    "                               \"she'll\", \"she's\", 'shes',\n",
    "                               'it','its','itself',\n",
    "                               'themself']),\n",
    "    ('third_person_plural', ['they','them','their','theirs','themselves',\n",
    "                              \"they'd\", \"they'll\", \"they've\", 'theyll', 'theyve'])\n",
    "])\n",
    "\n"
   ]
  },
  {
   "cell_type": "code",
   "execution_count": 20,
   "id": "467026c4",
   "metadata": {
    "ExecuteTime": {
     "end_time": "2022-10-29T11:53:09.790648Z",
     "start_time": "2022-10-29T11:53:09.781906Z"
    }
   },
   "outputs": [
    {
     "data": {
      "text/plain": [
       "['he', \"'s\", 'a', 'a+', '.']"
      ]
     },
     "execution_count": 20,
     "metadata": {},
     "output_type": "execute_result"
    }
   ],
   "source": [
    "from nltk.stem import PorterStemmer, WordNetLemmatizer\n",
    "import nltk\n",
    "\n",
    "sentence = 'he\\'s a a+.'\n",
    "words = nltk.word_tokenize(sentence)\n",
    "words"
   ]
  },
  {
   "cell_type": "code",
   "execution_count": 18,
   "id": "5f9c50f2",
   "metadata": {
    "ExecuteTime": {
     "end_time": "2022-10-29T11:51:23.845369Z",
     "start_time": "2022-10-29T11:51:23.841830Z"
    }
   },
   "outputs": [],
   "source": [
    "import string\n",
    "from nltk.stem import PorterStemmer, WordNetLemmatizer\n",
    "import nltk\n",
    "\n",
    "def split_term(sentence):\n",
    "    \"\"\"\n",
    "    Input: sentence: 'str'\n",
    "    Output: words: list of word\n",
    "    \"\"\"\n",
    "    text = sentence.lower()\n",
    "    words = nltk.word_tokenize(text)\n",
    "    return words"
   ]
  },
  {
   "cell_type": "code",
   "execution_count": 19,
   "id": "192ad340",
   "metadata": {
    "ExecuteTime": {
     "end_time": "2022-10-29T11:51:24.763471Z",
     "start_time": "2022-10-29T11:51:24.760172Z"
    }
   },
   "outputs": [
    {
     "name": "stdout",
     "output_type": "stream",
     "text": [
      "['i', \"'ve\", 'a', 'a+', '.']\n"
     ]
    }
   ],
   "source": [
    "print(split_term(sentence))"
   ]
  },
  {
   "cell_type": "code",
   "execution_count": 252,
   "id": "c3f4038a",
   "metadata": {
    "ExecuteTime": {
     "end_time": "2022-10-28T10:01:42.356199Z",
     "start_time": "2022-10-28T10:01:33.860307Z"
    }
   },
   "outputs": [],
   "source": [
    "import string\n",
    "from nltk.stem import PorterStemmer, WordNetLemmatizer\n",
    "import nltk\n",
    "\n",
    "\n",
    "data_2_2 = data_2_1.copy()\n",
    "\n",
    "def is_feature_wordsets(sentence, key):\n",
    "    text = \"\".join([ch for ch in sentence if ch not in string.punctuation])\n",
    "    text = text.lower()\n",
    "    words = nltk.word_tokenize(text)\n",
    "    for word in words:\n",
    "        if word in feature_wordsets[key]:\n",
    "            return 1\n",
    "    return 0\n",
    "    \n",
    "data_2_2['first_person_singular1'] = data_2_2['headline1'].apply(is_feature_wordsets, key='first_person_singular')\n",
    "data_2_2['first_person_singular2'] = data_2_2['headline2'].apply(is_feature_wordsets, key='first_person_singular')\n",
    "\n",
    "data_2_2['first_person_plural1'] = data_2_2['headline1'].apply(is_feature_wordsets, key='first_person_plural')\n",
    "data_2_2['first_person_plural2'] = data_2_2['headline2'].apply(is_feature_wordsets, key='first_person_plural')\n",
    "\n",
    "data_2_2['second_person1'] = data_2_2['headline1'].apply(is_feature_wordsets, key='second_person')\n",
    "data_2_2['second_person2'] = data_2_2['headline2'].apply(is_feature_wordsets, key='second_person')\n",
    "\n",
    "data_2_2['third_person_singular1'] = data_2_2['headline1'].apply(is_feature_wordsets, key='third_person_singular')\n",
    "data_2_2['third_person_singular2'] = data_2_2['headline2'].apply(is_feature_wordsets, key='third_person_singular')\n",
    "\n",
    "data_2_2['third_person_plural1'] = data_2_2['headline1'].apply(is_feature_wordsets, key='third_person_plural')\n",
    "data_2_2['third_person_plural2'] = data_2_2['headline2'].apply(is_feature_wordsets, key='third_person_plural')\n",
    "\n",
    "\n",
    "\n"
   ]
  },
  {
   "cell_type": "code",
   "execution_count": 269,
   "id": "89697250",
   "metadata": {
    "ExecuteTime": {
     "end_time": "2022-10-28T10:03:21.483851Z",
     "start_time": "2022-10-28T10:03:21.475916Z"
    }
   },
   "outputs": [
    {
     "data": {
      "text/plain": [
       "0    13616\n",
       "1     2054\n",
       "Name: first_person_singular1, dtype: int64"
      ]
     },
     "execution_count": 269,
     "metadata": {},
     "output_type": "execute_result"
    }
   ],
   "source": [
    "data_2_2['first_person_singular1'].value_counts()"
   ]
  },
  {
   "cell_type": "markdown",
   "id": "6b675221",
   "metadata": {},
   "source": [
    "**2.3** One easy way to classify sentiment is simply to match negative or positive words. \n",
    "Use the linked lists of words ([positive][1], [negative][2]) to obtain \"positive sentiment\" and \"negative sentiment\" scores for each headline. Create columns `positive1`/`positive2` and `negative1`/`negative2` containing indicator variables for positive and negative sentiment, i.e., A headline has a \"positive sentiment\" (or negative) score equal 1 if it contains at least one positive (or negative) sentiment word on the list. Otherwise, its \"positive sentiment\" (or negative) score equals 0.\n",
    "    \n",
    "[1]: https://ptrckprry.com/course/ssd/data/positive-words.txt\n",
    "[2]: https://ptrckprry.com/course/ssd/data/negative-words.txt\n"
   ]
  },
  {
   "cell_type": "code",
   "execution_count": 174,
   "id": "699dc8ac",
   "metadata": {
    "ExecuteTime": {
     "end_time": "2022-10-28T06:50:22.876825Z",
     "start_time": "2022-10-28T06:50:22.871934Z"
    }
   },
   "outputs": [],
   "source": [
    "with open(\"./data/positve_word.txt\") as f:\n",
    "    positiva_words = f.readlines()\n",
    "\n",
    "with open(\"./data/negative_word.txt\") as f:\n",
    "    negative_words = f.readlines()"
   ]
  },
  {
   "cell_type": "code",
   "execution_count": 249,
   "id": "71d5e844",
   "metadata": {
    "ExecuteTime": {
     "end_time": "2022-10-28T10:00:29.768296Z",
     "start_time": "2022-10-28T10:00:08.730280Z"
    }
   },
   "outputs": [],
   "source": [
    "positiva_words = [x.strip() for x in positiva_words] \n",
    "negative_words = [x.strip() for x in negative_words]\n",
    "\n",
    "\n",
    "data_2_3 = data_2_2.copy()\n",
    "\n",
    "def is_positive_wordsets(sentence):\n",
    "    text = \"\".join([ch for ch in sentence if ch not in string.punctuation])\n",
    "    text = text.lower()\n",
    "    words = nltk.word_tokenize(text)\n",
    "    for word in words:\n",
    "        if word in positiva_words:\n",
    "            return 1\n",
    "    return 0\n",
    "        \n",
    "def is_negative_wordsets(sentence):\n",
    "    text = \"\".join([ch for ch in sentence if ch not in string.punctuation])\n",
    "    text = text.lower()\n",
    "    words = nltk.word_tokenize(text)\n",
    "    for word in words:\n",
    "        if word in negative_words:\n",
    "            return 1\n",
    "    return 0\n",
    "\n",
    "data_2_3['positive1'] = data_2_3['headline1'].apply(is_positive_wordsets)\n",
    "data_2_3['positive2'] = data_2_3['headline2'].apply(is_positive_wordsets)\n",
    "\n",
    "data_2_3['negative1'] = data_2_3['headline1'].apply(is_negative_wordsets)\n",
    "data_2_3['negative2'] = data_2_3['headline2'].apply(is_negative_wordsets)\n"
   ]
  },
  {
   "cell_type": "markdown",
   "id": "572f0b46",
   "metadata": {},
   "source": [
    "## Task 3: Estimating the effect of language on headline success\n",
    "\n",
    "Your third task revolves around the question *how does language impact headlines' success?*\n",
    "\n",
    "3.1 First, we examine whether the winner headlines have more or fewer words than the loser headline. Conduct an independent sample t-test and paired t-test (see [scipy.stats](https://docs.scipy.org/doc/scipy/reference/generated/scipy.stats.ttest_ind.html#scipy.stats.ttest_ind); for the independent sample t-test, assume equal variance). Also, calculate and print the mean difference between the number of words in the winner and the loser headlines.\n",
    "\n",
    "3.2 **Discuss:** Are longer headlines more successful? Justify.\n",
    "\n",
    "3.3 The [t-statistic](https://en.wikipedia.org/wiki/T-statistic) is the ratio of the departure of the estimated value of a parameter from its hypothesized value to its standard error. In a t-test, the higher the t-statistic, the more confidently we can reject the null hypothesis. Use `numpy.random` to create four samples, each of size 30:\n",
    "- $X \\sim Uniform(0,1)$\n",
    "- $Y \\sim Uniform(0,1)$\n",
    "- $Z = X/2 + Y/2 + 0.1$\n",
    "- $K = Y + 0.1$\n",
    "    \n",
    "3.4 **Discuss:** What are the expected values and the variance of $X$, $Y$, $Z$, and $K$? (You don't need to justify them!)\n",
    "\n",
    "3.5 Run the following simulation 10000 times, storing the $p$-values for the tests at each run:\n",
    "- Sample new values  for $X$, $Y$, $Z$ and $K$ ($n=30$ each). \n",
    "- Run independent sample t-test (assuming equal variance) and paired t-test comparing $X$ and $Z$.\n",
    "-  Run independent sample t-test (assuming equal variance) and paired t-test comparing $X$ and $K$.\n",
    "\n",
    "3.6 Recall that the power of a binary hypothesis test is the probability that the test correctly rejects the null hypothesis when the alternative hypothesis is true. Using the p-values and assuming that we reject the null hypothesis if $p < 0.05$, calculate the statistical power of:\n",
    "- The independent sample t-test comparing $X$ and $Z$.\n",
    "- The paired t-test comparing $X$ and $Z$.\n",
    "- The independent sample t-test comparing $X$ and $K$.\n",
    "- The paired t-test comparing $X$ and $K$.\n",
    "    \n",
    "3.7 **Discuss:** When are paired t-tests helpful? Justify.\n",
    "\n",
    "3.8 With a bootstrapping approach (implemented by yourself, you should not use existing bootstrapping functions), estimate the average difference and 95% confidence intervals for:\n",
    "- the mean ratio between the number of words in the winner headline and the loser headline (i.e., the number of words in the winner headline divided by the number of words in the loser headlines).\n",
    "- the difference in usage of positive words between winner and loser headlines.\n",
    "- the difference in usage of negative words between winner and loser headlines.\n",
    "- The difference in usage of each type of pronoun between winner and loser headlines.\n",
    "\n",
    "3.9 **Discuss:** According to the results obtained in **T3.8**, what headlines grab people's attention the most? Justify your answer.\n",
    "    \n",
    "---\n",
    "**Comments:**\n",
    "\n",
    "- Paired t-test formula: $t = \\frac{\\overline{x}_{\\mathrm{diff}}}{s_{\\mathrm{diff}} / \\sqrt n }$ where:\n",
    "    - $\\overline{x}_{\\mathrm{diff}}$ is the sample difference between the means of the matched sample; and\n",
    "    - $s_{\\mathrm{diff}}$ is the sample variance of the matched sample; and\n",
    "    - $n$ is the number of matched samples.\n",
    "    \n",
    "- Independent samples t-test formula: $t = \\frac{\\overline{x}_{1} - \\overline{x}_{2}}{\\sqrt{\\frac{s_{1}^{2}}{n_{1}} + \\frac{s_{2}^{2}}{n_{2}}}}$ where:\n",
    "    - $\\overline{x}_{\\mathrm{1}}$ is the sample mean of the first group; and\n",
    "    - $s_{\\mathrm{1}}$ is the sample variance of the first group; and\n",
    "    - $n_1$ is the number of samples in the first group;\n",
    "    \n",
    "     \n",
    "- t-tests are valid for samples of non-normal distribution for large enough samples (a rule of thumb used is: n$\\geq$30)!"
   ]
  },
  {
   "cell_type": "markdown",
   "id": "8e0c7031",
   "metadata": {},
   "source": [
    "**3.1** First, we examine whether the winner headlines have more or fewer words than the loser headline. Conduct an independent sample t-test and paired t-test (see scipy.stats; for the independent sample t-test, assume equal variance). Also, calculate and print the mean difference between the number of words in the winner and the loser headlines."
   ]
  },
  {
   "cell_type": "code",
   "execution_count": 253,
   "id": "9b616307",
   "metadata": {
    "ExecuteTime": {
     "end_time": "2022-10-28T10:01:50.455163Z",
     "start_time": "2022-10-28T10:01:50.446179Z"
    }
   },
   "outputs": [
    {
     "name": "stdout",
     "output_type": "stream",
     "text": [
      "Independet sample t-test:\n"
     ]
    },
    {
     "data": {
      "text/plain": [
       "Ttest_indResult(statistic=7.935918556156672, pvalue=2.158660099169889e-15)"
      ]
     },
     "execution_count": 253,
     "metadata": {},
     "output_type": "execute_result"
    }
   ],
   "source": [
    "# Independet t-test\n",
    "from scipy import stats\n",
    "print(\"Independet sample t-test:\")\n",
    "stats.ttest_ind(data_2_3.numwords1, data_2_3.numwords2)"
   ]
  },
  {
   "cell_type": "code",
   "execution_count": 254,
   "id": "f0aa2308",
   "metadata": {
    "ExecuteTime": {
     "end_time": "2022-10-28T10:01:52.295732Z",
     "start_time": "2022-10-28T10:01:52.293050Z"
    }
   },
   "outputs": [
    {
     "name": "stdout",
     "output_type": "stream",
     "text": [
      "paries sample t-test:\n"
     ]
    },
    {
     "data": {
      "text/plain": [
       "Ttest_relResult(statistic=9.58714274727263, pvalue=1.0387263148179284e-21)"
      ]
     },
     "execution_count": 254,
     "metadata": {},
     "output_type": "execute_result"
    }
   ],
   "source": [
    "# Paries t-test\n",
    "print(\"paries sample t-test:\")\n",
    "stats.ttest_rel(data_2_3.numwords1, data_2_3.numwords2)"
   ]
  },
  {
   "cell_type": "code",
   "execution_count": 255,
   "id": "1cd754d6",
   "metadata": {
    "ExecuteTime": {
     "end_time": "2022-10-28T10:01:54.056857Z",
     "start_time": "2022-10-28T10:01:54.055130Z"
    }
   },
   "outputs": [
    {
     "name": "stdout",
     "output_type": "stream",
     "text": [
      "Mean difference between good headline and bad headline: 0.2747925973197187\n"
     ]
    }
   ],
   "source": [
    "nums_words_between_win_lose = data_2_3.numwords1.mean() - data_2_3.numwords2.mean()\n",
    "print(f\"Mean difference between good headline and bad headline: {nums_words_between_win_lose}\")\n"
   ]
  },
  {
   "cell_type": "markdown",
   "id": "7c50d0f8",
   "metadata": {},
   "source": [
    "**3.2** Are longer headlines more successful? Justify."
   ]
  },
  {
   "cell_type": "markdown",
   "id": "c8d459de",
   "metadata": {},
   "source": [
    "Yes, It is easy to see that in Independent and Parise t-test, the p-value is smaller than 0.05 (significant value). So it indicate whatever the two dataset is related or not related, it haven't identilcal average (expected) value. Besides, winner headline have 0.27 average words more than loser headline.\n",
    "\n",
    "\n",
    "\n"
   ]
  },
  {
   "cell_type": "markdown",
   "id": "79e7a8aa",
   "metadata": {},
   "source": [
    "**3.3** The [t-statistic](https://en.wikipedia.org/wiki/T-statistic) is the ratio of the departure of the estimated value of a parameter from its hypothesized value to its standard error. In a t-test, the higher the t-statistic, the more confidently we can reject the null hypothesis. Use `numpy.random` to create four samples, each of size 30:\n",
    "- $X \\sim Uniform(0,1)$\n",
    "- $Y \\sim Uniform(0,1)$\n",
    "- $Z = X/2 + Y/2 + 0.1$\n",
    "- $K = Y + 0.1$\n",
    "    "
   ]
  },
  {
   "cell_type": "code",
   "execution_count": 288,
   "id": "940cfa67",
   "metadata": {
    "ExecuteTime": {
     "end_time": "2022-10-28T12:24:56.856093Z",
     "start_time": "2022-10-28T12:24:56.851711Z"
    }
   },
   "outputs": [],
   "source": [
    "X = np.random.uniform(0,1,size=30)\n",
    "Y = np.random.uniform(0,1,size=30)\n",
    "Z = X/2 + Y/2 + 0.1\n",
    "K = Y + 0.1"
   ]
  },
  {
   "cell_type": "markdown",
   "id": "b722bd8d",
   "metadata": {},
   "source": [
    "3.4 **Discuss:** What are the expected values and the variance of $X$, $Y$, $Z$, and $K$? (You don't need to justify them!)\n",
    "\n",
    "expected value = 0.5; variance = 1/12"
   ]
  },
  {
   "cell_type": "markdown",
   "id": "6d7783ac",
   "metadata": {},
   "source": []
  },
  {
   "cell_type": "markdown",
   "id": "869f167f",
   "metadata": {},
   "source": [
    "**3.5** Run the following simulation 10000 times, storing the $p$-values for the tests at each run:\n",
    "- Sample new values  for $X$, $Y$, $Z$ and $K$ ($n=30$ each). \n",
    "- Run independent sample t-test (assuming equal variance) and paired t-test comparing $X$ and $Z$.\n",
    "-  Run independent sample t-test (assuming equal variance) and paired t-test comparing $X$ and $K$.\n"
   ]
  },
  {
   "cell_type": "code",
   "execution_count": 293,
   "id": "4665a939",
   "metadata": {
    "ExecuteTime": {
     "end_time": "2022-10-28T12:31:38.298646Z",
     "start_time": "2022-10-28T12:31:33.196967Z"
    },
    "scrolled": false
   },
   "outputs": [],
   "source": [
    "independent_Sample_Ttest_X_Z = []\n",
    "paired_Ttest_X_Z = []\n",
    "independent_Sample_Ttest_X_K = []\n",
    "paired_Ttest_X_K = []\n",
    "\n",
    "\n",
    "\n",
    "\n",
    "\n",
    "for i in range(10000):\n",
    "    sample_X = pd.DataFrame(X).sample(n=30, replace = True)\n",
    "    sample_Y = pd.DataFrame(Y).sample(n=30, replace = True)\n",
    "    sample_Z = pd.DataFrame(Z).sample(n=30, replace = True)\n",
    "    sample_K = pd.DataFrame(K).sample(n=30, replace = True)\n",
    "    \n",
    "    \n",
    "    independent_Sample_Ttest_X_Z.append(stats.ttest_ind(sample_X, sample_Z,equal_var=True)[1])\n",
    "    paired_Ttest_X_Z.append(stats.ttest_rel(sample_X, sample_Z)[1])\n",
    "    independent_Sample_Ttest_X_K.append(stats.ttest_ind(sample_X, sample_K,equal_var=True)[1])\n",
    "    paired_Ttest_X_K.append(stats.ttest_rel(sample_X, sample_K)[1])\n",
    "\n"
   ]
  },
  {
   "cell_type": "markdown",
   "id": "cfbd16de",
   "metadata": {},
   "source": [
    "**3.6** Recall that the power of a binary hypothesis test is the probability that the test correctly rejects the null hypothesis when the alternative hypothesis is true. Using the p-values and assuming that we reject the null hypothesis if $p < 0.05$, calculate the statistical power of:\n",
    "- The independent sample t-test comparing $X$ and $Z$.\n",
    "- The paired t-test comparing $X$ and $Z$.\n",
    "- The independent sample t-test comparing $X$ and $K$.\n",
    "- The paired t-test comparing $X$ and $K$."
   ]
  },
  {
   "cell_type": "code",
   "execution_count": 294,
   "id": "e2824e8a",
   "metadata": {
    "ExecuteTime": {
     "end_time": "2022-10-28T12:31:40.041949Z",
     "start_time": "2022-10-28T12:31:40.011866Z"
    }
   },
   "outputs": [
    {
     "name": "stdout",
     "output_type": "stream",
     "text": [
      "The independent sample t-test comparing X and Z: [0.2865]\n",
      "The paired t-test comparing X and Z: [0.2807]\n",
      "The independent sample t-test comparing X and K: [0.1762]\n",
      "The paired t-test comparing X and K: [0.1706]\n"
     ]
    }
   ],
   "source": [
    "n = 10000\n",
    "print(f'The independent sample t-test comparing X and Z: {sum((np.array(independent_Sample_Ttest_X_Z) < 0.05))/n}')\n",
    "\n",
    "print(f'The paired t-test comparing X and Z: {sum((np.array(paired_Ttest_X_Z) < 0.05))/n}')\n",
    "\n",
    "print(f'The independent sample t-test comparing X and K: {sum((np.array(independent_Sample_Ttest_X_K) < 0.05))/n}')\n",
    "\n",
    "print(f'The paired t-test comparing X and K: {sum((np.array(paired_Ttest_X_K) < 0.05))/n}')\n"
   ]
  },
  {
   "cell_type": "markdown",
   "id": "6969df0e",
   "metadata": {
    "ExecuteTime": {
     "end_time": "2022-10-28T07:06:35.160298Z",
     "start_time": "2022-10-28T07:06:35.154641Z"
    }
   },
   "source": [
    "3.7 **Discuss:** When are paired t-tests helpful? Justify.\n",
    "\n",
    "判断两组数据是否来自同一个分布的样本。"
   ]
  },
  {
   "cell_type": "markdown",
   "id": "a54701f2",
   "metadata": {},
   "source": [
    "**3.8** With a bootstrapping approach (implemented by yourself, you should not use existing bootstrapping functions), estimate the average difference and 95% confidence intervals for:\n",
    "- the mean ratio between the number of words in the winner headline and the loser headline (i.e., the number of words in the winner headline divided by the number of words in the loser headlines).\n",
    "- the difference in usage of positive words between winner and loser headlines.\n",
    "- the difference in usage of negative words between winner and loser headlines.\n",
    "- The difference in usage of each type of pronoun between winner and loser headlines.\n"
   ]
  },
  {
   "cell_type": "code",
   "execution_count": 259,
   "id": "0d36b7ca",
   "metadata": {
    "ExecuteTime": {
     "end_time": "2022-10-28T10:02:06.144302Z",
     "start_time": "2022-10-28T10:02:06.140950Z"
    }
   },
   "outputs": [],
   "source": [
    "def bootstrapping(array, num_of_iters: int, sample_rate: float, confidence_level: float, value='mean', replace=True,test=False, is_print=False):\n",
    "    \"\"\"array: takes in an array of your concern(numpy array)\n",
    "        num_of_iters: the number of iterations you want to bootstrap\n",
    "        sample_rate: the percentage of data to be sampled each time\n",
    "        confidence_level: the confidence interval, e.g. 95%(input as 0.95)\n",
    "        value: which value to calculate(be bootstrapped) mean / median\n",
    "        replace: takes a boolean, if we will replace or not\n",
    "        is_print: if print the mean and CI\n",
    "        \n",
    "        output: e.g. 95% confidence intervals of the mean\n",
    "\n",
    "        Author: ZHANG Yuyao\n",
    "        \"\"\"\n",
    "    if test:\n",
    "        # array = np.array(array)\n",
    "        if value=='mean':\n",
    "            true_value = np.mean(array)\n",
    "        elif value == 'median':\n",
    "            true_value = np.median(array)\n",
    "        print(f'The true value of {value} is {true_value}')\n",
    "\n",
    "    sample_value = []\n",
    "    data_len = len(array)\n",
    "    sample_len = int(data_len*sample_rate)\n",
    "    for i in range(num_of_iters):\n",
    "        y = np.random.choice(array.tolist(), sample_len, replace=replace)\n",
    "        if value=='mean':\n",
    "            value_ = np.mean(y)\n",
    "        elif value == 'median':\n",
    "            value_ = np.median(y)\n",
    "        sample_value.append(value_)\n",
    "\n",
    "    bs_value = np.mean(sample_value)\n",
    "\n",
    "    alpha = 1-confidence_level\n",
    "    sample_value = np.sort(sample_value)\n",
    "\n",
    "    left = np.percentile(sample_value, alpha*50)#(100/2)\n",
    "    right = np.percentile(sample_value, 100-alpha*50)\n",
    "    if is_print:\n",
    "        print(f'The {value} is {bs_value}.\\nAnd the {confidence_level} confidence interval for that is: ({left}, {right}).')\n",
    "    return bs_value, left, right"
   ]
  },
  {
   "cell_type": "code",
   "execution_count": 260,
   "id": "548b7c2b",
   "metadata": {
    "ExecuteTime": {
     "end_time": "2022-10-28T10:02:10.003158Z",
     "start_time": "2022-10-28T10:02:07.849012Z"
    }
   },
   "outputs": [
    {
     "name": "stdout",
     "output_type": "stream",
     "text": [
      "Below is about number of words in Headline:\n",
      "The mean is 1.0612792221552478.\n",
      "And the 0.95 confidence interval for that is: (1.046128438909742, 1.0772988541979318).\n",
      "-------------------------------------\n",
      "Below is about number of positive words in Headline:\n",
      "The mean is -0.0037996171027440966.\n",
      "And the 0.95 confidence interval for that is: (-0.03511486917677089, 0.027456924058710898).\n",
      "-------------------------------------\n",
      "Below is about number of negative words in Headline:\n",
      "The mean is 0.021851946394384175.\n",
      "And the 0.95 confidence interval for that is: (-0.008296107211231652, 0.05169112954690491).\n"
     ]
    }
   ],
   "source": [
    "print('Below is about number of words in Headline:')\n",
    "\n",
    "_ = bootstrapping((data_2_3.numwords1 / data_2_3.numwords2), num_of_iters=1000, sample_rate=0.1, confidence_level=0.95, is_print= True)\n",
    "\n",
    "# the difference in usage of positive words between winner and loser headlines.\n",
    "print('-------------------------------------')\n",
    "print('Below is about number of positive words in Headline:')\n",
    "_ = bootstrapping((data_2_3.positive1 - data_2_3.positive2), num_of_iters=1000, sample_rate=0.1, confidence_level=0.95, is_print= True)\n",
    "\n",
    "# the difference in usage of negative words between winner and loser headlines.\n",
    "print('-------------------------------------')\n",
    "print('Below is about number of negative words in Headline:')\n",
    "_ = bootstrapping((data_2_3.negative1 - data_2_3.negative2), num_of_iters=1000, sample_rate=0.1, confidence_level=0.95, is_print=True)"
   ]
  },
  {
   "cell_type": "code",
   "execution_count": 261,
   "id": "f48aade0",
   "metadata": {
    "ExecuteTime": {
     "end_time": "2022-10-28T10:02:15.233394Z",
     "start_time": "2022-10-28T10:02:11.722107Z"
    }
   },
   "outputs": [
    {
     "name": "stdout",
     "output_type": "stream",
     "text": [
      "-------------------------------------\n",
      "Below is about number of first_person_singular words in Headline:\n",
      "The mean is 0.004846202935545629.\n",
      "And the 0.95 confidence interval for that is: (-0.006381620931716656, 0.01595405232929164).\n",
      "-------------------------------------\n",
      "Below is about number of first_person_plural words in Headline:\n",
      "The mean is -0.0024505424377791957.\n",
      "And the 0.95 confidence interval for that is: (-0.009572431397574984, 0.004467134652201659).\n",
      "-------------------------------------\n",
      "Below is about number of second_person words in Headline:\n",
      "The mean is 0.0014524569240587108.\n",
      "And the 0.95 confidence interval for that is: (-0.007035737077217599, 0.01021059349074665).\n",
      "-------------------------------------\n",
      "Below is about number of third_person_singular words in Headline:\n",
      "The mean is 0.0035232929164007655.\n",
      "And the 0.95 confidence interval for that is: (-0.012141033822590923, 0.021059349074664963).\n",
      "-------------------------------------\n",
      "Below is about number of third_person_plural words in Headline:\n",
      "The mean is 0.0017338864071474154.\n",
      "And the 0.95 confidence interval for that is: (-0.007657945118059987, 0.012125079770261647).\n"
     ]
    }
   ],
   "source": [
    "# The difference in usage of each type of pronoun between winner and loser headlines.\n",
    "print('-------------------------------------')\n",
    "print('Below is about number of first_person_singular words in Headline:')\n",
    "_ = bootstrapping((data_2_3.first_person_singular1 - data_2_3.first_person_singular2), num_of_iters=1000, sample_rate=0.1, confidence_level=0.95, is_print=True)\n",
    "\n",
    "print('-------------------------------------')\n",
    "print('Below is about number of first_person_plural words in Headline:')\n",
    "_ = bootstrapping((data_2_3.first_person_plural1 - data_2_3.first_person_plural2), num_of_iters=1000, sample_rate=0.1, confidence_level=0.95, is_print=True)\n",
    "\n",
    "print('-------------------------------------')\n",
    "print('Below is about number of second_person words in Headline:')\n",
    "_ = bootstrapping((data_2_3.second_person1 - data_2_3.second_person2), num_of_iters=1000, sample_rate=0.1, confidence_level=0.95, is_print=True)\n",
    "\n",
    "print('-------------------------------------')\n",
    "print('Below is about number of third_person_singular words in Headline:')\n",
    "_ = bootstrapping((data_2_3.third_person_singular1 - data_2_3.third_person_singular2), num_of_iters=1000, sample_rate=0.1, confidence_level=0.95, is_print=True)\n",
    "\n",
    "print('-------------------------------------')\n",
    "print('Below is about number of third_person_plural words in Headline:')\n",
    "_ = bootstrapping((data_2_3.third_person_plural1 - data_2_3.third_person_plural2), num_of_iters=1000, sample_rate=0.1, confidence_level=0.95, is_print=True)\n",
    "\n"
   ]
  },
  {
   "cell_type": "markdown",
   "id": "70888d20",
   "metadata": {},
   "source": [
    "## Task 4: Temporal validity and heterogeneity of the effect.\n",
    "\n",
    "Last, we investigate how the effects studied in **T3** change with time and how they might be heterogeneous across different types of news.\n",
    "\n",
    "4.1 Create a plot where you depict the monthly average number of words in winner and loser headlines. Consider only headlines created after April 2013 (the month of April inclusive). Include also bootstrapped 95% confidence intervals; here, you can use a third-party implementation if you want. Finally, recall that we created a column `date_created` which captures the creation of the winner headline; you can consider this date to correspond to the date of the creation of the A/B test.\n",
    "\n",
    "4.2 Produce similar plots to each pronoun category, as well as for positive and negative sentiment. Here, unlike in **T4.1**, depict the month averages pooled across winner and loser headlines (i.e., for each month, you calculate the average across both winners and loser headlines).\n",
    "Create all these plots in a single figure with no more than 11 inches of width and 11 inches of height. Again, consider only headlines created after April 2013 (the month of April inclusive).\n",
    "\n",
    "4.3 **Discuss:** Has the type of headline Upworthy used in their A/B tests changed with time? Are these changes likely to be producing more or less engaging headlines? Justify.\n",
    "\n",
    "4.4 Divide your data into two periods, $t_1$, which goes from  April 2013 (inclusive) to March 2014 (inclusive), and $t_2$, which goes from April 2014 (inclusive) to the latest A/B test in the data. Create a dataframe for A/B tests in each period.\n",
    "\n",
    "4.5 Let's examine if the effects observed remained the same throughout the study period. Use an appropriate methodology  of your choice to determine if the effects observed in **T3.8** (length, each category of pronouns, positive words, and negative words) were different in $t_1$ and $t_2$. Here, note that we are considering \"at least one positive outcome\" to be the manifestation of an underlying effect, thus significance level must be adjusted down when performing multiple hypothesis tests!\n",
    "\n",
    "4.6 **Discuss:** Hypothesize two reasons that could have led to a change in the observed effects. According to the analysis done in **T4.5**, have the effects observed remained the same across the study period? \n",
    "\n",
    "4.7 The features we are studying may interact with each other. For instance, people may like first person singular pronouns in headlines containing positive words (you are amazing!), but dislike headlines with negative words and first person pronouns (you are awful!). To help answer this question, create:\n",
    "- a dataframe containing all A/B tests where both winner and loser headlines include a positive word; and\n",
    "- a dataframe containing all A/B tests where both winner and loser headlines include a negative word;\n",
    "\n",
    "4.8 Using an appropriate methodology of your choice, determine if the effect of the use of first person singular pronouns in the headline is heterogeneous across headlines with positive words and negative words, i.e., is the effect significantly stronger for one of the dataframes created in **T4.7**? \n",
    "\n",
    "4.9 **Discuss:** Considering the analyses you did throughout Tasks 3 and 4, write a short text (no more than 250 words) giving advice to Upworthy employees on how they should try to write engaging headlines. \n",
    "You can reference images present in the notebook by indicating a task (e.g., image plotted in **T3.3**) or a cell number. Note that you do not need to conduct any additional analysis to write this text. \n"
   ]
  },
  {
   "cell_type": "markdown",
   "id": "0965c754",
   "metadata": {},
   "source": [
    "4.1 Create a plot where you depict the monthly average number of words in winner and loser headlines. Consider only headlines created after April 2013 (the month of April inclusive). Include also bootstrapped 95% confidence intervals; here, you can use a third-party implementation if you want. Finally, recall that we created a column `date_created` which captures the creation of the winner headline; you can consider this date to correspond to the date of the creation of the A/B test."
   ]
  },
  {
   "cell_type": "code",
   "execution_count": 262,
   "id": "c3f367e6",
   "metadata": {
    "ExecuteTime": {
     "end_time": "2022-10-28T10:02:19.014856Z",
     "start_time": "2022-10-28T10:02:16.981241Z"
    }
   },
   "outputs": [],
   "source": [
    "import datetime\n",
    "from datetime import date\n",
    "from dateutil.relativedelta import relativedelta\n",
    "\n",
    "one_day = datetime.timedelta(days=1)\n",
    "one_month = relativedelta(months=+1)\n",
    "\n",
    "start_date = date(2013,4,1)\n",
    "end_date = date(2015,4,30)\n",
    "# Until to 2014-02-22\n",
    "\n",
    "data_2_1['date_created'] = pd.to_datetime(data_2_1['date_created'])\n",
    "\n",
    "data_4_1 = pd.DataFrame(columns=['Date','win_mean','lose_mean','win_CI', 'lose_CI'])\n",
    "\n",
    "temp_win_CI_left = []\n",
    "temp_win_CI_right = []\n",
    "\n",
    "temp_lose_CI_left = []\n",
    "temp_lose_CI_right = []\n",
    "\n",
    "while start_date < end_date:\n",
    "    temp = data_2_1[(data_2_1['date_created'].dt.date >= start_date) & ((data_2_1['date_created'].dt.date < (start_date + one_month)))]\n",
    "    temp_date = start_date.strftime('%Y-%m')\n",
    "    temp_win_mean = temp.numwords1.mean()\n",
    "    temp_lose_mean = temp.numwords2.mean()\n",
    "    _, temp_Win_left, temp_Win_right = bootstrapping(temp.numwords1, num_of_iters=1000, sample_rate=0.1, confidence_level=0.95)\n",
    "    _, temp_Lose_left, temp_Lose_right = bootstrapping(temp.numwords2, num_of_iters=1000, sample_rate=0.1, confidence_level=0.95)\n",
    "    \n",
    "    new_temp = pd.DataFrame([[temp_date, temp_win_mean, temp_lose_mean,[temp_Win_left,temp_Win_right], [temp_Lose_left, temp_Lose_right]]], columns=['Date','win_mean','lose_mean','win_CI', 'lose_CI'])\n",
    "    data_4_1 = pd.concat([data_4_1, new_temp])\n",
    "    temp_win_CI_left.append(temp_Win_left)\n",
    "    temp_win_CI_right.append(temp_Win_right)\n",
    "    \n",
    "    \n",
    "    temp_lose_CI_left.append(temp_Lose_left)\n",
    "    temp_lose_CI_right.append(temp_Lose_right)\n",
    "    start_date = start_date + one_month\n",
    "    \n",
    "    \n",
    "    "
   ]
  },
  {
   "cell_type": "code",
   "execution_count": 263,
   "id": "cb5b2469",
   "metadata": {
    "ExecuteTime": {
     "end_time": "2022-10-28T10:02:20.914280Z",
     "start_time": "2022-10-28T10:02:20.785691Z"
    }
   },
   "outputs": [
    {
     "data": {
      "image/png": "[encoded data removed]",
      "text/plain": [
       "<Figure size 1080x720 with 1 Axes>"
      ]
     },
     "metadata": {
      "needs_background": "light"
     },
     "output_type": "display_data"
    }
   ],
   "source": [
    "plt.figure(figsize=(15,10))\n",
    "\n",
    "plt.plot(data_4_1.Date, data_4_1.win_mean, label='Win Headline')\n",
    "plt.fill_between(data_4_1.Date, temp_win_CI_right, temp_win_CI_left, color='blue', alpha=0.5)\n",
    "plt.plot(data_4_1.Date, data_4_1.lose_mean, label='Lose Headline')\n",
    "plt.fill_between(data_4_1.Date, temp_lose_CI_right, temp_lose_CI_left, color='orange', alpha=0.5)\n",
    "plt.legend(loc='lower right')\n",
    "plt.ylabel('Num of Words')\n",
    "plt.xlabel('Date')\n",
    "plt.xticks(rotation=45)\n",
    "plt.show()"
   ]
  },
  {
   "cell_type": "markdown",
   "id": "98800fcb",
   "metadata": {},
   "source": [
    "**4.2**  Produce similar plots to each pronoun category, as well as for positive and negative sentiment. Here, unlike in T4.1, depict the month averages pooled across winner and loser headlines (i.e., for each month, you calculate the average across both winners and loser headlines). Create all these plots in a single figure with no more than 11 inches of width and 11 inches of height. Again, consider only headlines created after April 2013 (the month of April inclusive)."
   ]
  },
  {
   "cell_type": "code",
   "execution_count": 264,
   "id": "254fb43e",
   "metadata": {
    "ExecuteTime": {
     "end_time": "2022-10-28T10:02:22.678112Z",
     "start_time": "2022-10-28T10:02:22.675890Z"
    }
   },
   "outputs": [],
   "source": [
    "data_4_2 = pd.DataFrame(columns=['Date', 'first_person_singular1', 'first_person_singular2', 'first_person_plural1', 'first_person_plural2', 'second_person1', 'second_person2', 'third_person_singular1', 'third_person_singular2', 'third_person_plural1', 'third_person_plural2', 'positive1', 'positive2', 'negative1', 'negative2'])"
   ]
  },
  {
   "cell_type": "code",
   "execution_count": 265,
   "id": "7bd64408",
   "metadata": {
    "ExecuteTime": {
     "end_time": "2022-10-28T10:02:24.563841Z",
     "start_time": "2022-10-28T10:02:24.413202Z"
    }
   },
   "outputs": [],
   "source": [
    "one_day = datetime.timedelta(days=1)\n",
    "one_month = relativedelta(months=+1)\n",
    "\n",
    "start_date = date(2013,4,1)\n",
    "end_date = date(2015,4,30)\n",
    "# Until to 2014-02-22\n",
    "\n",
    "\n",
    "\n",
    "\n",
    "while start_date < end_date:\n",
    "    temp = data_compare_headline[(data_compare_headline['date_created'].dt.date >= start_date) & ((data_compare_headline['date_created'].dt.date < (start_date + one_month)))]\n",
    "    temp_date = start_date.strftime('%Y-%m')\n",
    "    first_person_singular1_mean = temp.first_person_singular1.mean()\n",
    "    first_person_singular2_mean = temp.first_person_singular2.mean()\n",
    "    first_person_plural1_mean = temp.first_person_plural1.mean()\n",
    "    first_person_plural2_mean = temp.first_person_plural2.mean()\n",
    "    second_person1_mean = temp.second_person1.mean()\n",
    "    second_person2_mean = temp.second_person2.mean()\n",
    "    third_person_singular1_mean = temp.third_person_singular1.mean()\n",
    "    third_person_singular2_mean = temp.third_person_singular2.mean()\n",
    "    third_person_plural1_mean = temp.third_person_plural1.mean()\n",
    "    third_person_plural2_mean = temp.third_person_plural2.mean()\n",
    "    positive1_mean = temp.positive1.mean()\n",
    "    positive2_mean = temp.positive2.mean()\n",
    "    negative1_mean = temp.negative1.mean()\n",
    "    negative2_mean = temp.negative2.mean()\n",
    "    \n",
    "    \n",
    "    \n",
    "\n",
    "    new_temp = pd.DataFrame([[temp_date, first_person_singular1_mean, first_person_singular2_mean, \n",
    "                              first_person_plural1_mean, first_person_plural2_mean, second_person1_mean, \n",
    "                              second_person2_mean, third_person_singular1_mean, third_person_singular2_mean, \n",
    "                              third_person_plural1_mean, third_person_plural2_mean, positive1_mean, \n",
    "                              positive2_mean, negative1_mean, negative2_mean]], \n",
    "                            columns=['Date', 'first_person_singular1', 'first_person_singular2', \n",
    "                                     'first_person_plural1', 'first_person_plural2', 'second_person1', \n",
    "                                     'second_person2', 'third_person_singular1', 'third_person_singular2', \n",
    "                                     'third_person_plural1', 'third_person_plural2', 'positive1', 'positive2', \n",
    "                                     'negative1', 'negative2'])\n",
    "    data_4_2 = pd.concat([data_4_2, new_temp])\n",
    "    start_date = start_date + one_month"
   ]
  },
  {
   "cell_type": "code",
   "execution_count": 266,
   "id": "eca358ac",
   "metadata": {
    "ExecuteTime": {
     "end_time": "2022-10-28T10:02:26.788615Z",
     "start_time": "2022-10-28T10:02:26.302894Z"
    }
   },
   "outputs": [
    {
     "name": "stderr",
     "output_type": "stream",
     "text": [
      "/var/folders/s7/54k45_1544j5xllpj50wg60h0000gn/T/ipykernel_2922/670373236.py:9: UserWarning: FixedFormatter should only be used together with FixedLocator\n",
      "  ax.set_xticklabels(data_4_2.Date,rotation=45)\n",
      "/var/folders/s7/54k45_1544j5xllpj50wg60h0000gn/T/ipykernel_2922/670373236.py:9: UserWarning: FixedFormatter should only be used together with FixedLocator\n",
      "  ax.set_xticklabels(data_4_2.Date,rotation=45)\n",
      "/var/folders/s7/54k45_1544j5xllpj50wg60h0000gn/T/ipykernel_2922/670373236.py:9: UserWarning: FixedFormatter should only be used together with FixedLocator\n",
      "  ax.set_xticklabels(data_4_2.Date,rotation=45)\n",
      "/var/folders/s7/54k45_1544j5xllpj50wg60h0000gn/T/ipykernel_2922/670373236.py:9: UserWarning: FixedFormatter should only be used together with FixedLocator\n",
      "  ax.set_xticklabels(data_4_2.Date,rotation=45)\n",
      "/var/folders/s7/54k45_1544j5xllpj50wg60h0000gn/T/ipykernel_2922/670373236.py:9: UserWarning: FixedFormatter should only be used together with FixedLocator\n",
      "  ax.set_xticklabels(data_4_2.Date,rotation=45)\n",
      "/var/folders/s7/54k45_1544j5xllpj50wg60h0000gn/T/ipykernel_2922/670373236.py:9: UserWarning: FixedFormatter should only be used together with FixedLocator\n",
      "  ax.set_xticklabels(data_4_2.Date,rotation=45)\n",
      "/var/folders/s7/54k45_1544j5xllpj50wg60h0000gn/T/ipykernel_2922/670373236.py:9: UserWarning: FixedFormatter should only be used together with FixedLocator\n",
      "  ax.set_xticklabels(data_4_2.Date,rotation=45)\n"
     ]
    },
    {
     "data": {
      "image/png": "[encoded data removed]",
      "text/plain": [
       "<Figure size 1080x1080 with 9 Axes>"
      ]
     },
     "metadata": {
      "needs_background": "light"
     },
     "output_type": "display_data"
    }
   ],
   "source": [
    "p_e_column = [ 'first_person_singular', 'first_person_plural',  'second_person', 'third_person_singular',  \n",
    "                                     'third_person_plural', 'positive', 'negative']\n",
    "\n",
    "fig, axex = plt.subplots(3, 3, figsize=(15,15))\n",
    "fig.suptitle('Different pronounce and emotion word')\n",
    "for i, title in zip(range(7), p_e_column):\n",
    "    ax = axex[i//3][i%3]\n",
    "    ax.plot(data_4_2.Date, (data_4_2.iloc[:,i*2+1]) + data_4_2.iloc[:,(i+1)*2])\n",
    "    ax.set_xticklabels(data_4_2.Date,rotation=45)\n",
    "    ax.set_title(title)"
   ]
  },
  {
   "cell_type": "markdown",
   "id": "d6da7148",
   "metadata": {},
   "source": [
    "**4.3** Discuss: Has the type of headline Upworthy used in their A/B tests changed with time? Are these changes likely to be producing more or less engaging headlines? Justify."
   ]
  },
  {
   "cell_type": "markdown",
   "id": "2aa17448",
   "metadata": {},
   "source": [
    "Positive, negative words decrease than before"
   ]
  },
  {
   "cell_type": "markdown",
   "id": "b126ddc0",
   "metadata": {},
   "source": [
    "**4.4** Divide your data into two periods, $t_1$, which goes from  April 2013 (inclusive) to March 2014 (inclusive), and $t_2$, which goes from April 2014 (inclusive) to the latest A/B test in the data. Create a dataframe for A/B tests in each period."
   ]
  },
  {
   "cell_type": "code",
   "execution_count": 267,
   "id": "91c057c9",
   "metadata": {
    "ExecuteTime": {
     "end_time": "2022-10-28T10:02:28.576259Z",
     "start_time": "2022-10-28T10:02:28.563312Z"
    }
   },
   "outputs": [],
   "source": [
    "start_date = date(2013,4,1)\n",
    "end_date = date(2014,3,31)\n",
    "data_2_3['date_created'] = pd.to_datetime(data_2_3['date_created'])\n",
    "data_4_4_t1 = data_2_3[(data_2_3['date_created'].dt.date >= start_date) & ((data_2_3['date_created'].dt.date < (start_date + one_month)))]\n",
    "\n",
    "start_date = date(2014,4,1)\n",
    "data_4_4_t2 = data_2_3[(data_2_3['date_created'].dt.date >= start_date)]"
   ]
  },
  {
   "cell_type": "markdown",
   "id": "6e1133e8",
   "metadata": {},
   "source": [
    "4.5 Let's examine if the effects observed remained the same throughout the study period. Use an appropriate methodology  of your choice to determine if the effects observed in **T3.8** (length, each category of pronouns, positive words, and negative words) were different in $t_1$ and $t_2$. Here, note that we are considering \"at least one positive outcome\" to be the manifestation of an underlying effect, thus significance level must be adjusted down when performing multiple hypothesis tests!\n"
   ]
  },
  {
   "cell_type": "code",
   "execution_count": null,
   "id": "cf018075",
   "metadata": {},
   "outputs": [],
   "source": []
  },
  {
   "cell_type": "markdown",
   "id": "917af4a6",
   "metadata": {},
   "source": [
    "4.7 The features we are studying may interact with each other. For instance, people may like first person singular pronouns in headlines containing positive words (you are amazing!), but dislike headlines with negative words and first person pronouns (you are awful!). To help answer this question, create:\n",
    "- a dataframe containing all A/B tests where both winner and loser headlines include a positive word; and\n",
    "- a dataframe containing all A/B tests where both winner and loser headlines include a negative word;"
   ]
  },
  {
   "cell_type": "code",
   "execution_count": 268,
   "id": "814c8cde",
   "metadata": {
    "ExecuteTime": {
     "end_time": "2022-10-28T10:02:30.350897Z",
     "start_time": "2022-10-28T10:02:30.347770Z"
    }
   },
   "outputs": [],
   "source": [
    "data_4_7_p = data_2_3[(data_2_3['positive1'] == 1) & (data_2_3['positive2'] == 1)]\n",
    "data_4_7_n = data_2_3[(data_2_3['negative1'] == 1) & (data_2_3['negative2'] == 1)]"
   ]
  },
  {
   "cell_type": "markdown",
   "id": "c663a31a",
   "metadata": {},
   "source": [
    "4.8 Using an appropriate methodology of your choice, determine if the effect of the use of first person singular pronouns in the headline is heterogeneous across headlines with positive words and negative words, i.e., is the effect significantly stronger for one of the dataframes created in **T4.7**? "
   ]
  },
  {
   "cell_type": "code",
   "execution_count": null,
   "id": "819c4cdb",
   "metadata": {},
   "outputs": [],
   "source": []
  }
 ],
 "metadata": {
  "hide_input": false,
  "kernelspec": {
   "display_name": "Python [conda env:py39]",
   "language": "python",
   "name": "conda-env-py39-py"
  },
  "language_info": {
   "codemirror_mode": {
    "name": "ipython",
    "version": 3
   },
   "file_extension": ".py",
   "mimetype": "text/x-python",
   "name": "python",
   "nbconvert_exporter": "python",
   "pygments_lexer": "ipython3",
   "version": "3.9.12"
  },
  "toc": {
   "base_numbering": 1,
   "nav_menu": {},
   "number_sections": true,
   "sideBar": true,
   "skip_h1_title": false,
   "title_cell": "Table of Contents",
   "title_sidebar": "Contents",
   "toc_cell": false,
   "toc_position": {},
   "toc_section_display": true,
   "toc_window_display": false
  },
  "varInspector": {
   "cols": {
    "lenName": 16,
    "lenType": 16,
    "lenVar": 40
   },
   "kernels_config": {
    "python": {
     "delete_cmd_postfix": "",
     "delete_cmd_prefix": "del ",
     "library": "var_list.py",
     "varRefreshCmd": "print(var_dic_list())"
    },
    "r": {
     "delete_cmd_postfix": ") ",
     "delete_cmd_prefix": "rm(",
     "library": "var_list.r",
     "varRefreshCmd": "cat(var_dic_list()) "
    }
   },
   "types_to_exclude": [
    "module",
    "function",
    "builtin_function_or_method",
    "instance",
    "_Feature"
   ],
   "window_display": false
  }
 },
 "nbformat": 4,
 "nbformat_minor": 5
}
